{
 "cells": [
  {
   "cell_type": "markdown",
   "metadata": {},
   "source": [
    "# Run Tesseract on the DexRay algorithm"
   ]
  },
  {
   "cell_type": "code",
   "execution_count": 29,
   "metadata": {},
   "outputs": [],
   "source": [
    "# Standard library imports\n",
    "import argparse\n",
    "import csv\n",
    "import datetime\n",
    "import os\n",
    "import random as python_random\n",
    "import sys\n",
    "from datetime import datetime\n",
    "\n",
    "import matplotlib.pyplot as plt\n",
    "import numpy as np\n",
    "from PIL import Image\n",
    "import tensorflow as tf\n",
    "import tensorflow.keras as keras\n",
    "from tensorflow.keras.layers import Conv1D, MaxPooling1D, Flatten, Dense\n",
    "from tensorflow.keras.models import Sequential\n",
    "import seaborn as sns\n",
    "\n",
    "# Optional import (commented)\n",
    "# import tensorflow_addons as tfa\n",
    "\n",
    "# Local imports\n",
    "from tesseract import evaluation, metrics, mock, temporal, spatial\n",
    "\n",
    "\n",
    "random_seed = 123456"
   ]
  },
  {
   "cell_type": "code",
   "execution_count": 37,
   "metadata": {},
   "outputs": [],
   "source": [
    "APK_METADATA_PATH = \"../data/metadata.csv\"\n",
    "\n",
    "GOODWARE_PATH = \"/home/laura/Code/DexRay/apk_images/goodware\"\n",
    "MALWARE_PATH = \"/home/laura/Code/DexRay/apk_images/malware\"\n",
    "\n",
    "IMG_SIZE=128"
   ]
  },
  {
   "cell_type": "markdown",
   "metadata": {},
   "source": [
    "### Helper Functions \n",
    "\n",
    "First helper function `get_date_time_from_hash()` to extract the date and time from the metadata.csv file given the hash of the APK."
   ]
  },
  {
   "cell_type": "code",
   "execution_count": 16,
   "metadata": {},
   "outputs": [
    {
     "name": "stdout",
     "output_type": "stream",
     "text": [
      "Timestamp: 2019-03-17 10:56:47\n"
     ]
    }
   ],
   "source": [
    "def get_date_time_from_hash(search_hash):\n",
    "    \"\"\"\n",
    "    Retrieves the `dex_date` for the given hash and formats it as a timestamp.\n",
    "    \n",
    "    Args:\n",
    "        file_path (str): Path to the CSV file.\n",
    "        search_hash (str): The hash to search for.\n",
    "    \n",
    "    Returns:\n",
    "        datetime: The formatted timestamp or None if the hash is not found.\n",
    "    \"\"\"\n",
    "    with open(APK_METADATA_PATH, 'r') as csv_file:\n",
    "        reader = csv.DictReader(csv_file, fieldnames=[\n",
    "            'sha256', 'sha1', 'md5', 'date_time', 'number1',\n",
    "            'package', 'number2', 'number3', 'dex_date', 'number4', 'source'\n",
    "        ])\n",
    "        for row in reader:\n",
    "            if row['sha256'] == search_hash:\n",
    "                try:\n",
    "                    # Convert dex_date to the required format\n",
    "                    timestamp = datetime.strptime(row['dex_date'], '%Y-%m-%d %H:%M:%S')\n",
    "                    return timestamp\n",
    "                except ValueError as e:\n",
    "                    print(f\"Error parsing date: {e}\")\n",
    "                    return None\n",
    "    return None\n",
    "\n",
    "# Example usage:\n",
    "search_hash = \"0ABC4725E1470A5B9032F531310A4CF7ABDFFD28465FE12ECB7732A6528C609C\"\n",
    "timestamp = get_date_time_from_hash(search_hash)\n",
    "print(f\"Timestamp: {timestamp}\")"
   ]
  },
  {
   "cell_type": "markdown",
   "metadata": {},
   "source": [
    "Second helper function `load_images()` to load and preprocess the grayscale images into a numpy array X."
   ]
  },
  {
   "cell_type": "code",
   "execution_count": 38,
   "metadata": {},
   "outputs": [],
   "source": [
    "def load_images(\n",
    "    image_dir: str, image_size=(IMG_SIZE, IMG_SIZE)\n",
    "):\n",
    "    \"\"\"\n",
    "    Load and preprocess grayscale images from a directory into a numpy array,\n",
    "    flattening each image into a one-dimensional array.\n",
    "\n",
    "    Args:\n",
    "        directory_path (str): Path to the directory containing .png images.\n",
    "        image_size (tuple): Tuple specifying the desired size (width, height).\n",
    "\n",
    "    Returns:\n",
    "        np.ndarray: A 2D array where each row is a flattened image (num_images, num_pixels).\n",
    "    \"\"\"\n",
    "    images = [] # X, array containing all images \n",
    "    labels = [] # y, array containing which class the image belongs to\n",
    "    temp = [] # temp, array for all dates (temp)\n",
    "\n",
    "    for file_name in sorted(os.listdir(image_dir)):  # Ensure reproducible order\n",
    "        \n",
    "        if not file_name.endswith('.png'):\n",
    "            continue\n",
    "        \n",
    "        img_path = os.path.join(image_dir, file_name)\n",
    "        img = Image.open(img_path).convert('L')  # Convert to grayscale\n",
    "        img = img.resize(image_size)  # Resize to uniform size\n",
    "        img_array = np.array(img).flatten()  # Convert to numpy array and flatten\n",
    "        img_array = img_array[:, np.newaxis]  # Add a new axis for shape (num_pixels, 1)\n",
    "        images.append(img_array)\n",
    "\n",
    "        labels.append(0) if 'goodware' in image_dir else labels.append(1)\n",
    "        \n",
    "        apk_date = get_date_time_from_hash(file_name[:-4]) # might need to change to [:-8] to ignore .apk.png\n",
    "        temp.append(apk_date)\n",
    "\n",
    "    return np.stack(images), np.array(labels), np.array(temp)"
   ]
  },
  {
   "cell_type": "markdown",
   "metadata": {},
   "source": [
    "### Extract X, y and temp"
   ]
  },
  {
   "cell_type": "code",
   "execution_count": 35,
   "metadata": {},
   "outputs": [
    {
     "name": "stdout",
     "output_type": "stream",
     "text": [
      "Shape of Goodware X: (57, 16384, 1)\n",
      "Shape of Malware X: (42, 16384, 1)\n",
      "Shape of X: (99, 16384, 1)\n",
      "\n",
      "Shape of y: (99,), Shape of temp: (99,)\n"
     ]
    }
   ],
   "source": [
    "X1, l1, t1 = load_images(GOODWARE_PATH)\n",
    "X2, l2, t2 = load_images(MALWARE_PATH)\n",
    "\n",
    "print(f\"Shape of Goodware X: {X1.shape}\")  \n",
    "print(f\"Shape of Malware X: {X2.shape}\") \n",
    "\n",
    "X = np.concatenate((X1, X2), axis=0)\n",
    "print(f\"Shape of X: {X.shape}\") \n",
    "\n",
    "y = np.concatenate((l1, l2), axis=0)\n",
    "temp = np.concatenate((t1, t2), axis=0)\n",
    "print(f\"\\nShape of y: {y.shape}, Shape of temp: {temp.shape}\") \n",
    "\n",
    "# Normalise X and make sure y has the correct type\n",
    "X = X.astype('float32') / 255.0 \n",
    "y = y.astype('float32')  # Ensure correct dtype"
   ]
  },
  {
   "cell_type": "code",
   "execution_count": 36,
   "metadata": {},
   "outputs": [
    {
     "data": {
      "image/png": "[encoded data removed]",
      "text/plain": [
       "<Figure size 640x480 with 1 Axes>"
      ]
     },
     "metadata": {},
     "output_type": "display_data"
    }
   ],
   "source": [
    "_ = plt.hist(temp, bins=100)\n",
    "plt.show()"
   ]
  },
  {
   "cell_type": "markdown",
   "metadata": {},
   "source": [
    "### Create DexRay Model with Keras"
   ]
  },
  {
   "cell_type": "code",
   "execution_count": 40,
   "metadata": {},
   "outputs": [],
   "source": [
    "model_architecture = Sequential()\n",
    "model_architecture.add(\n",
    "    Conv1D(\n",
    "        filters=64,\n",
    "        kernel_size=12,\n",
    "        activation=\"relu\",\n",
    "        input_shape=(IMG_SIZE * IMG_SIZE, 1),\n",
    "    )\n",
    ")\n",
    "model_architecture.add(MaxPooling1D(pool_size=12))\n",
    "model_architecture.add(Conv1D(filters=128, kernel_size=12, activation=\"relu\"))\n",
    "model_architecture.add(MaxPooling1D(pool_size=12))\n",
    "model_architecture.add(Flatten())\n",
    "model_architecture.add(Dense(64, activation=\"sigmoid\"))\n",
    "model_architecture.add(Dense(1, activation=\"sigmoid\"))\n",
    "\n",
    "model = keras.models.clone_model(model_architecture)\n",
    "model.compile(\n",
    "    optimizer=\"adam\",\n",
    "    loss=tf.keras.losses.BinaryCrossentropy(),\n",
    ")"
   ]
  },
  {
   "cell_type": "markdown",
   "metadata": {},
   "source": [
    "### Tesseract\n",
    "\n",
    "Split the data with Tesseract's `time_aware_train_test_split`"
   ]
  },
  {
   "cell_type": "code",
   "execution_count": 49,
   "metadata": {},
   "outputs": [
    {
     "name": "stdout",
     "output_type": "stream",
     "text": [
      "X_train: 46\n",
      "X_test: 9\n"
     ]
    }
   ],
   "source": [
    "splits = temporal.time_aware_train_test_split(\n",
    "    X, y, temp, train_size=6, test_size=1, granularity='month'\n",
    ")\n",
    "X_train, X_test, y_train, y_test, t_train, t_test = splits\n",
    "\n",
    "print(f\"X_train: {len(X_train)}\") # Sanity Check\n",
    "print(f\"X_test: {len(X_test)}\") # Sanity Check"
   ]
  },
  {
   "cell_type": "code",
   "execution_count": 50,
   "metadata": {},
   "outputs": [
    {
     "name": "stderr",
     "output_type": "stream",
     "text": [
      "0it [00:00, ?it/s]"
     ]
    },
    {
     "name": "stdout",
     "output_type": "stream",
     "text": [
      "2/2 [==============================] - 2s 221ms/step - loss: 0.6725\n",
      "1/1 [==============================] - 0s 469ms/step\n"
     ]
    },
    {
     "name": "stderr",
     "output_type": "stream",
     "text": [
      "/home/laura/.pyenv/versions/3.10.15/envs/tesseract/lib/python3.10/site-packages/scikit_learn-1.6.0rc1-py3.10-linux-x86_64.egg/sklearn/metrics/_classification.py:1528: UndefinedMetricWarning: Precision is ill-defined and being set to 0.0 due to no predicted samples. Use `zero_division` parameter to control this behavior.\n",
      "  _warn_prf(average, modifier, f\"{metric.capitalize()} is\", len(result))\n",
      "1it [00:03,  3.10s/it]"
     ]
    },
    {
     "name": "stdout",
     "output_type": "stream",
     "text": [
      "1/1 [==============================] - 0s 142ms/step\n"
     ]
    },
    {
     "name": "stderr",
     "output_type": "stream",
     "text": [
      "/home/laura/.pyenv/versions/3.10.15/envs/tesseract/lib/python3.10/site-packages/scikit_learn-1.6.0rc1-py3.10-linux-x86_64.egg/sklearn/metrics/_classification.py:1528: UndefinedMetricWarning: Precision is ill-defined and being set to 0.0 due to no predicted samples. Use `zero_division` parameter to control this behavior.\n",
      "  _warn_prf(average, modifier, f\"{metric.capitalize()} is\", len(result))\n",
      "2it [00:03,  1.68s/it]"
     ]
    },
    {
     "name": "stdout",
     "output_type": "stream",
     "text": [
      "1/1 [==============================] - 0s 245ms/step\n"
     ]
    },
    {
     "name": "stderr",
     "output_type": "stream",
     "text": [
      "/home/laura/.pyenv/versions/3.10.15/envs/tesseract/lib/python3.10/site-packages/scikit_learn-1.6.0rc1-py3.10-linux-x86_64.egg/sklearn/metrics/_classification.py:1528: UndefinedMetricWarning: Precision is ill-defined and being set to 0.0 due to no predicted samples. Use `zero_division` parameter to control this behavior.\n",
      "  _warn_prf(average, modifier, f\"{metric.capitalize()} is\", len(result))\n",
      "3it [00:03,  1.24s/it]"
     ]
    },
    {
     "name": "stdout",
     "output_type": "stream",
     "text": [
      "1/1 [==============================] - 0s 106ms/step\n"
     ]
    },
    {
     "name": "stderr",
     "output_type": "stream",
     "text": [
      "/home/laura/.pyenv/versions/3.10.15/envs/tesseract/lib/python3.10/site-packages/scikit_learn-1.6.0rc1-py3.10-linux-x86_64.egg/sklearn/metrics/_classification.py:1528: UndefinedMetricWarning: Precision is ill-defined and being set to 0.0 due to no predicted samples. Use `zero_division` parameter to control this behavior.\n",
      "  _warn_prf(average, modifier, f\"{metric.capitalize()} is\", len(result))\n",
      "4it [00:03,  1.02it/s]"
     ]
    },
    {
     "name": "stdout",
     "output_type": "stream",
     "text": [
      "1/1 [==============================] - 0s 137ms/step\n"
     ]
    },
    {
     "name": "stderr",
     "output_type": "stream",
     "text": [
      "/home/laura/.pyenv/versions/3.10.15/envs/tesseract/lib/python3.10/site-packages/scikit_learn-1.6.0rc1-py3.10-linux-x86_64.egg/sklearn/metrics/_classification.py:1528: UndefinedMetricWarning: Precision is ill-defined and being set to 0.0 due to no predicted samples. Use `zero_division` parameter to control this behavior.\n",
      "  _warn_prf(average, modifier, f\"{metric.capitalize()} is\", len(result))\n",
      "5it [00:04,  1.20it/s]"
     ]
    },
    {
     "name": "stdout",
     "output_type": "stream",
     "text": [
      "1/1 [==============================] - 0s 49ms/step\n"
     ]
    },
    {
     "name": "stderr",
     "output_type": "stream",
     "text": [
      "/home/laura/.pyenv/versions/3.10.15/envs/tesseract/lib/python3.10/site-packages/scikit_learn-1.6.0rc1-py3.10-linux-x86_64.egg/sklearn/metrics/_classification.py:1528: UndefinedMetricWarning: Precision is ill-defined and being set to 0.0 due to no predicted samples. Use `zero_division` parameter to control this behavior.\n",
      "  _warn_prf(average, modifier, f\"{metric.capitalize()} is\", len(result))\n",
      "6it [00:04,  1.39it/s]"
     ]
    },
    {
     "name": "stdout",
     "output_type": "stream",
     "text": [
      "1/1 [==============================] - 0s 212ms/step\n"
     ]
    },
    {
     "name": "stderr",
     "output_type": "stream",
     "text": [
      "/home/laura/.pyenv/versions/3.10.15/envs/tesseract/lib/python3.10/site-packages/scikit_learn-1.6.0rc1-py3.10-linux-x86_64.egg/sklearn/metrics/_classification.py:1528: UndefinedMetricWarning: Precision is ill-defined and being set to 0.0 due to no predicted samples. Use `zero_division` parameter to control this behavior.\n",
      "  _warn_prf(average, modifier, f\"{metric.capitalize()} is\", len(result))\n",
      "7it [00:04,  1.50it/s]"
     ]
    },
    {
     "name": "stdout",
     "output_type": "stream",
     "text": [
      "1/1 [==============================] - 0s 135ms/step\n"
     ]
    },
    {
     "name": "stderr",
     "output_type": "stream",
     "text": [
      "/home/laura/.pyenv/versions/3.10.15/envs/tesseract/lib/python3.10/site-packages/scikit_learn-1.6.0rc1-py3.10-linux-x86_64.egg/sklearn/metrics/_classification.py:1528: UndefinedMetricWarning: Precision is ill-defined and being set to 0.0 due to no predicted samples. Use `zero_division` parameter to control this behavior.\n",
      "  _warn_prf(average, modifier, f\"{metric.capitalize()} is\", len(result))\n",
      "8it [00:04,  1.63it/s]"
     ]
    },
    {
     "name": "stdout",
     "output_type": "stream",
     "text": [
      "1/1 [==============================] - 0s 90ms/step\n"
     ]
    },
    {
     "name": "stderr",
     "output_type": "stream",
     "text": [
      "/home/laura/.pyenv/versions/3.10.15/envs/tesseract/lib/python3.10/site-packages/scikit_learn-1.6.0rc1-py3.10-linux-x86_64.egg/sklearn/metrics/_ranking.py:375: UndefinedMetricWarning: Only one class is present in y_true. ROC AUC score is not defined in that case.\n",
      "  warnings.warn(\n",
      "/home/laura/.pyenv/versions/3.10.15/envs/tesseract/lib/python3.10/site-packages/scikit_learn-1.6.0rc1-py3.10-linux-x86_64.egg/sklearn/metrics/_classification.py:1528: UndefinedMetricWarning: Precision is ill-defined and being set to 0.0 due to no predicted samples. Use `zero_division` parameter to control this behavior.\n",
      "  _warn_prf(average, modifier, f\"{metric.capitalize()} is\", len(result))\n",
      "/home/laura/.pyenv/versions/3.10.15/envs/tesseract/lib/python3.10/site-packages/scikit_learn-1.6.0rc1-py3.10-linux-x86_64.egg/sklearn/metrics/_classification.py:1528: UndefinedMetricWarning: Recall is ill-defined and being set to 0.0 due to no true samples. Use `zero_division` parameter to control this behavior.\n",
      "  _warn_prf(average, modifier, f\"{metric.capitalize()} is\", len(result))\n",
      "9it [00:05,  1.77it/s]\n"
     ]
    }
   ],
   "source": [
    "results = evaluation.fit_predict_update(model, *splits)"
   ]
  },
  {
   "cell_type": "code",
   "execution_count": 51,
   "metadata": {},
   "outputs": [
    {
     "name": "stdout",
     "output_type": "stream",
     "text": [
      "------------+---------------------------------------------------------------\n",
      "Test period |     1      2      3      4      5      6      7      8      9   \n",
      "------------+---------------------------------------------------------------\n",
      "Actual pos  |      6      7      2      4      2      2      1      1      1\n",
      "Actual neg  |      6      6      6      3      1      1      3      1      0\n",
      "Total       |     12     13      8      7      3      3      4      2      1\n",
      "------------+---------------------------------------------------------------\n",
      "TPR         |  0.000  0.000  0.000  0.000  0.000  0.000  0.000  0.000  0.000\n",
      "FPR         |  0.000  0.000  0.000  0.000  0.000  0.000  0.000  0.000    nan\n",
      "TNR         |  1.000  1.000  1.000  1.000  1.000  1.000  1.000  1.000    nan\n",
      "FNR         |  1.000  1.000  1.000  1.000  1.000  1.000  1.000  1.000  1.000\n",
      "AUC ROC     |  0.917  0.429  0.500  1.000  1.000  0.000  0.667  1.000    nan\n",
      "------------+---------------------------------------------------------------\n",
      "Precision   |  0.000  0.000  0.000  0.000  0.000  0.000  0.000  0.000  0.000\n",
      "Recall      |  0.000  0.000  0.000  0.000  0.000  0.000  0.000  0.000  0.000\n",
      "F1          |  0.000  0.000  0.000  0.000  0.000  0.000  0.000  0.000  0.000\n",
      "------------+---------------------------------------------------------------\n"
     ]
    }
   ],
   "source": [
    "metrics.print_metrics(results)"
   ]
  }
 ],
 "metadata": {
  "kernelspec": {
   "display_name": "tesseract",
   "language": "python",
   "name": "python3"
  },
  "language_info": {
   "codemirror_mode": {
    "name": "ipython",
    "version": 3
   },
   "file_extension": ".py",
   "mimetype": "text/x-python",
   "name": "python",
   "nbconvert_exporter": "python",
   "pygments_lexer": "ipython3",
   "version": "3.10.15"
  }
 },
 "nbformat": 4,
 "nbformat_minor": 2
}
