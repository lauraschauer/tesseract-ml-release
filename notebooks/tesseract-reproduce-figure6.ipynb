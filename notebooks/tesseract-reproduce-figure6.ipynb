{
 "cells": [
  {
   "cell_type": "markdown",
   "id": "bc609079",
   "metadata": {},
   "source": [
    "Tesseract Overview\n",
    "-----------------------\n",
    "\n",
    "This notebook is supposed to provide a brief overview over the Tesseract framework (and might be later adapted to Transcend as well).\n",
    "\n",
    "\n",
    "    ├── tesseract             <- Main folder\n",
    "    │   ├── mock.py           <- Module for generating test distributions for use with Tesseract\n",
    "    │   ├── evaluation.py     <- This is the class where the magic happens  ;)\n",
    "    │   ├── metrics.py        <- Various methods to calculate and output metrics (including AUT)\n",
    "    │   └── ...\n",
    "\n",
    "**TODO**: Extend this description\n",
    "\n",
    "## Running this Notebook \n",
    "\n",
    "1. Run `make data` to pull the necessary data files. \n",
    "2. Reproduce Drebin graph from paper (Figure 5)"
   ]
  },
  {
   "cell_type": "markdown",
   "id": "ce9574a7",
   "metadata": {},
   "source": [
    "---"
   ]
  },
  {
   "cell_type": "code",
   "execution_count": 1,
   "id": "852264a5",
   "metadata": {},
   "outputs": [],
   "source": [
    "import os\n",
    "import json\n",
    "import numpy as np\n",
    "from datetime import datetime\n",
    "from sklearn.feature_extraction import DictVectorizer\n",
    "\n",
    "PROJ_ROOT = os.path.abspath(os.path.join(os.pardir))\n",
    "DATA_PATH = os.path.join(PROJ_ROOT, 'data', 'processed')\n",
    "\n",
    "features_file, labels_file, meta_file = os.path.join(DATA_PATH, 'drebin-parrot-v2-down-features-X.json'), os.path.join(DATA_PATH, 'drebin-parrot-v2-down-features-Y.json'), os.path.join(DATA_PATH, 'drebin-parrot-v2-down-features-meta.json')\n",
    "\n",
    "with open(features_file) as json_file:\n",
    "    D = json.load(json_file)\n",
    "    for datapoint in D:\n",
    "        del datapoint['sha256']\n",
    "    vec = DictVectorizer()  \n",
    "    X = vec.fit_transform(D) # transform key-value (JSON) into sparse feature vector\n",
    "    \n",
    "with open(labels_file) as json_file:\n",
    "    labels = json.load(json_file)\n",
    "    y = np.array([l[0] for l in labels])\n",
    "    \n",
    "with open(meta_file) as json_file:\n",
    "    meta = json.load(json_file)\n",
    "    t = list()\n",
    "    for m in meta:\n",
    "        timestamp = datetime.strptime(m['dex_date'], '%Y-%m-%dT%H:%M:%S')\n",
    "        t.append(timestamp)\n",
    "    t = np.array(t)"
   ]
  },
  {
   "cell_type": "code",
   "execution_count": 29,
   "id": "a4e983bd",
   "metadata": {},
   "outputs": [],
   "source": [
    "from tesseract import evaluation, temporal, metrics, mock\n",
    "\n",
    "# Partition dataset\n",
    "splits = temporal.time_aware_train_test_split(X, y, t, train_size=12, test_size=1, granularity='month')"
   ]
  },
  {
   "cell_type": "code",
   "execution_count": null,
   "id": "b3e9972e",
   "metadata": {},
   "outputs": [
    {
     "name": "stderr",
     "output_type": "stream",
     "text": [
      "0it [00:00, ?it/s]/home/laura/.pyenv/versions/3.10.15/envs/tesseract/lib/python3.10/site-packages/scikit_learn-1.6.0rc1-py3.10-linux-x86_64.egg/sklearn/svm/_base.py:1243: ConvergenceWarning: Liblinear failed to converge, increase the number of iterations.\n",
      "  warnings.warn(\n",
      "24it [00:11,  2.03it/s]"
     ]
    },
    {
     "name": "stdout",
     "output_type": "stream",
     "text": [
      "------------+------------------------------------------------------------------------------------------------------------------------------------------------------------------------\n",
      "Test period |     1      2      3      4      5      6      7      8      9     10     11     12     13     14     15     16     17     18     19     20     21     22     23     24   \n",
      "------------+------------------------------------------------------------------------------------------------------------------------------------------------------------------------\n",
      "Actual pos  |    144    129    215    183    221    216    275    272    354    313    374    369    344    476    635    612    452    278    352    564    148     81     23      8\n",
      "Actual neg  |   1564   1231   1888   1838   1953   2098   2521   2768   3077   2932   3010   3289   3478   3959   5818   6368   4052   2806   3027   4881   1377    758    190     67\n",
      "Total       |   1708   1360   2103   2021   2174   2314   2796   3040   3431   3245   3384   3658   3822   4435   6453   6980   4504   3084   3379   5445   1525    839    213     75\n",
      "------------+------------------------------------------------------------------------------------------------------------------------------------------------------------------------\n",
      "TPR         |  0.764  0.713  0.744  0.667  0.674  0.500  0.589  0.621  0.593  0.546  0.500  0.393  0.358  0.334  0.337  0.289  0.367  0.342  0.415  0.378  0.453  0.432  0.304  0.125\n",
      "FPR         |  0.017  0.018  0.026  0.019  0.005  0.012  0.010  0.016  0.015  0.014  0.015  0.010  0.013  0.010  0.015  0.011  0.016  0.017  0.019  0.022  0.017  0.026  0.026  0.015\n",
      "TNR         |  0.983  0.982  0.974  0.981  0.995  0.988  0.990  0.984  0.985  0.986  0.985  0.990  0.987  0.990  0.985  0.989  0.984  0.983  0.981  0.978  0.983  0.974  0.974  0.985\n",
      "FNR         |  0.236  0.287  0.256  0.333  0.326  0.500  0.411  0.379  0.407  0.454  0.500  0.607  0.642  0.666  0.663  0.711  0.633  0.658  0.585  0.622  0.547  0.568  0.696  0.875\n",
      "------------+------------------------------------------------------------------------------------------------------------------------------------------------------------------------\n",
      "Precision   |  0.809  0.807  0.766  0.777  0.943  0.812  0.866  0.793  0.817  0.807  0.810  0.819  0.732  0.807  0.713  0.722  0.719  0.660  0.723  0.670  0.736  0.636  0.583  0.500\n",
      "Recall      |  0.764  0.713  0.744  0.667  0.674  0.500  0.589  0.621  0.593  0.546  0.500  0.393  0.358  0.334  0.337  0.289  0.367  0.342  0.415  0.378  0.453  0.432  0.304  0.125\n",
      "F1          |  0.786  0.757  0.755  0.718  0.786  0.619  0.701  0.697  0.687  0.651  0.618  0.531  0.480  0.473  0.458  0.413  0.486  0.450  0.527  0.483  0.561  0.515  0.400  0.200\n",
      "------------+------------------------------------------------------------------------------------------------------------------------------------------------------------------------\n",
      "0.5765016554216945\n"
     ]
    },
    {
     "name": "stderr",
     "output_type": "stream",
     "text": [
      "\n"
     ]
    }
   ],
   "source": [
    "from sklearn.svm import LinearSVC\n",
    "\n",
    "# Perform a timeline evaluation\n",
    "clf = LinearSVC()\n",
    "results_10 = evaluation.fit_predict_update(clf, *splits)\n",
    "    \n",
    "# View results \n",
    "metrics.print_metrics(results_10)"
   ]
  },
  {
   "cell_type": "code",
   "execution_count": 42,
   "id": "df0db176",
   "metadata": {},
   "outputs": [
    {
     "name": "stdout",
     "output_type": "stream",
     "text": [
      "Robustness over time (measured in AUT): 0.5765016554216945\n"
     ]
    }
   ],
   "source": [
    "print(f\"Robustness over time (measured in AUT): {metrics.aut(results_10, 'f1')}\")"
   ]
  },
  {
   "cell_type": "code",
   "execution_count": 32,
   "id": "dc33b722",
   "metadata": {},
   "outputs": [
    {
     "name": "stdout",
     "output_type": "stream",
     "text": [
      "F1 AUT: 0.5765016554216945\n",
      "Recall AUT: 0.47799905859644776\n",
      "Precision AUT: 0.7553576222129668\n"
     ]
    },
    {
     "data": {
      "image/png": "[encoded data removed]",
      "text/plain": [
       "<Figure size 640x480 with 1 Axes>"
      ]
     },
     "metadata": {},
     "output_type": "display_data"
    }
   ],
   "source": [
    "print(f\"F1 AUT: {metrics.aut(results_10, 'f1')}\")\n",
    "print(f\"Recall AUT: {metrics.aut(results_10, 'recall')}\")\n",
    "print(f\"Precision AUT: {metrics.aut(results_10, 'precision')}\")\n",
    "#%%\n",
    "from pylab import *\n",
    "\n",
    "pendleblue='#1f8fff'\n",
    "pendleyellow='#ffa600'\n",
    "\n",
    "'#FF9999', '#FFDD99', '#AAEEEE'\n",
    "plot(results_10['precision'], marker='o', color=pendleyellow)\n",
    "plot(results_10['recall'], marker='o', color='red')\n",
    "plot(results_10['f1'], marker='o', color=pendleblue)\n",
    "legend(['Precision', 'Recall', 'F1'])\n",
    "xlim([0,23])\n",
    "xlabel('Testing period (month)')\n",
    "ylabel('Performance')\n",
    "grid(axis = 'y')"
   ]
  },
  {
   "cell_type": "markdown",
   "id": "2867f0ae",
   "metadata": {},
   "source": [
    "### Reproducing Figure 6"
   ]
  },
  {
   "cell_type": "code",
   "execution_count": 46,
   "id": "ead4fffb",
   "metadata": {},
   "outputs": [],
   "source": [
    "# Finding the optimal malware ratio in training data\n",
    "from tesseract import spatial \n",
    "# extract splits because we'll need to access X, y and temp individually to find the # optimal malware percentage\n",
    "X_train, X_test, y_train, y_test, temp_train, temp_test = splits"
   ]
  },
  {
   "cell_type": "markdown",
   "id": "436b67a5",
   "metadata": {},
   "source": [
    "Figure out the accuracy of the classifier with 10% malware in the training data. We need the accuracy to set the acceptable error rate to 1 - accuracy for optimising for the F1-Score. "
   ]
  },
  {
   "cell_type": "code",
   "execution_count": 47,
   "id": "ca080e28",
   "metadata": {},
   "outputs": [
    {
     "name": "stdout",
     "output_type": "stream",
     "text": [
      "Overall Accuracy: 0.9331694171250764\n"
     ]
    }
   ],
   "source": [
    "tp_list = results_10['tp']\n",
    "tn_list = results_10['tn']\n",
    "fp_list = results_10['fp']\n",
    "fn_list = results_10['fn']\n",
    "\n",
    "# Sum the lists\n",
    "total_tp = sum(tp_list)\n",
    "total_tn = sum(tn_list)\n",
    "total_fp = sum(fp_list)\n",
    "total_fn = sum(fn_list)\n",
    "\n",
    "# Calculate accuracy\n",
    "accuracy = (total_tp + total_tn) / (total_tp + total_tn + total_fp + total_fn)\n",
    "print(f\"Overall Accuracy: {accuracy}\")"
   ]
  },
  {
   "cell_type": "markdown",
   "id": "ebb25d24",
   "metadata": {},
   "source": [
    "Run the `find_optimal_train_ratio()` function to find the optimal training ratio. According to the Tesseract paper, they did this using 8 months of training data and 4 months (split into chunks of 1 month) testing data.\n",
    "\n",
    "`X_train` and `y_train` contain the apps for a year, since when we ran the `time_aware_train_test_split`, we set the parameter of `train_size` to 12 with a granularity of `months`."
   ]
  },
  {
   "cell_type": "code",
   "execution_count": 50,
   "id": "8667661f",
   "metadata": {},
   "outputs": [
    {
     "name": "stderr",
     "output_type": "stream",
     "text": [
      "0it [00:00, ?it/s]/home/laura/.pyenv/versions/3.10.15/envs/tesseract/lib/python3.10/site-packages/scikit_learn-1.6.0rc1-py3.10-linux-x86_64.egg/sklearn/svm/_base.py:1243: ConvergenceWarning: Liblinear failed to converge, increase the number of iterations.\n",
      "  warnings.warn(\n",
      "4it [00:07,  1.90s/it]\n",
      "0it [00:00, ?it/s]/home/laura/.pyenv/versions/3.10.15/envs/tesseract/lib/python3.10/site-packages/scikit_learn-1.6.0rc1-py3.10-linux-x86_64.egg/sklearn/svm/_base.py:1243: ConvergenceWarning: Liblinear failed to converge, increase the number of iterations.\n",
      "  warnings.warn(\n",
      "4it [00:04,  1.02s/it]\n",
      "0it [00:00, ?it/s]/home/laura/.pyenv/versions/3.10.15/envs/tesseract/lib/python3.10/site-packages/scikit_learn-1.6.0rc1-py3.10-linux-x86_64.egg/sklearn/svm/_base.py:1243: ConvergenceWarning: Liblinear failed to converge, increase the number of iterations.\n",
      "  warnings.warn(\n",
      "4it [00:02,  1.38it/s]\n",
      "0it [00:00, ?it/s]/home/laura/.pyenv/versions/3.10.15/envs/tesseract/lib/python3.10/site-packages/scikit_learn-1.6.0rc1-py3.10-linux-x86_64.egg/sklearn/svm/_base.py:1243: ConvergenceWarning: Liblinear failed to converge, increase the number of iterations.\n",
      "  warnings.warn(\n",
      "4it [00:02,  1.47it/s]\n",
      "0it [00:00, ?it/s]/home/laura/.pyenv/versions/3.10.15/envs/tesseract/lib/python3.10/site-packages/scikit_learn-1.6.0rc1-py3.10-linux-x86_64.egg/sklearn/svm/_base.py:1243: ConvergenceWarning: Liblinear failed to converge, increase the number of iterations.\n",
      "  warnings.warn(\n",
      "4it [00:02,  1.77it/s]\n",
      "0it [00:00, ?it/s]/home/laura/.pyenv/versions/3.10.15/envs/tesseract/lib/python3.10/site-packages/scikit_learn-1.6.0rc1-py3.10-linux-x86_64.egg/sklearn/svm/_base.py:1243: ConvergenceWarning: Liblinear failed to converge, increase the number of iterations.\n",
      "  warnings.warn(\n",
      "4it [00:01,  2.17it/s]\n",
      "0it [00:00, ?it/s]/home/laura/.pyenv/versions/3.10.15/envs/tesseract/lib/python3.10/site-packages/scikit_learn-1.6.0rc1-py3.10-linux-x86_64.egg/sklearn/svm/_base.py:1243: ConvergenceWarning: Liblinear failed to converge, increase the number of iterations.\n",
      "  warnings.warn(\n",
      "4it [00:01,  2.37it/s]\n",
      "0it [00:00, ?it/s]/home/laura/.pyenv/versions/3.10.15/envs/tesseract/lib/python3.10/site-packages/scikit_learn-1.6.0rc1-py3.10-linux-x86_64.egg/sklearn/svm/_base.py:1243: ConvergenceWarning: Liblinear failed to converge, increase the number of iterations.\n",
      "  warnings.warn(\n",
      "4it [00:01,  2.52it/s]\n",
      "0it [00:00, ?it/s]/home/laura/.pyenv/versions/3.10.15/envs/tesseract/lib/python3.10/site-packages/scikit_learn-1.6.0rc1-py3.10-linux-x86_64.egg/sklearn/svm/_base.py:1243: ConvergenceWarning: Liblinear failed to converge, increase the number of iterations.\n",
      "  warnings.warn(\n",
      "4it [00:01,  3.15it/s]"
     ]
    },
    {
     "name": "stdout",
     "output_type": "stream",
     "text": [
      "Optimal malware training ratio: 0.15000000000000002\n"
     ]
    },
    {
     "name": "stderr",
     "output_type": "stream",
     "text": [
      "\n"
     ]
    }
   ],
   "source": [
    "spatial_clf = LinearSVC()\n",
    "optimal_malware_training_ratio, aut, error_rate = spatial.find_optimal_train_ratio(\n",
    "    spatial_clf, \n",
    "    X_train, \n",
    "    y_train, \n",
    "    temp_train, \n",
    "    proper_train_size=8, # measured in units of `granularity`, taken from X_train, which has 12 months in total\n",
    "    validation_size=1, # the remaining 4 months, validate 4 times with a validation window of 1 month\n",
    "    granularity=\"month\", \n",
    "    start_tr_rate=0.1, # % of malware in training to start with\n",
    "    acceptable_errors=0.1,\n",
    "    end_tr_rate=0.5 # Stop at max 50% malware\n",
    ")\n",
    "print(f\"Optimal malware training ratio: {optimal_malware_training_ratio}\")"
   ]
  },
  {
   "cell_type": "code",
   "execution_count": 48,
   "id": "743f0c19",
   "metadata": {},
   "outputs": [
    {
     "name": "stderr",
     "output_type": "stream",
     "text": [
      "0it [00:00, ?it/s]/home/laura/.pyenv/versions/3.10.15/envs/tesseract/lib/python3.10/site-packages/scikit_learn-1.6.0rc1-py3.10-linux-x86_64.egg/sklearn/svm/_base.py:1243: ConvergenceWarning: Liblinear failed to converge, increase the number of iterations.\n",
      "  warnings.warn(\n",
      "4it [00:06,  1.63s/it]\n",
      "0it [00:00, ?it/s]/home/laura/.pyenv/versions/3.10.15/envs/tesseract/lib/python3.10/site-packages/scikit_learn-1.6.0rc1-py3.10-linux-x86_64.egg/sklearn/svm/_base.py:1243: ConvergenceWarning: Liblinear failed to converge, increase the number of iterations.\n",
      "  warnings.warn(\n",
      "4it [00:04,  1.14s/it]\n",
      "0it [00:00, ?it/s]/home/laura/.pyenv/versions/3.10.15/envs/tesseract/lib/python3.10/site-packages/scikit_learn-1.6.0rc1-py3.10-linux-x86_64.egg/sklearn/svm/_base.py:1243: ConvergenceWarning: Liblinear failed to converge, increase the number of iterations.\n",
      "  warnings.warn(\n",
      "4it [00:03,  1.02it/s]\n",
      "0it [00:00, ?it/s]/home/laura/.pyenv/versions/3.10.15/envs/tesseract/lib/python3.10/site-packages/scikit_learn-1.6.0rc1-py3.10-linux-x86_64.egg/sklearn/svm/_base.py:1243: ConvergenceWarning: Liblinear failed to converge, increase the number of iterations.\n",
      "  warnings.warn(\n",
      "4it [00:02,  1.53it/s]\n",
      "0it [00:00, ?it/s]/home/laura/.pyenv/versions/3.10.15/envs/tesseract/lib/python3.10/site-packages/scikit_learn-1.6.0rc1-py3.10-linux-x86_64.egg/sklearn/svm/_base.py:1243: ConvergenceWarning: Liblinear failed to converge, increase the number of iterations.\n",
      "  warnings.warn(\n",
      "4it [00:02,  1.49it/s]\n",
      "0it [00:00, ?it/s]/home/laura/.pyenv/versions/3.10.15/envs/tesseract/lib/python3.10/site-packages/scikit_learn-1.6.0rc1-py3.10-linux-x86_64.egg/sklearn/svm/_base.py:1243: ConvergenceWarning: Liblinear failed to converge, increase the number of iterations.\n",
      "  warnings.warn(\n",
      "4it [00:01,  2.18it/s]\n",
      "0it [00:00, ?it/s]/home/laura/.pyenv/versions/3.10.15/envs/tesseract/lib/python3.10/site-packages/scikit_learn-1.6.0rc1-py3.10-linux-x86_64.egg/sklearn/svm/_base.py:1243: ConvergenceWarning: Liblinear failed to converge, increase the number of iterations.\n",
      "  warnings.warn(\n",
      "4it [00:01,  2.22it/s]\n",
      "0it [00:00, ?it/s]/home/laura/.pyenv/versions/3.10.15/envs/tesseract/lib/python3.10/site-packages/scikit_learn-1.6.0rc1-py3.10-linux-x86_64.egg/sklearn/svm/_base.py:1243: ConvergenceWarning: Liblinear failed to converge, increase the number of iterations.\n",
      "  warnings.warn(\n",
      "4it [00:01,  2.49it/s]\n",
      "0it [00:00, ?it/s]/home/laura/.pyenv/versions/3.10.15/envs/tesseract/lib/python3.10/site-packages/scikit_learn-1.6.0rc1-py3.10-linux-x86_64.egg/sklearn/svm/_base.py:1243: ConvergenceWarning: Liblinear failed to converge, increase the number of iterations.\n",
      "  warnings.warn(\n",
      "4it [00:01,  2.78it/s]\n"
     ]
    }
   ],
   "source": [
    "spatial_clf = LinearSVC()\n",
    "rates = spatial.search_optimal_train_ratio(\n",
    "    spatial_clf, \n",
    "    X_train, \n",
    "    y_train, \n",
    "    temp_train, \n",
    "    proper_train_size=8, # measured in units of `granularity`\n",
    "    validation_size=1, \n",
    "    granularity=\"month\", \n",
    "    start_tr_rate=0.1, # % of malware in training to start with\n",
    "    end_tr_rate=0.5 # Stop at max 50% malware\n",
    ")"
   ]
  },
  {
   "cell_type": "code",
   "execution_count": 49,
   "id": "4f7fd617",
   "metadata": {},
   "outputs": [
    {
     "data": {
      "text/html": [
       "<div>\n",
       "<style scoped>\n",
       "    .dataframe tbody tr th:only-of-type {\n",
       "        vertical-align: middle;\n",
       "    }\n",
       "\n",
       "    .dataframe tbody tr th {\n",
       "        vertical-align: top;\n",
       "    }\n",
       "\n",
       "    .dataframe thead th {\n",
       "        text-align: right;\n",
       "    }\n",
       "</style>\n",
       "<table border=\"1\" class=\"dataframe\">\n",
       "  <thead>\n",
       "    <tr style=\"text-align: right;\">\n",
       "      <th></th>\n",
       "      <th>errors</th>\n",
       "      <th>auts</th>\n",
       "      <th>phis</th>\n",
       "      <th>fn</th>\n",
       "      <th>fp</th>\n",
       "      <th>total</th>\n",
       "    </tr>\n",
       "  </thead>\n",
       "  <tbody>\n",
       "    <tr>\n",
       "      <th>0</th>\n",
       "      <td>0.030958</td>\n",
       "      <td>0.792954</td>\n",
       "      <td>0.10</td>\n",
       "      <td>280.0</td>\n",
       "      <td>154.0</td>\n",
       "      <td>14019.0</td>\n",
       "    </tr>\n",
       "    <tr>\n",
       "      <th>1</th>\n",
       "      <td>0.031671</td>\n",
       "      <td>0.799286</td>\n",
       "      <td>0.15</td>\n",
       "      <td>236.0</td>\n",
       "      <td>208.0</td>\n",
       "      <td>14019.0</td>\n",
       "    </tr>\n",
       "    <tr>\n",
       "      <th>2</th>\n",
       "      <td>0.032313</td>\n",
       "      <td>0.791152</td>\n",
       "      <td>0.20</td>\n",
       "      <td>233.0</td>\n",
       "      <td>220.0</td>\n",
       "      <td>14019.0</td>\n",
       "    </tr>\n",
       "    <tr>\n",
       "      <th>3</th>\n",
       "      <td>0.032741</td>\n",
       "      <td>0.790583</td>\n",
       "      <td>0.25</td>\n",
       "      <td>232.0</td>\n",
       "      <td>227.0</td>\n",
       "      <td>14019.0</td>\n",
       "    </tr>\n",
       "    <tr>\n",
       "      <th>4</th>\n",
       "      <td>0.034239</td>\n",
       "      <td>0.788569</td>\n",
       "      <td>0.30</td>\n",
       "      <td>211.0</td>\n",
       "      <td>269.0</td>\n",
       "      <td>14019.0</td>\n",
       "    </tr>\n",
       "    <tr>\n",
       "      <th>5</th>\n",
       "      <td>0.037235</td>\n",
       "      <td>0.776554</td>\n",
       "      <td>0.35</td>\n",
       "      <td>225.0</td>\n",
       "      <td>297.0</td>\n",
       "      <td>14019.0</td>\n",
       "    </tr>\n",
       "    <tr>\n",
       "      <th>6</th>\n",
       "      <td>0.041800</td>\n",
       "      <td>0.761911</td>\n",
       "      <td>0.40</td>\n",
       "      <td>189.0</td>\n",
       "      <td>397.0</td>\n",
       "      <td>14019.0</td>\n",
       "    </tr>\n",
       "    <tr>\n",
       "      <th>7</th>\n",
       "      <td>0.043655</td>\n",
       "      <td>0.752907</td>\n",
       "      <td>0.45</td>\n",
       "      <td>187.0</td>\n",
       "      <td>425.0</td>\n",
       "      <td>14019.0</td>\n",
       "    </tr>\n",
       "    <tr>\n",
       "      <th>8</th>\n",
       "      <td>0.043298</td>\n",
       "      <td>0.766169</td>\n",
       "      <td>0.50</td>\n",
       "      <td>166.0</td>\n",
       "      <td>441.0</td>\n",
       "      <td>14019.0</td>\n",
       "    </tr>\n",
       "  </tbody>\n",
       "</table>\n",
       "</div>"
      ],
      "text/plain": [
       "     errors      auts  phis     fn     fp    total\n",
       "0  0.030958  0.792954  0.10  280.0  154.0  14019.0\n",
       "1  0.031671  0.799286  0.15  236.0  208.0  14019.0\n",
       "2  0.032313  0.791152  0.20  233.0  220.0  14019.0\n",
       "3  0.032741  0.790583  0.25  232.0  227.0  14019.0\n",
       "4  0.034239  0.788569  0.30  211.0  269.0  14019.0\n",
       "5  0.037235  0.776554  0.35  225.0  297.0  14019.0\n",
       "6  0.041800  0.761911  0.40  189.0  397.0  14019.0\n",
       "7  0.043655  0.752907  0.45  187.0  425.0  14019.0\n",
       "8  0.043298  0.766169  0.50  166.0  441.0  14019.0"
      ]
     },
     "execution_count": 49,
     "metadata": {},
     "output_type": "execute_result"
    }
   ],
   "source": [
    "import pandas as pd \n",
    "\n",
    "rates = pd.DataFrame(rates)\n",
    "rates"
   ]
  },
  {
   "cell_type": "markdown",
   "id": "ecfe1ed6",
   "metadata": {},
   "source": [
    "Okay, now we figured out that the AUT score is the highest with a malware percentage of 25%. So we can retrain our classifier with 25% of malware in the training data. "
   ]
  },
  {
   "cell_type": "code",
   "execution_count": 38,
   "id": "151917bb",
   "metadata": {},
   "outputs": [],
   "source": [
    "# Redo splitting\n",
    "X_train, X_test, y_train, y_test, temp_train, temp_test = temporal.time_aware_train_test_split(X, y, t, train_size=8, test_size=1, granularity='month')\n",
    "\n",
    "# Downsample so that there's 25% malware in the training data\n",
    "train_idxs = spatial.downsample_to_rate(y_train, 0.25)\n",
    "\n",
    "X_train = X_train[train_idxs]\n",
    "y_train = y_train[train_idxs]\n",
    "temp_train = temp_train[train_idxs]"
   ]
  },
  {
   "cell_type": "code",
   "execution_count": 39,
   "id": "1dca6308",
   "metadata": {},
   "outputs": [
    {
     "name": "stderr",
     "output_type": "stream",
     "text": [
      "0it [00:00, ?it/s]/home/laura/.pyenv/versions/3.10.15/envs/tesseract/lib/python3.10/site-packages/scikit_learn-1.6.0rc1-py3.10-linux-x86_64.egg/sklearn/svm/_base.py:1243: ConvergenceWarning: Liblinear failed to converge, increase the number of iterations.\n",
      "  warnings.warn(\n",
      "28it [00:03,  7.14it/s]\n"
     ]
    }
   ],
   "source": [
    "# Train a new classifier \n",
    "clf = LinearSVC() \n",
    "results_25 = evaluation.fit_predict_update(clf, X_train, X_test, y_train, y_test, temp_train, temp_test)"
   ]
  },
  {
   "cell_type": "code",
   "execution_count": 51,
   "id": "078e2cc4",
   "metadata": {},
   "outputs": [
    {
     "name": "stdout",
     "output_type": "stream",
     "text": [
      "------------+----------------------------------------------------------------------------------------------------------------------------------------------------------------------------------------------------\n",
      "Test period |     1      2      3      4      5      6      7      8      9     10     11     12     13     14     15     16     17     18     19     20     21     22     23     24     25     26     27     28   \n",
      "------------+----------------------------------------------------------------------------------------------------------------------------------------------------------------------------------------------------\n",
      "Actual pos  |    399    591    145    147    144    129    215    183    221    216    275    272    354    313    374    369    344    476    635    612    452    278    352    564    148     81     23      8\n",
      "Actual neg  |   4176   6345   1305   1444   1564   1231   1888   1838   1953   2098   2521   2768   3077   2932   3010   3289   3478   3959   5818   6368   4052   2806   3027   4881   1377    758    190     67\n",
      "Total       |   4575   6936   1450   1591   1708   1360   2103   2021   2174   2314   2796   3040   3431   3245   3384   3658   3822   4435   6453   6980   4504   3084   3379   5445   1525    839    213     75\n",
      "------------+----------------------------------------------------------------------------------------------------------------------------------------------------------------------------------------------------\n",
      "TPR         |  0.855  0.843  0.779  0.701  0.688  0.574  0.758  0.694  0.670  0.611  0.738  0.765  0.695  0.709  0.676  0.610  0.587  0.527  0.537  0.404  0.520  0.457  0.534  0.521  0.568  0.556  0.304  0.125\n",
      "FPR         |  0.016  0.018  0.024  0.035  0.047  0.025  0.026  0.021  0.018  0.026  0.020  0.030  0.025  0.023  0.033  0.020  0.023  0.020  0.021  0.023  0.023  0.030  0.030  0.026  0.035  0.026  0.042  0.015\n",
      "TNR         |  0.984  0.982  0.976  0.965  0.953  0.975  0.974  0.979  0.982  0.974  0.980  0.970  0.975  0.977  0.967  0.980  0.977  0.980  0.979  0.977  0.977  0.970  0.970  0.974  0.965  0.974  0.958  0.985\n",
      "FNR         |  0.145  0.157  0.221  0.299  0.312  0.426  0.242  0.306  0.330  0.389  0.262  0.235  0.305  0.291  0.324  0.390  0.413  0.473  0.463  0.596  0.480  0.543  0.466  0.479  0.432  0.444  0.696  0.875\n",
      "------------+----------------------------------------------------------------------------------------------------------------------------------------------------------------------------------------------------\n",
      "Precision   |  0.840  0.812  0.785  0.669  0.576  0.705  0.769  0.765  0.804  0.706  0.802  0.712  0.762  0.766  0.717  0.773  0.714  0.761  0.735  0.625  0.714  0.605  0.671  0.698  0.636  0.692  0.467  0.500\n",
      "Recall      |  0.855  0.843  0.779  0.701  0.688  0.574  0.758  0.694  0.670  0.611  0.738  0.765  0.695  0.709  0.676  0.610  0.587  0.527  0.537  0.404  0.520  0.457  0.534  0.521  0.568  0.556  0.304  0.125\n",
      "F1          |  0.847  0.827  0.782  0.684  0.627  0.632  0.763  0.728  0.731  0.655  0.769  0.738  0.727  0.736  0.696  0.682  0.644  0.623  0.621  0.491  0.602  0.520  0.595  0.597  0.600  0.616  0.368  0.200\n",
      "------------+----------------------------------------------------------------------------------------------------------------------------------------------------------------------------------------------------\n"
     ]
    }
   ],
   "source": [
    "metrics.print_metrics(results_25)"
   ]
  },
  {
   "cell_type": "code",
   "execution_count": 53,
   "id": "c81757d7",
   "metadata": {},
   "outputs": [
    {
     "name": "stdout",
     "output_type": "stream",
     "text": [
      "New robustness over time (measured in AUT): 0.5765016554216945\n"
     ]
    }
   ],
   "source": [
    "print(f\"New robustness over time (measured in AUT): {metrics.aut(results_10, 'f1')}\")"
   ]
  },
  {
   "cell_type": "code",
   "execution_count": 41,
   "id": "b615bbbc",
   "metadata": {},
   "outputs": [
    {
     "data": {
      "image/png": "[encoded data removed]",
      "text/plain": [
       "<Figure size 640x480 with 1 Axes>"
      ]
     },
     "metadata": {},
     "output_type": "display_data"
    }
   ],
   "source": [
    "# Reproduce the plot \n",
    "\n",
    "plot(results_10['f1'], marker='x', color='gray')\n",
    "plot(results_25['f1'], marker='o', color=pendleblue)\n",
    "legend(['F1 10%', 'F1 25%'])\n",
    "xlim([0, 23])\n",
    "ylim([0, 1])\n",
    "xlabel('Testing period (month)')\n",
    "ylabel('F1 Score')\n",
    "grid(axis = 'y')"
   ]
  }
 ],
 "metadata": {
  "kernelspec": {
   "display_name": "tesseract",
   "language": "python",
   "name": "python3"
  },
  "language_info": {
   "codemirror_mode": {
    "name": "ipython",
    "version": 3
   },
   "file_extension": ".py",
   "mimetype": "text/x-python",
   "name": "python",
   "nbconvert_exporter": "python",
   "pygments_lexer": "ipython3",
   "version": "3.10.15"
  }
 },
 "nbformat": 4,
 "nbformat_minor": 5
}
