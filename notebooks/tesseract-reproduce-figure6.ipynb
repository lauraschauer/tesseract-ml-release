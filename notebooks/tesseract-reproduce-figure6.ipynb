{
 "cells": [
  {
   "cell_type": "markdown",
   "id": "ce9574a7",
   "metadata": {},
   "source": [
    "---"
   ]
  },
  {
   "cell_type": "markdown",
   "id": "84969033",
   "metadata": {},
   "source": [
    "# Reproduce Figure 6 \n",
    "\n",
    "Figure 6 in the paper shows the impact of the percentage of malware in the\n",
    "training data. The paper shows that a realistic percentage of malware is around\n",
    "~10% of apps. However, having exactly 10% of malware in the training data might\n",
    "not always yield the best performance. \n",
    "\n",
    "We can tune the algorithm by checking the F1-Scores of the Drebin and MaMaDroid\n",
    "classifiers using different percentage of malware. In the paper, the authors\n",
    "obtained the best performance for 25% of malware in the training set for Drebin\n",
    "and 50% of malware in the training set for MaMaDroid."
   ]
  },
  {
   "cell_type": "code",
   "execution_count": 3,
   "id": "46f636c3",
   "metadata": {},
   "outputs": [],
   "source": [
    "import os\n",
    "import json\n",
    "import numpy as np\n",
    "from datetime import datetime\n",
    "from sklearn.feature_extraction import DictVectorizer"
   ]
  },
  {
   "cell_type": "markdown",
   "id": "2867f0ae",
   "metadata": {},
   "source": [
    "## Drebin \n",
    "\n",
    "We start by loading our Drebin training data and performing the time-aware train\n",
    "and test split. "
   ]
  },
  {
   "cell_type": "code",
   "execution_count": 2,
   "id": "852264a5",
   "metadata": {},
   "outputs": [],
   "source": [
    "PROJ_ROOT = os.path.abspath(os.path.join(os.pardir))\n",
    "DATA_PATH = os.path.join(PROJ_ROOT, 'data', 'processed')\n",
    "\n",
    "features_file, labels_file, meta_file = os.path.join(DATA_PATH, 'drebin-parrot-v2-down-features-X.json'), os.path.join(DATA_PATH, 'drebin-parrot-v2-down-features-Y.json'), os.path.join(DATA_PATH, 'drebin-parrot-v2-down-features-meta.json')\n",
    "\n",
    "with open(features_file) as json_file:\n",
    "    D = json.load(json_file)\n",
    "    for datapoint in D:\n",
    "        del datapoint['sha256']\n",
    "    vec = DictVectorizer()  \n",
    "    X = vec.fit_transform(D) # transform key-value (JSON) into sparse feature vector\n",
    "    \n",
    "with open(labels_file) as json_file:\n",
    "    labels = json.load(json_file)\n",
    "    y = np.array([l[0] for l in labels])\n",
    "    \n",
    "with open(meta_file) as json_file:\n",
    "    meta = json.load(json_file)\n",
    "    t = list()\n",
    "    for m in meta:\n",
    "        timestamp = datetime.strptime(m['dex_date'], '%Y-%m-%dT%H:%M:%S')\n",
    "        t.append(timestamp)\n",
    "    t = np.array(t)"
   ]
  },
  {
   "cell_type": "code",
   "execution_count": 12,
   "id": "ca9529c9",
   "metadata": {},
   "outputs": [],
   "source": [
    "from sklearn.svm import LinearSVC\n",
    "\n",
    "from pylab import * \n",
    "import pandas as pd \n",
    "from tesseract import evaluation, temporal, metrics, mock"
   ]
  },
  {
   "cell_type": "code",
   "execution_count": 4,
   "id": "a4e983bd",
   "metadata": {},
   "outputs": [],
   "source": [
    "splits = temporal.time_aware_train_test_split(X, y, t, train_size=12, test_size=1, granularity='month')"
   ]
  },
  {
   "cell_type": "markdown",
   "id": "a3090943",
   "metadata": {},
   "source": [
    "### Training the model with 10% malware"
   ]
  },
  {
   "cell_type": "markdown",
   "id": "4a65e287",
   "metadata": {},
   "source": [
    "We train the model with 10% of malware, as done in\n",
    "`tesseract-reproduce-drebin.ipynb` and figure out its accuracy so that we can\n",
    "set the acceptable error rate to 1 - accuracy for optimising the F1-Score as\n",
    "shown in the paper."
   ]
  },
  {
   "cell_type": "code",
   "execution_count": 5,
   "id": "b3e9972e",
   "metadata": {},
   "outputs": [
    {
     "name": "stderr",
     "output_type": "stream",
     "text": [
      "0it [00:00, ?it/s]/home/users/mbenali/.conda/envs/tesseract/lib/python3.10/site-packages/scikit_learn-1.6.0rc1-py3.10-linux-x86_64.egg/sklearn/svm/_base.py:1243: ConvergenceWarning: Liblinear failed to converge, increase the number of iterations.\n",
      "  warnings.warn(\n",
      "24it [00:13,  1.80it/s]\n"
     ]
    }
   ],
   "source": [
    "clf = LinearSVC()\n",
    "results_10 = evaluation.fit_predict_update(clf, *splits)"
   ]
  },
  {
   "cell_type": "code",
   "execution_count": null,
   "id": "ead4fffb",
   "metadata": {},
   "outputs": [],
   "source": [
    "# Finding the optimal malware ratio in training data\n",
    "from tesseract import spatial \n",
    "# extract splits because we'll need to access X, y and temp individually to find the # optimal malware percentage\n",
    "X_train, X_test, y_train, y_test, temp_train, temp_test = splits"
   ]
  },
  {
   "cell_type": "markdown",
   "id": "436b67a5",
   "metadata": {},
   "source": [
    "Figure out the accuracy of the classifier with 10% malware in the training data. We need the accuracy to set the acceptable error rate to 1 - accuracy for optimising for the F1-Score. "
   ]
  },
  {
   "cell_type": "code",
   "execution_count": 7,
   "id": "ca080e28",
   "metadata": {},
   "outputs": [
    {
     "name": "stdout",
     "output_type": "stream",
     "text": [
      "Overall Accuracy: 0.9332249819414347\n"
     ]
    }
   ],
   "source": [
    "tp_list = results_10['tp']\n",
    "tn_list = results_10['tn']\n",
    "fp_list = results_10['fp']\n",
    "fn_list = results_10['fn']\n",
    "\n",
    "# Sum the lists\n",
    "total_tp = sum(tp_list)\n",
    "total_tn = sum(tn_list)\n",
    "total_fp = sum(fp_list)\n",
    "total_fn = sum(fn_list)\n",
    "\n",
    "# Calculate accuracy\n",
    "accuracy = (total_tp + total_tn) / (total_tp + total_tn + total_fp + total_fn)\n",
    "print(f\"Overall Accuracy: {accuracy}\")"
   ]
  },
  {
   "cell_type": "markdown",
   "id": "87aa223e",
   "metadata": {},
   "source": [
    "### Search for optimal malware ratio"
   ]
  },
  {
   "cell_type": "code",
   "execution_count": null,
   "id": "e471baac",
   "metadata": {},
   "outputs": [],
   "source": [
    "spatial_clf = LinearSVC()\n",
    "optimal_malware_training_ratio, aut, error_rate = spatial.find_optimal_train_ratio(\n",
    "    spatial_clf, \n",
    "    X_train, \n",
    "    y_train, \n",
    "    temp_train, \n",
    "    proper_train_size=8, # measured in units of `granularity`, taken from X_train, which has 12 months in total\n",
    "    validation_size=1, # the remaining 4 months, validate 4 times with a validation window of 1 month\n",
    "    granularity=\"month\", \n",
    "    start_tr_rate=0.1, # % of malware in training to start with\n",
    "    acceptable_errors=1-accuracy,\n",
    "    end_tr_rate=0.5 # Stop at max 50% malware\n",
    ")\n",
    "print(f\"Optimal malware training ratio: {optimal_malware_training_ratio}\")"
   ]
  },
  {
   "cell_type": "markdown",
   "id": "ebb25d24",
   "metadata": {},
   "source": [
    "Now we run the `search_optimal_train_ratio()` function to find the optimal\n",
    "training ratio. According to the Tesseract paper, the authors did this using 8 months\n",
    "of training data and 4 months (split into chunks of 1 month) testing data.\n",
    "\n",
    "`search_optimal_train_ratio()` returns an table showing the values for metric\n",
    "for each malware ratio. You can also use `find_optimal_train_ratio()`, which\n",
    "will just return the best one found. \n",
    "\n",
    "`X_train` and `y_train` contain the apps for a year, since when we ran the \n",
    "`time_aware_train_test_split`, we set the parameter of `train_size` to 12 with a granularity of `months`."
   ]
  },
  {
   "cell_type": "code",
   "execution_count": 8,
   "id": "743f0c19",
   "metadata": {},
   "outputs": [
    {
     "name": "stderr",
     "output_type": "stream",
     "text": [
      "0it [00:00, ?it/s]/home/users/mbenali/.conda/envs/tesseract/lib/python3.10/site-packages/scikit_learn-1.6.0rc1-py3.10-linux-x86_64.egg/sklearn/svm/_base.py:1243: ConvergenceWarning: Liblinear failed to converge, increase the number of iterations.\n",
      "  warnings.warn(\n",
      "4it [00:08,  2.01s/it]\n",
      "0it [00:00, ?it/s]/home/users/mbenali/.conda/envs/tesseract/lib/python3.10/site-packages/scikit_learn-1.6.0rc1-py3.10-linux-x86_64.egg/sklearn/svm/_base.py:1243: ConvergenceWarning: Liblinear failed to converge, increase the number of iterations.\n",
      "  warnings.warn(\n",
      "4it [00:06,  1.70s/it]\n",
      "0it [00:00, ?it/s]/home/users/mbenali/.conda/envs/tesseract/lib/python3.10/site-packages/scikit_learn-1.6.0rc1-py3.10-linux-x86_64.egg/sklearn/svm/_base.py:1243: ConvergenceWarning: Liblinear failed to converge, increase the number of iterations.\n",
      "  warnings.warn(\n",
      "4it [00:05,  1.32s/it]\n",
      "0it [00:00, ?it/s]/home/users/mbenali/.conda/envs/tesseract/lib/python3.10/site-packages/scikit_learn-1.6.0rc1-py3.10-linux-x86_64.egg/sklearn/svm/_base.py:1243: ConvergenceWarning: Liblinear failed to converge, increase the number of iterations.\n",
      "  warnings.warn(\n",
      "4it [00:04,  1.01s/it]\n",
      "0it [00:00, ?it/s]/home/users/mbenali/.conda/envs/tesseract/lib/python3.10/site-packages/scikit_learn-1.6.0rc1-py3.10-linux-x86_64.egg/sklearn/svm/_base.py:1243: ConvergenceWarning: Liblinear failed to converge, increase the number of iterations.\n",
      "  warnings.warn(\n",
      "4it [00:03,  1.19it/s]\n",
      "0it [00:00, ?it/s]/home/users/mbenali/.conda/envs/tesseract/lib/python3.10/site-packages/scikit_learn-1.6.0rc1-py3.10-linux-x86_64.egg/sklearn/svm/_base.py:1243: ConvergenceWarning: Liblinear failed to converge, increase the number of iterations.\n",
      "  warnings.warn(\n",
      "4it [00:03,  1.28it/s]\n",
      "0it [00:00, ?it/s]/home/users/mbenali/.conda/envs/tesseract/lib/python3.10/site-packages/scikit_learn-1.6.0rc1-py3.10-linux-x86_64.egg/sklearn/svm/_base.py:1243: ConvergenceWarning: Liblinear failed to converge, increase the number of iterations.\n",
      "  warnings.warn(\n",
      "4it [00:03,  1.23it/s]\n",
      "0it [00:00, ?it/s]/home/users/mbenali/.conda/envs/tesseract/lib/python3.10/site-packages/scikit_learn-1.6.0rc1-py3.10-linux-x86_64.egg/sklearn/svm/_base.py:1243: ConvergenceWarning: Liblinear failed to converge, increase the number of iterations.\n",
      "  warnings.warn(\n",
      "4it [00:02,  1.55it/s]\n",
      "0it [00:00, ?it/s]/home/users/mbenali/.conda/envs/tesseract/lib/python3.10/site-packages/scikit_learn-1.6.0rc1-py3.10-linux-x86_64.egg/sklearn/svm/_base.py:1243: ConvergenceWarning: Liblinear failed to converge, increase the number of iterations.\n",
      "  warnings.warn(\n",
      "4it [00:02,  1.84it/s]\n"
     ]
    }
   ],
   "source": [
    "spatial_clf = LinearSVC()\n",
    "rates = spatial.search_optimal_train_ratio(\n",
    "    spatial_clf, \n",
    "    X_train, \n",
    "    y_train, \n",
    "    temp_train, \n",
    "    proper_train_size=8, # measured in units of `granularity`\n",
    "    validation_size=1, \n",
    "    granularity=\"month\", \n",
    "    start_tr_rate=0.1, # % of malware in training to start with\n",
    "    end_tr_rate=0.5 # Stop at max 50% malware\n",
    ")"
   ]
  },
  {
   "cell_type": "code",
   "execution_count": 9,
   "id": "4f7fd617",
   "metadata": {},
   "outputs": [
    {
     "data": {
      "text/html": [
       "<div>\n",
       "<style scoped>\n",
       "    .dataframe tbody tr th:only-of-type {\n",
       "        vertical-align: middle;\n",
       "    }\n",
       "\n",
       "    .dataframe tbody tr th {\n",
       "        vertical-align: top;\n",
       "    }\n",
       "\n",
       "    .dataframe thead th {\n",
       "        text-align: right;\n",
       "    }\n",
       "</style>\n",
       "<table border=\"1\" class=\"dataframe\">\n",
       "  <thead>\n",
       "    <tr style=\"text-align: right;\">\n",
       "      <th></th>\n",
       "      <th>errors</th>\n",
       "      <th>auts</th>\n",
       "      <th>phis</th>\n",
       "      <th>fn</th>\n",
       "      <th>fp</th>\n",
       "      <th>total</th>\n",
       "    </tr>\n",
       "  </thead>\n",
       "  <tbody>\n",
       "    <tr>\n",
       "      <th>0</th>\n",
       "      <td>0.029317</td>\n",
       "      <td>0.809353</td>\n",
       "      <td>0.10</td>\n",
       "      <td>266.0</td>\n",
       "      <td>145.0</td>\n",
       "      <td>14019.0</td>\n",
       "    </tr>\n",
       "    <tr>\n",
       "      <th>1</th>\n",
       "      <td>0.033954</td>\n",
       "      <td>0.779199</td>\n",
       "      <td>0.15</td>\n",
       "      <td>258.0</td>\n",
       "      <td>218.0</td>\n",
       "      <td>14019.0</td>\n",
       "    </tr>\n",
       "    <tr>\n",
       "      <th>2</th>\n",
       "      <td>0.032313</td>\n",
       "      <td>0.799931</td>\n",
       "      <td>0.20</td>\n",
       "      <td>225.0</td>\n",
       "      <td>228.0</td>\n",
       "      <td>14019.0</td>\n",
       "    </tr>\n",
       "    <tr>\n",
       "      <th>3</th>\n",
       "      <td>0.034810</td>\n",
       "      <td>0.785153</td>\n",
       "      <td>0.25</td>\n",
       "      <td>224.0</td>\n",
       "      <td>264.0</td>\n",
       "      <td>14019.0</td>\n",
       "    </tr>\n",
       "    <tr>\n",
       "      <th>4</th>\n",
       "      <td>0.034382</td>\n",
       "      <td>0.788035</td>\n",
       "      <td>0.30</td>\n",
       "      <td>216.0</td>\n",
       "      <td>266.0</td>\n",
       "      <td>14019.0</td>\n",
       "    </tr>\n",
       "    <tr>\n",
       "      <th>5</th>\n",
       "      <td>0.035809</td>\n",
       "      <td>0.788809</td>\n",
       "      <td>0.35</td>\n",
       "      <td>199.0</td>\n",
       "      <td>303.0</td>\n",
       "      <td>14019.0</td>\n",
       "    </tr>\n",
       "    <tr>\n",
       "      <th>6</th>\n",
       "      <td>0.037449</td>\n",
       "      <td>0.778628</td>\n",
       "      <td>0.40</td>\n",
       "      <td>188.0</td>\n",
       "      <td>337.0</td>\n",
       "      <td>14019.0</td>\n",
       "    </tr>\n",
       "    <tr>\n",
       "      <th>7</th>\n",
       "      <td>0.042371</td>\n",
       "      <td>0.763198</td>\n",
       "      <td>0.45</td>\n",
       "      <td>193.0</td>\n",
       "      <td>401.0</td>\n",
       "      <td>14019.0</td>\n",
       "    </tr>\n",
       "    <tr>\n",
       "      <th>8</th>\n",
       "      <td>0.040516</td>\n",
       "      <td>0.773576</td>\n",
       "      <td>0.50</td>\n",
       "      <td>163.0</td>\n",
       "      <td>405.0</td>\n",
       "      <td>14019.0</td>\n",
       "    </tr>\n",
       "  </tbody>\n",
       "</table>\n",
       "</div>"
      ],
      "text/plain": [
       "     errors      auts  phis     fn     fp    total\n",
       "0  0.029317  0.809353  0.10  266.0  145.0  14019.0\n",
       "1  0.033954  0.779199  0.15  258.0  218.0  14019.0\n",
       "2  0.032313  0.799931  0.20  225.0  228.0  14019.0\n",
       "3  0.034810  0.785153  0.25  224.0  264.0  14019.0\n",
       "4  0.034382  0.788035  0.30  216.0  266.0  14019.0\n",
       "5  0.035809  0.788809  0.35  199.0  303.0  14019.0\n",
       "6  0.037449  0.778628  0.40  188.0  337.0  14019.0\n",
       "7  0.042371  0.763198  0.45  193.0  401.0  14019.0\n",
       "8  0.040516  0.773576  0.50  163.0  405.0  14019.0"
      ]
     },
     "execution_count": 9,
     "metadata": {},
     "output_type": "execute_result"
    }
   ],
   "source": [
    "# Put the rates into a dataframe for nicer visualisation\n",
    "rates = pd.DataFrame(rates)\n",
    "rates"
   ]
  },
  {
   "cell_type": "markdown",
   "id": "7f76ada1",
   "metadata": {},
   "source": [
    "### Retraining with 25%"
   ]
  },
  {
   "cell_type": "markdown",
   "id": "ecfe1ed6",
   "metadata": {},
   "source": [
    "We can retrain our classifier with 25% of malware in the training data. "
   ]
  },
  {
   "cell_type": "code",
   "execution_count": 10,
   "id": "151917bb",
   "metadata": {},
   "outputs": [],
   "source": [
    "# Redo splitting\n",
    "X_train, X_test, y_train, y_test, temp_train, temp_test = temporal.time_aware_train_test_split(X, y, t, train_size=8, test_size=1, granularity='month')\n",
    "\n",
    "# Downsample so that there's 25% malware in the training data\n",
    "train_idxs = spatial.downsample_to_rate(y_train, 0.25)\n",
    "\n",
    "X_train = X_train[train_idxs]\n",
    "y_train = y_train[train_idxs]\n",
    "temp_train = temp_train[train_idxs]"
   ]
  },
  {
   "cell_type": "code",
   "execution_count": 11,
   "id": "1dca6308",
   "metadata": {},
   "outputs": [
    {
     "name": "stderr",
     "output_type": "stream",
     "text": [
      "0it [00:00, ?it/s]/home/users/mbenali/.conda/envs/tesseract/lib/python3.10/site-packages/scikit_learn-1.6.0rc1-py3.10-linux-x86_64.egg/sklearn/svm/_base.py:1243: ConvergenceWarning: Liblinear failed to converge, increase the number of iterations.\n",
      "  warnings.warn(\n",
      "28it [00:04,  5.83it/s]\n"
     ]
    }
   ],
   "source": [
    "# Train a new classifier \n",
    "clf = LinearSVC() \n",
    "results_25 = evaluation.fit_predict_update(clf, X_train, X_test, y_train, y_test, temp_train, temp_test)"
   ]
  },
  {
   "cell_type": "code",
   "execution_count": 12,
   "id": "078e2cc4",
   "metadata": {},
   "outputs": [
    {
     "name": "stdout",
     "output_type": "stream",
     "text": [
      "------------+----------------------------------------------------------------------------------------------------------------------------------------------------------------------------------------------------\n",
      "Test period |     1      2      3      4      5      6      7      8      9     10     11     12     13     14     15     16     17     18     19     20     21     22     23     24     25     26     27     28   \n",
      "------------+----------------------------------------------------------------------------------------------------------------------------------------------------------------------------------------------------\n",
      "Actual pos  |    399    591    145    147    144    129    215    183    221    216    275    272    354    313    374    369    344    476    635    612    452    278    352    564    148     81     23      8\n",
      "Actual neg  |   4176   6345   1305   1444   1564   1231   1888   1838   1953   2098   2521   2768   3077   2932   3010   3289   3478   3959   5818   6368   4052   2806   3027   4881   1377    758    190     67\n",
      "Total       |   4575   6936   1450   1591   1708   1360   2103   2021   2174   2314   2796   3040   3431   3245   3384   3658   3822   4435   6453   6980   4504   3084   3379   5445   1525    839    213     75\n",
      "------------+----------------------------------------------------------------------------------------------------------------------------------------------------------------------------------------------------\n",
      "TPR         |  0.852  0.836  0.772  0.701  0.681  0.612  0.744  0.617  0.633  0.583  0.705  0.750  0.678  0.687  0.623  0.556  0.497  0.452  0.446  0.404  0.504  0.446  0.543  0.438  0.459  0.580  0.348  0.250\n",
      "FPR         |  0.018  0.019  0.026  0.033  0.049  0.024  0.025  0.020  0.016  0.026  0.024  0.030  0.026  0.023  0.028  0.016  0.020  0.020  0.022  0.024  0.022  0.029  0.030  0.027  0.033  0.030  0.037  0.045\n",
      "TNR         |  0.982  0.981  0.974  0.967  0.951  0.976  0.975  0.980  0.984  0.974  0.976  0.970  0.974  0.977  0.972  0.984  0.980  0.980  0.978  0.976  0.978  0.971  0.970  0.973  0.967  0.970  0.963  0.955\n",
      "FNR         |  0.148  0.164  0.228  0.299  0.319  0.388  0.256  0.383  0.367  0.417  0.295  0.250  0.322  0.313  0.377  0.444  0.503  0.548  0.554  0.596  0.496  0.554  0.457  0.562  0.541  0.420  0.652  0.750\n",
      "------------+----------------------------------------------------------------------------------------------------------------------------------------------------------------------------------------------------\n",
      "Precision   |  0.819  0.806  0.767  0.687  0.560  0.725  0.773  0.753  0.819  0.696  0.764  0.711  0.752  0.762  0.737  0.795  0.710  0.731  0.685  0.619  0.719  0.605  0.680  0.650  0.596  0.671  0.533  0.400\n",
      "Recall      |  0.852  0.836  0.772  0.701  0.681  0.612  0.744  0.617  0.633  0.583  0.705  0.750  0.678  0.687  0.623  0.556  0.497  0.452  0.446  0.404  0.504  0.446  0.543  0.438  0.459  0.580  0.348  0.250\n",
      "F1          |  0.835  0.821  0.770  0.694  0.614  0.664  0.758  0.679  0.714  0.635  0.733  0.730  0.713  0.723  0.675  0.654  0.585  0.558  0.540  0.489  0.593  0.513  0.603  0.523  0.519  0.623  0.421  0.308\n",
      "------------+----------------------------------------------------------------------------------------------------------------------------------------------------------------------------------------------------\n"
     ]
    }
   ],
   "source": [
    "metrics.print_metrics(results_25)"
   ]
  },
  {
   "cell_type": "code",
   "execution_count": 13,
   "id": "c81757d7",
   "metadata": {},
   "outputs": [
    {
     "name": "stdout",
     "output_type": "stream",
     "text": [
      "New robustness over time (measured in AUT): 0.5766410438440728\n"
     ]
    }
   ],
   "source": [
    "print(f\"New robustness over time (measured in AUT): {metrics.aut(results_10, 'f1')}\")"
   ]
  },
  {
   "cell_type": "markdown",
   "id": "91338bf5",
   "metadata": {},
   "source": [
    "### Figure"
   ]
  },
  {
   "cell_type": "code",
   "execution_count": 16,
   "id": "b615bbbc",
   "metadata": {},
   "outputs": [
    {
     "data": {
      "image/png": "[encoded data removed]",
      "text/plain": [
       "<Figure size 640x480 with 1 Axes>"
      ]
     },
     "metadata": {},
     "output_type": "display_data"
    }
   ],
   "source": [
    "# Reproduce the plot\n",
    "\n",
    "pendleblue='#1f8fff'\n",
    "pendleyellow='#ffa600'\n",
    "\n",
    "plot(results_10['f1'], marker='x', color=pendleblue)\n",
    "plot(results_25['f1'], marker='o', color='gray')\n",
    "legend(['F1 10%', 'F1 25%'])\n",
    "xlim([0, 23])\n",
    "plt.xticks(ticks=range(1, 24, 3))\n",
    "ylim([0, 1])\n",
    "xlabel('Testing period (month)')\n",
    "ylabel('F1 Score')\n",
    "grid(axis = 'y')"
   ]
  },
  {
   "cell_type": "markdown",
   "id": "d1339aa8",
   "metadata": {},
   "source": [
    "## MaMaDroid\n",
    "\n",
    "We can repeat the same procedure for MaMaDroid."
   ]
  },
  {
   "cell_type": "code",
   "execution_count": 1,
   "id": "cecd30ef",
   "metadata": {},
   "outputs": [],
   "source": [
    "import os\n",
    "import json\n",
    "import numpy as np\n",
    "from datetime import datetime\n",
    "from sklearn.feature_extraction import DictVectorizer"
   ]
  },
  {
   "cell_type": "code",
   "execution_count": null,
   "id": "4371c468",
   "metadata": {},
   "outputs": [],
   "source": [
    "from datetime import datetime\n",
    "\n",
    "PROJ_ROOT = os.path.abspath(os.path.join(os.pardir))\n",
    "DATA_PATH = os.path.join(PROJ_ROOT, 'data', 'processed')\n",
    "\n",
    "features_file, labels_file, meta_file = os.path.join(DATA_PATH, 'mamadroidPackages-parrot-v2-down-features-X.json'), os.path.join(DATA_PATH, 'mamadroidPackages-parrot-v2-down-features-Y.json'), os.path.join(DATA_PATH, 'mamadroidPackages-parrot-v2-down-features-meta.json')\n",
    "\n",
    "with open(features_file) as json_file:\n",
    "    D = json.load(json_file)\n",
    "    for datapoint in D:\n",
    "        del datapoint['sha256']\n",
    "    vec = DictVectorizer()  \n",
    "    X = vec.fit_transform(D) # transform key-value (JSON) into sparse feature vector\n",
    "    \n",
    "with open(labels_file) as json_file:\n",
    "    labels = json.load(json_file)\n",
    "    y = np.array([l[0] for l in labels])\n",
    "    \n",
    "with open(meta_file) as json_file:\n",
    "    meta = json.load(json_file)\n",
    "    t = list()\n",
    "    for m in meta:\n",
    "        timestamp = datetime.strptime(m['dex_date'], '%Y-%m-%dT%H:%M:%S')\n",
    "        t.append(timestamp)\n",
    "    t = np.array(t)"
   ]
  },
  {
   "cell_type": "code",
   "execution_count": null,
   "id": "c9c909a8",
   "metadata": {},
   "outputs": [],
   "source": [
    "from pylab import *\n",
    "from tesseract import evaluation, temporal, metrics \n",
    "from sklearn.svm import LinearSVC\n",
    "from sklearn.ensemble import RandomForestClassifier"
   ]
  },
  {
   "cell_type": "markdown",
   "id": "fe15e459",
   "metadata": {},
   "source": [
    "### Training the moedel with 10% malware"
   ]
  },
  {
   "cell_type": "code",
   "execution_count": null,
   "id": "4e901c93",
   "metadata": {},
   "outputs": [],
   "source": [
    "splits = temporal.time_aware_train_test_split(X, y, t, train_size=12, test_size=1, granularity='month')"
   ]
  },
  {
   "cell_type": "code",
   "execution_count": null,
   "id": "75f17af5",
   "metadata": {},
   "outputs": [
    {
     "name": "stderr",
     "output_type": "stream",
     "text": [
      "0it [00:00, ?it/s]"
     ]
    },
    {
     "name": "stderr",
     "output_type": "stream",
     "text": [
      "22it [06:16, 17.10s/it]/home/users/mbenali/.conda/envs/tesseract/lib/python3.10/site-packages/scikit_learn-1.6.0rc1-py3.10-linux-x86_64.egg/sklearn/metrics/_classification.py:1528: UndefinedMetricWarning: Precision is ill-defined and being set to 0.0 due to no predicted samples. Use `zero_division` parameter to control this behavior.\n",
      "  _warn_prf(average, modifier, f\"{metric.capitalize()} is\", len(result))\n",
      "23it [06:16, 16.36s/it]/home/users/mbenali/.conda/envs/tesseract/lib/python3.10/site-packages/scikit_learn-1.6.0rc1-py3.10-linux-x86_64.egg/sklearn/metrics/_classification.py:1528: UndefinedMetricWarning: Precision is ill-defined and being set to 0.0 due to no predicted samples. Use `zero_division` parameter to control this behavior.\n",
      "  _warn_prf(average, modifier, f\"{metric.capitalize()} is\", len(result))\n",
      "24it [06:16, 15.68s/it]\n"
     ]
    }
   ],
   "source": [
    "clf = RandomForestClassifier(n_estimators=101, max_depth=64, random_state=42)\n",
    "\n",
    "results_10 = evaluation.fit_predict_update(clf, *splits)"
   ]
  },
  {
   "cell_type": "code",
   "execution_count": null,
   "id": "58f0c033",
   "metadata": {},
   "outputs": [],
   "source": [
    "# Finding the optimal malware ratio in training data\n",
    "from tesseract import spatial \n",
    "# extract splits because we'll need to access X, y and temp individually to find the # optimal malware percentage\n",
    "X_train, X_test, y_train, y_test, temp_train, temp_test = splits"
   ]
  },
  {
   "cell_type": "markdown",
   "id": "692eb2de",
   "metadata": {},
   "source": [
    "Figure out the accuracy of the classifier with 10% malware in the training data. We need the accuracy to set the acceptable error rate to 1 - accuracy for optimising for the F1-Score. "
   ]
  },
  {
   "cell_type": "code",
   "execution_count": null,
   "id": "fa9cb1c2",
   "metadata": {},
   "outputs": [
    {
     "name": "stdout",
     "output_type": "stream",
     "text": [
      "Overall Accuracy: 0.9185280880146691\n"
     ]
    }
   ],
   "source": [
    "tp_list = results_10['tp']\n",
    "tn_list = results_10['tn']\n",
    "fp_list = results_10['fp']\n",
    "fn_list = results_10['fn']\n",
    "\n",
    "# Sum the lists\n",
    "total_tp = sum(tp_list)\n",
    "total_tn = sum(tn_list)\n",
    "total_fp = sum(fp_list)\n",
    "total_fn = sum(fn_list)\n",
    "\n",
    "# Calculate accuracy\n",
    "accuracy = (total_tp + total_tn) / (total_tp + total_tn + total_fp + total_fn)\n",
    "print(f\"Overall Accuracy: {accuracy}\")"
   ]
  },
  {
   "cell_type": "markdown",
   "id": "e89f9ae3",
   "metadata": {},
   "source": [
    "### Search for optimal ratio"
   ]
  },
  {
   "cell_type": "code",
   "execution_count": null,
   "id": "b7add6ba",
   "metadata": {},
   "outputs": [
    {
     "name": "stderr",
     "output_type": "stream",
     "text": [
      "4it [03:20, 50.24s/it] \n",
      "4it [02:08, 32.13s/it] \n",
      "4it [01:40, 25.10s/it]\n",
      "4it [01:16, 19.03s/it]\n",
      "4it [01:03, 15.91s/it]\n",
      "4it [00:56, 14.02s/it]\n",
      "4it [00:45, 11.39s/it]\n",
      "4it [00:43, 10.76s/it]\n",
      "4it [00:36,  9.00s/it]"
     ]
    },
    {
     "name": "stdout",
     "output_type": "stream",
     "text": [
      "Optimal malware training ratio: 0.45000000000000007\n"
     ]
    },
    {
     "name": "stderr",
     "output_type": "stream",
     "text": [
      "\n"
     ]
    }
   ],
   "source": [
    "clf = RandomForestClassifier(n_estimators=101, max_depth=64, random_state=42)\n",
    "optimal_malware_training_ratio, aut, error_rate = spatial.find_optimal_train_ratio(\n",
    "    clf, \n",
    "    X_train, \n",
    "    y_train, \n",
    "    temp_train, \n",
    "    proper_train_size=8, # measured in units of `granularity`, taken from X_train, which has 12 months in total\n",
    "    validation_size=1, # the remaining 4 months, validate 4 times with a validation window of 1 month\n",
    "    granularity=\"month\", \n",
    "    start_tr_rate=0.1, # % of malware in training to start with\n",
    "    acceptable_errors=1-accuracy,\n",
    "    end_tr_rate=0.5 # Stop at max 50% malware\n",
    ")\n",
    "print(f\"Optimal malware training ratio: {optimal_malware_training_ratio}\")"
   ]
  },
  {
   "cell_type": "code",
   "execution_count": null,
   "id": "b3c0e56a",
   "metadata": {},
   "outputs": [
    {
     "name": "stderr",
     "output_type": "stream",
     "text": [
      "4it [03:18, 49.50s/it] \n",
      "4it [02:09, 32.27s/it] \n",
      "4it [01:36, 24.03s/it]\n",
      "4it [01:16, 19.09s/it]\n",
      "4it [01:05, 16.32s/it]\n",
      "4it [00:55, 13.92s/it]\n",
      "4it [00:47, 11.82s/it]\n",
      "4it [00:42, 10.72s/it]\n",
      "4it [00:41, 10.49s/it]\n"
     ]
    }
   ],
   "source": [
    "clf = RandomForestClassifier(n_estimators=101, max_depth=64, random_state=42)\n",
    "rates = spatial.search_optimal_train_ratio(\n",
    "    clf, \n",
    "    X_train, \n",
    "    y_train, \n",
    "    temp_train, \n",
    "    proper_train_size=8, # measured in units of `granularity`\n",
    "    validation_size=1, \n",
    "    granularity=\"month\", \n",
    "    start_tr_rate=0.1, # % of malware in training to start with\n",
    "    end_tr_rate=0.5 # Stop at max 50% malware\n",
    ")"
   ]
  },
  {
   "cell_type": "code",
   "execution_count": null,
   "id": "b9bc28ca",
   "metadata": {},
   "outputs": [
    {
     "data": {
      "text/html": [
       "<div>\n",
       "<style scoped>\n",
       "    .dataframe tbody tr th:only-of-type {\n",
       "        vertical-align: middle;\n",
       "    }\n",
       "\n",
       "    .dataframe tbody tr th {\n",
       "        vertical-align: top;\n",
       "    }\n",
       "\n",
       "    .dataframe thead th {\n",
       "        text-align: right;\n",
       "    }\n",
       "</style>\n",
       "<table border=\"1\" class=\"dataframe\">\n",
       "  <thead>\n",
       "    <tr style=\"text-align: right;\">\n",
       "      <th></th>\n",
       "      <th>errors</th>\n",
       "      <th>auts</th>\n",
       "      <th>phis</th>\n",
       "      <th>fn</th>\n",
       "      <th>fp</th>\n",
       "      <th>total</th>\n",
       "    </tr>\n",
       "  </thead>\n",
       "  <tbody>\n",
       "    <tr>\n",
       "      <th>0</th>\n",
       "      <td>0.062201</td>\n",
       "      <td>0.444532</td>\n",
       "      <td>0.10</td>\n",
       "      <td>806.0</td>\n",
       "      <td>66.0</td>\n",
       "      <td>14019.0</td>\n",
       "    </tr>\n",
       "    <tr>\n",
       "      <th>1</th>\n",
       "      <td>0.062487</td>\n",
       "      <td>0.489887</td>\n",
       "      <td>0.15</td>\n",
       "      <td>774.0</td>\n",
       "      <td>102.0</td>\n",
       "      <td>14019.0</td>\n",
       "    </tr>\n",
       "    <tr>\n",
       "      <th>2</th>\n",
       "      <td>0.049433</td>\n",
       "      <td>0.636186</td>\n",
       "      <td>0.20</td>\n",
       "      <td>543.0</td>\n",
       "      <td>150.0</td>\n",
       "      <td>14019.0</td>\n",
       "    </tr>\n",
       "    <tr>\n",
       "      <th>3</th>\n",
       "      <td>0.048220</td>\n",
       "      <td>0.657220</td>\n",
       "      <td>0.25</td>\n",
       "      <td>483.0</td>\n",
       "      <td>193.0</td>\n",
       "      <td>14019.0</td>\n",
       "    </tr>\n",
       "    <tr>\n",
       "      <th>4</th>\n",
       "      <td>0.050289</td>\n",
       "      <td>0.651104</td>\n",
       "      <td>0.30</td>\n",
       "      <td>450.0</td>\n",
       "      <td>255.0</td>\n",
       "      <td>14019.0</td>\n",
       "    </tr>\n",
       "    <tr>\n",
       "      <th>5</th>\n",
       "      <td>0.054569</td>\n",
       "      <td>0.665783</td>\n",
       "      <td>0.35</td>\n",
       "      <td>395.0</td>\n",
       "      <td>370.0</td>\n",
       "      <td>14019.0</td>\n",
       "    </tr>\n",
       "    <tr>\n",
       "      <th>6</th>\n",
       "      <td>0.059348</td>\n",
       "      <td>0.655563</td>\n",
       "      <td>0.40</td>\n",
       "      <td>349.0</td>\n",
       "      <td>483.0</td>\n",
       "      <td>14019.0</td>\n",
       "    </tr>\n",
       "    <tr>\n",
       "      <th>7</th>\n",
       "      <td>0.060703</td>\n",
       "      <td>0.675742</td>\n",
       "      <td>0.45</td>\n",
       "      <td>304.0</td>\n",
       "      <td>547.0</td>\n",
       "      <td>14019.0</td>\n",
       "    </tr>\n",
       "    <tr>\n",
       "      <th>8</th>\n",
       "      <td>0.068407</td>\n",
       "      <td>0.662284</td>\n",
       "      <td>0.50</td>\n",
       "      <td>269.0</td>\n",
       "      <td>690.0</td>\n",
       "      <td>14019.0</td>\n",
       "    </tr>\n",
       "  </tbody>\n",
       "</table>\n",
       "</div>"
      ],
      "text/plain": [
       "     errors      auts  phis     fn     fp    total\n",
       "0  0.062201  0.444532  0.10  806.0   66.0  14019.0\n",
       "1  0.062487  0.489887  0.15  774.0  102.0  14019.0\n",
       "2  0.049433  0.636186  0.20  543.0  150.0  14019.0\n",
       "3  0.048220  0.657220  0.25  483.0  193.0  14019.0\n",
       "4  0.050289  0.651104  0.30  450.0  255.0  14019.0\n",
       "5  0.054569  0.665783  0.35  395.0  370.0  14019.0\n",
       "6  0.059348  0.655563  0.40  349.0  483.0  14019.0\n",
       "7  0.060703  0.675742  0.45  304.0  547.0  14019.0\n",
       "8  0.068407  0.662284  0.50  269.0  690.0  14019.0"
      ]
     },
     "execution_count": 26,
     "metadata": {},
     "output_type": "execute_result"
    }
   ],
   "source": [
    "# Put the rates into a dataframe for nicer visualisation\n",
    "import pandas as pd \n",
    "\n",
    "rates = pd.DataFrame(rates)\n",
    "rates"
   ]
  },
  {
   "cell_type": "markdown",
   "id": "99ae4f4f",
   "metadata": {},
   "source": [
    "### Training with 50% ratio"
   ]
  },
  {
   "cell_type": "code",
   "execution_count": null,
   "id": "ce1a0ff5",
   "metadata": {},
   "outputs": [],
   "source": [
    "# Redo splitting\n",
    "X_train, X_test, y_train, y_test, temp_train, temp_test = temporal.time_aware_train_test_split(X, y, t, train_size=8, test_size=1, granularity='month')\n",
    "\n",
    "# Downsample so that there's 25% malware in the training data\n",
    "train_idxs = spatial.downsample_to_rate(y_train, 0.50)\n",
    "\n",
    "X_train = X_train[train_idxs]\n",
    "y_train = y_train[train_idxs]\n",
    "temp_train = temp_train[train_idxs]"
   ]
  },
  {
   "cell_type": "code",
   "execution_count": null,
   "id": "bfbf11be",
   "metadata": {},
   "outputs": [
    {
     "name": "stderr",
     "output_type": "stream",
     "text": [
      "28it [01:10,  2.52s/it]\n"
     ]
    }
   ],
   "source": [
    "# Train a new classifier \n",
    "clf = RandomForestClassifier(n_estimators=101, max_depth=64, random_state=42)\n",
    "results_50 = evaluation.fit_predict_update(clf, X_train, X_test, y_train, y_test, temp_train, temp_test)"
   ]
  },
  {
   "cell_type": "code",
   "execution_count": null,
   "id": "3e50a5a3",
   "metadata": {},
   "outputs": [
    {
     "name": "stdout",
     "output_type": "stream",
     "text": [
      "------------+----------------------------------------------------------------------------------------------------------------------------------------------------------------------------------------------------\n",
      "Test period |     1      2      3      4      5      6      7      8      9     10     11     12     13     14     15     16     17     18     19     20     21     22     23     24     25     26     27     28   \n",
      "------------+----------------------------------------------------------------------------------------------------------------------------------------------------------------------------------------------------\n",
      "Actual pos  |    399    591    145    147    144    129    215    183    221    216    275    272    354    313    374    369    344    476    635    612    452    278    352    564    148     81     23      8\n",
      "Actual neg  |   4176   6345   1305   1444   1564   1231   1888   1838   1953   2098   2521   2768   3077   2932   3010   3289   3478   3959   5818   6368   4052   2806   3027   4881   1377    758    190     67\n",
      "Total       |   4575   6936   1450   1591   1708   1360   2103   2021   2174   2314   2796   3040   3431   3245   3384   3658   3822   4435   6453   6980   4504   3084   3379   5445   1525    839    213     75\n",
      "------------+----------------------------------------------------------------------------------------------------------------------------------------------------------------------------------------------------\n",
      "TPR         |  0.837  0.782  0.731  0.694  0.729  0.667  0.721  0.612  0.620  0.528  0.676  0.724  0.627  0.642  0.687  0.602  0.625  0.468  0.493  0.423  0.338  0.371  0.358  0.278  0.223  0.123  0.217  0.000\n",
      "FPR         |  0.048  0.044  0.062  0.056  0.084  0.049  0.055  0.058  0.049  0.054  0.058  0.073  0.070  0.058  0.077  0.058  0.064  0.041  0.044  0.043  0.034  0.029  0.032  0.037  0.038  0.020  0.042  0.015\n",
      "TNR         |  0.952  0.956  0.938  0.944  0.916  0.951  0.945  0.942  0.951  0.946  0.942  0.927  0.930  0.942  0.923  0.942  0.936  0.959  0.956  0.957  0.966  0.971  0.968  0.963  0.962  0.980  0.958  0.985\n",
      "FNR         |  0.163  0.218  0.269  0.306  0.271  0.333  0.279  0.388  0.380  0.472  0.324  0.276  0.373  0.358  0.313  0.398  0.375  0.532  0.507  0.577  0.662  0.629  0.642  0.722  0.777  0.877  0.783  1.000\n",
      "------------+----------------------------------------------------------------------------------------------------------------------------------------------------------------------------------------------------\n",
      "Precision   |  0.624  0.621  0.567  0.557  0.445  0.589  0.598  0.514  0.591  0.500  0.560  0.494  0.508  0.543  0.527  0.538  0.493  0.579  0.550  0.488  0.524  0.557  0.565  0.463  0.384  0.400  0.385  0.000\n",
      "Recall      |  0.837  0.782  0.731  0.694  0.729  0.667  0.721  0.612  0.620  0.528  0.676  0.724  0.627  0.642  0.687  0.602  0.625  0.468  0.493  0.423  0.338  0.371  0.358  0.278  0.223  0.123  0.217  0.000\n",
      "F1          |  0.715  0.692  0.639  0.618  0.553  0.625  0.654  0.559  0.605  0.514  0.613  0.587  0.561  0.589  0.596  0.568  0.551  0.518  0.520  0.453  0.411  0.445  0.438  0.348  0.282  0.189  0.278  0.000\n",
      "------------+----------------------------------------------------------------------------------------------------------------------------------------------------------------------------------------------------\n"
     ]
    }
   ],
   "source": [
    "metrics.print_metrics(results_50)"
   ]
  },
  {
   "cell_type": "code",
   "execution_count": null,
   "id": "ac073ed0",
   "metadata": {},
   "outputs": [
    {
     "name": "stdout",
     "output_type": "stream",
     "text": [
      "New robustness over time (measured in AUT): 0.3040675547613819\n"
     ]
    }
   ],
   "source": [
    "print(f\"New robustness over time (measured in AUT): {metrics.aut(results_10, 'f1')}\")"
   ]
  },
  {
   "cell_type": "markdown",
   "id": "68d5656d",
   "metadata": {},
   "source": [
    "### Figure"
   ]
  },
  {
   "cell_type": "code",
   "execution_count": null,
   "id": "79374ca7",
   "metadata": {},
   "outputs": [
    {
     "data": {
      "image/png": "[encoded data removed]",
      "text/plain": [
       "<Figure size 640x480 with 1 Axes>"
      ]
     },
     "metadata": {},
     "output_type": "display_data"
    }
   ],
   "source": [
    "# Reproduce the plot\n",
    "\n",
    "\n",
    "plot(results_10['f1'], marker='x', color='grey')\n",
    "plot(results_25['f1'], marker='o', color=pendleblue)\n",
    "legend(['F1 10%', 'F1 50%'])\n",
    "xlim([0, 23])\n",
    "plt.xticks(ticks=range(1, 24, 3))\n",
    "ylim([0, 1])\n",
    "xlabel('Testing period (month)')\n",
    "ylabel('F1 Score')\n",
    "grid(axis = 'y')"
   ]
  }
 ],
 "metadata": {
  "kernelspec": {
   "display_name": "tesseract",
   "language": "python",
   "name": "python3"
  },
  "language_info": {
   "codemirror_mode": {
    "name": "ipython",
    "version": 3
   },
   "file_extension": ".py",
   "mimetype": "text/x-python",
   "name": "python",
   "nbconvert_exporter": "python",
   "pygments_lexer": "ipython3",
   "version": "3.10.15"
  }
 },
 "nbformat": 4,
 "nbformat_minor": 5
}
