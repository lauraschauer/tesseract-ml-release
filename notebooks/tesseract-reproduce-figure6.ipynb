{
 "cells": [
  {
   "cell_type": "markdown",
   "id": "bc609079",
   "metadata": {},
   "source": [
    "Tesseract Overview\n",
    "-----------------------\n",
    "\n",
    "This notebook is supposed to provide a brief overview over the Tesseract framework (and might be later adapted to Transcend as well).\n",
    "\n",
    "\n",
    "    ├── tesseract             <- Main folder\n",
    "    │   ├── mock.py           <- Module for generating test distributions for use with Tesseract\n",
    "    │   ├── evaluation.py     <- This is the class where the magic happens  ;)\n",
    "    │   ├── metrics.py        <- Various methods to calculate and output metrics (including AUT)\n",
    "    │   └── ...\n",
    "\n",
    "**TODO**: Extend this description\n",
    "\n",
    "## Running this Notebook \n",
    "\n",
    "1. Run `make data` to pull the necessary data files. \n",
    "2. Reproduce Drebin graph from paper (Figure 5)"
   ]
  },
  {
   "cell_type": "markdown",
   "id": "ce9574a7",
   "metadata": {},
   "source": [
    "---"
   ]
  },
  {
   "cell_type": "code",
   "execution_count": 2,
   "id": "852264a5",
   "metadata": {},
   "outputs": [],
   "source": [
    "import os\n",
    "import json\n",
    "import numpy as np\n",
    "from datetime import datetime\n",
    "from sklearn.feature_extraction import DictVectorizer\n",
    "\n",
    "PROJ_ROOT = os.path.abspath(os.path.join(os.pardir))\n",
    "DATA_PATH = os.path.join(PROJ_ROOT, 'data', 'processed')\n",
    "\n",
    "features_file, labels_file, meta_file = os.path.join(DATA_PATH, 'drebin-parrot-v2-down-features-X.json'), os.path.join(DATA_PATH, 'drebin-parrot-v2-down-features-Y.json'), os.path.join(DATA_PATH, 'drebin-parrot-v2-down-features-meta.json')\n",
    "\n",
    "with open(features_file) as json_file:\n",
    "    D = json.load(json_file)\n",
    "    for datapoint in D:\n",
    "        del datapoint['sha256']\n",
    "    vec = DictVectorizer()  \n",
    "    X = vec.fit_transform(D) # transform key-value (JSON) into sparse feature vector\n",
    "    \n",
    "with open(labels_file) as json_file:\n",
    "    labels = json.load(json_file)\n",
    "    y = np.array([l[0] for l in labels])\n",
    "    \n",
    "with open(meta_file) as json_file:\n",
    "    meta = json.load(json_file)\n",
    "    t = list()\n",
    "    for m in meta:\n",
    "        timestamp = datetime.strptime(m['dex_date'], '%Y-%m-%dT%H:%M:%S')\n",
    "        t.append(timestamp)\n",
    "    t = np.array(t)"
   ]
  },
  {
   "cell_type": "code",
   "execution_count": 3,
   "id": "301bb99b",
   "metadata": {},
   "outputs": [
    {
     "name": "stdout",
     "output_type": "stream",
     "text": [
      "['activities::#Pray714' 'activities::$Viewer' 'activities::%' ...\n",
      " 'urls::https://zurvita_sd_success_com/account/login'\n",
      " 'urls::https://zuul_your_md'\n",
      " 'urls::https://zxing_googlecode_com/files/BarcodeScanner3_1_apk']\n"
     ]
    }
   ],
   "source": [
    "# View the feature names for context\n",
    "print(vec.get_feature_names_out())"
   ]
  },
  {
   "cell_type": "code",
   "execution_count": 4,
   "id": "152190df",
   "metadata": {},
   "outputs": [
    {
     "name": "stdout",
     "output_type": "stream",
     "text": [
      "All features that sample1 has:\n",
      "  (0, 26452)\t1.0\n",
      "  (0, 55135)\t1.0\n",
      "  (0, 55262)\t1.0\n",
      "  (0, 55266)\t1.0\n",
      "  (0, 55270)\t1.0\n",
      "  (0, 55287)\t1.0\n",
      "  (0, 55291)\t1.0\n",
      "  (0, 55300)\t1.0\n",
      "  (0, 55334)\t1.0\n",
      "  (0, 55397)\t1.0\n",
      "  (0, 55937)\t1.0\n",
      "  (0, 55939)\t1.0\n",
      "  (0, 55940)\t1.0\n",
      "  (0, 55950)\t1.0\n",
      "  (0, 56115)\t1.0\n",
      "  (0, 56240)\t1.0\n",
      "  (0, 56244)\t1.0\n",
      "  (0, 56548)\t1.0\n",
      "  (0, 56717)\t1.0\n",
      "  (0, 56992)\t1.0\n",
      "  (0, 57019)\t1.0\n",
      "  (0, 57020)\t1.0\n",
      "  (0, 57090)\t1.0\n",
      "  (0, 57209)\t1.0\n",
      "  (0, 57567)\t1.0\n",
      "  :\t:\n",
      "  (0, 1055921)\t1.0\n",
      "  (0, 1064722)\t1.0\n",
      "  (0, 1068401)\t1.0\n",
      "  (0, 1071218)\t1.0\n",
      "  (0, 1073950)\t1.0\n",
      "  (0, 1073977)\t1.0\n",
      "  (0, 1076705)\t1.0\n",
      "  (0, 1076709)\t1.0\n",
      "  (0, 1076712)\t1.0\n",
      "  (0, 1076721)\t1.0\n",
      "  (0, 1076733)\t1.0\n",
      "  (0, 1076736)\t1.0\n",
      "  (0, 1076737)\t1.0\n",
      "  (0, 1076771)\t1.0\n",
      "  (0, 1101497)\t1.0\n",
      "  (0, 1102197)\t1.0\n",
      "  (0, 1110873)\t1.0\n",
      "  (0, 1114758)\t1.0\n",
      "  (0, 1116369)\t1.0\n",
      "  (0, 1119622)\t1.0\n",
      "  (0, 1119637)\t1.0\n",
      "  (0, 1119874)\t1.0\n",
      "  (0, 1120361)\t1.0\n",
      "  (0, 1130596)\t1.0\n",
      "  (0, 1130602)\t1.0\n"
     ]
    }
   ],
   "source": [
    "# Take a closer look at the Data received by `make data`:\n",
    "sample1 = X[:1]\n",
    "print(f\"All features that sample1 has:\\n{sample1}\")"
   ]
  },
  {
   "cell_type": "code",
   "execution_count": 5,
   "id": "d5e23712",
   "metadata": {},
   "outputs": [
    {
     "name": "stdout",
     "output_type": "stream",
     "text": [
      "[datetime.datetime(2016, 4, 5, 17, 58, 46)]\n"
     ]
    }
   ],
   "source": [
    "# What does the time array look like? \n",
    "print(t[:1])"
   ]
  },
  {
   "cell_type": "code",
   "execution_count": 6,
   "id": "a4e983bd",
   "metadata": {},
   "outputs": [],
   "source": [
    "from tesseract import evaluation, temporal, metrics, mock\n",
    "\n",
    "# Partition dataset\n",
    "splits = temporal.time_aware_train_test_split(X, y, t, train_size=12, test_size=1, granularity='month')"
   ]
  },
  {
   "cell_type": "code",
   "execution_count": 7,
   "id": "b3e9972e",
   "metadata": {},
   "outputs": [
    {
     "name": "stderr",
     "output_type": "stream",
     "text": [
      "0it [00:00, ?it/s]/home/laura/.pyenv/versions/3.10.15/envs/tesseract2/lib/python3.10/site-packages/scikit_learn-1.5.2-py3.10-linux-x86_64.egg/sklearn/svm/_base.py:1235: ConvergenceWarning: Liblinear failed to converge, increase the number of iterations.\n",
      "  warnings.warn(\n",
      "24it [00:09,  2.41it/s]"
     ]
    },
    {
     "name": "stdout",
     "output_type": "stream",
     "text": [
      "------------+------------------------------------------------------------------------------------------------------------------------------------------------------------------------\n",
      "Test period |     1      2      3      4      5      6      7      8      9     10     11     12     13     14     15     16     17     18     19     20     21     22     23     24   \n",
      "------------+------------------------------------------------------------------------------------------------------------------------------------------------------------------------\n",
      "Actual pos  |    144    129    215    183    221    216    275    272    354    313    374    369    344    476    635    612    452    278    352    564    148     81     23      8\n",
      "Actual neg  |   1564   1231   1888   1838   1953   2098   2521   2768   3077   2932   3010   3289   3478   3959   5818   6368   4052   2806   3027   4881   1377    758    190     67\n",
      "Total       |   1708   1360   2103   2021   2174   2314   2796   3040   3431   3245   3384   3658   3822   4435   6453   6980   4504   3084   3379   5445   1525    839    213     75\n",
      "------------+------------------------------------------------------------------------------------------------------------------------------------------------------------------------\n",
      "TPR         |  0.764  0.713  0.744  0.667  0.674  0.500  0.589  0.621  0.593  0.546  0.500  0.393  0.358  0.334  0.335  0.288  0.363  0.342  0.415  0.376  0.453  0.432  0.304  0.125\n",
      "FPR         |  0.017  0.018  0.026  0.019  0.005  0.012  0.010  0.016  0.015  0.014  0.015  0.010  0.013  0.010  0.015  0.011  0.016  0.017  0.019  0.022  0.017  0.026  0.026  0.015\n",
      "TNR         |  0.983  0.982  0.974  0.981  0.995  0.988  0.990  0.984  0.985  0.986  0.985  0.990  0.987  0.990  0.985  0.989  0.984  0.983  0.981  0.978  0.983  0.974  0.974  0.985\n",
      "FNR         |  0.236  0.287  0.256  0.333  0.326  0.500  0.411  0.379  0.407  0.454  0.500  0.607  0.642  0.666  0.665  0.712  0.637  0.658  0.585  0.624  0.547  0.568  0.696  0.875\n",
      "------------+------------------------------------------------------------------------------------------------------------------------------------------------------------------------\n",
      "Precision   |  0.809  0.807  0.766  0.777  0.943  0.812  0.866  0.793  0.817  0.807  0.810  0.819  0.732  0.807  0.712  0.721  0.716  0.664  0.723  0.669  0.736  0.636  0.583  0.500\n",
      "Recall      |  0.764  0.713  0.744  0.667  0.674  0.500  0.589  0.621  0.593  0.546  0.500  0.393  0.358  0.334  0.335  0.288  0.363  0.342  0.415  0.376  0.453  0.432  0.304  0.125\n",
      "F1          |  0.786  0.757  0.755  0.718  0.786  0.619  0.701  0.697  0.687  0.651  0.618  0.531  0.480  0.473  0.456  0.411  0.482  0.451  0.527  0.481  0.561  0.515  0.400  0.200\n",
      "------------+------------------------------------------------------------------------------------------------------------------------------------------------------------------------\n",
      "0.576127580533539\n"
     ]
    },
    {
     "name": "stderr",
     "output_type": "stream",
     "text": [
      "\n"
     ]
    }
   ],
   "source": [
    "from sklearn.svm import LinearSVC\n",
    "\n",
    "# Perform a timeline evaluation\n",
    "clf = LinearSVC()\n",
    "results = evaluation.fit_predict_update(clf, *splits)\n",
    "    \n",
    "# View results \n",
    "metrics.print_metrics(results)\n",
    "    \n",
    "# View AUT(F1, 24 months) as a measure of robustness over time \n",
    "print(metrics.aut(results, 'f1'))"
   ]
  },
  {
   "cell_type": "code",
   "execution_count": 8,
   "id": "df0db176",
   "metadata": {},
   "outputs": [
    {
     "name": "stdout",
     "output_type": "stream",
     "text": [
      "0.576127580533539\n"
     ]
    }
   ],
   "source": [
    "print(metrics.aut(results, 'f1'))"
   ]
  },
  {
   "cell_type": "code",
   "execution_count": 9,
   "id": "dc33b722",
   "metadata": {},
   "outputs": [
    {
     "name": "stdout",
     "output_type": "stream",
     "text": [
      "F1 AUT: 0.576127580533539\n",
      "Recall AUT: 0.47759007518409285\n",
      "Precision AUT: 0.7553149295389221\n"
     ]
    },
    {
     "data": {
      "image/png": "[encoded data removed]",
      "text/plain": [
       "<Figure size 640x480 with 1 Axes>"
      ]
     },
     "metadata": {},
     "output_type": "display_data"
    }
   ],
   "source": [
    "print(f\"F1 AUT: {metrics.aut(results, 'f1')}\")\n",
    "print(f\"Recall AUT: {metrics.aut(results, 'recall')}\")\n",
    "print(f\"Precision AUT: {metrics.aut(results, 'precision')}\")\n",
    "#%%\n",
    "from pylab import *\n",
    "\n",
    "pendleblue='#1f8fff'\n",
    "pendleyellow='#ffa600'\n",
    "\n",
    "'#FF9999', '#FFDD99', '#AAEEEE'\n",
    "plot(results['precision'], marker='o', color=pendleyellow)\n",
    "plot(results['recall'], marker='o', color='red')\n",
    "plot(results['f1'], marker='o', color=pendleblue)\n",
    "legend(['Precision', 'Recall', 'F1'])\n",
    "xlim([0,23])\n",
    "xlabel('Testing period (month)')\n",
    "ylabel('Performance')\n",
    "grid(axis = 'y')"
   ]
  },
  {
   "cell_type": "code",
   "execution_count": 10,
   "id": "e1d1a696",
   "metadata": {},
   "outputs": [
    {
     "data": {
      "text/plain": [
       "[34,\n",
       " 37,\n",
       " 55,\n",
       " 61,\n",
       " 72,\n",
       " 108,\n",
       " 113,\n",
       " 103,\n",
       " 144,\n",
       " 142,\n",
       " 187,\n",
       " 224,\n",
       " 221,\n",
       " 317,\n",
       " 422,\n",
       " 436,\n",
       " 288,\n",
       " 183,\n",
       " 206,\n",
       " 352,\n",
       " 81,\n",
       " 46,\n",
       " 16,\n",
       " 7]"
      ]
     },
     "execution_count": 10,
     "metadata": {},
     "output_type": "execute_result"
    }
   ],
   "source": [
    "results.keys()\n",
    "results['fn']"
   ]
  },
  {
   "cell_type": "markdown",
   "id": "2867f0ae",
   "metadata": {},
   "source": [
    "### Reproducing Figure 6"
   ]
  },
  {
   "cell_type": "code",
   "execution_count": 11,
   "id": "ead4fffb",
   "metadata": {},
   "outputs": [],
   "source": [
    "# Finding the optimal malware ratio in training data\n",
    "from tesseract import spatial \n",
    "\n",
    "X_train, X_test, y_train, y_test, temp_train, temp_test = temporal.time_aware_train_test_split(X, y, t, train_size=12, test_size=1, granularity='month')"
   ]
  },
  {
   "cell_type": "code",
   "execution_count": null,
   "id": "ca080e28",
   "metadata": {},
   "outputs": [
    {
     "name": "stdout",
     "output_type": "stream",
     "text": [
      "Overall Accuracy: 0.9331138523087181\n"
     ]
    }
   ],
   "source": [
    "tp_list = results['tp']\n",
    "tn_list = results['tn']\n",
    "fp_list = results['fp']\n",
    "fn_list = results['fn']\n",
    "\n",
    "# Sum the lists\n",
    "total_tp = sum(tp_list)\n",
    "total_tn = sum(tn_list)\n",
    "total_fp = sum(fp_list)\n",
    "total_fn = sum(fn_list)\n",
    "\n",
    "# Calculate accuracy\n",
    "accuracy = (total_tp + total_tn) / (total_tp + total_tn + total_fp + total_fn)\n",
    "print(f\"Overall Accuracy: {accuracy}\")\n"
   ]
  },
  {
   "cell_type": "code",
   "execution_count": 35,
   "id": "8667661f",
   "metadata": {},
   "outputs": [
    {
     "name": "stderr",
     "output_type": "stream",
     "text": [
      "0it [00:00, ?it/s]/home/laura/.pyenv/versions/3.10.15/envs/tesseract2/lib/python3.10/site-packages/scikit_learn-1.5.2-py3.10-linux-x86_64.egg/sklearn/svm/_base.py:1235: ConvergenceWarning: Liblinear failed to converge, increase the number of iterations.\n",
      "  warnings.warn(\n",
      "1it [00:05,  5.20s/it]\n",
      "0it [00:00, ?it/s]/home/laura/.pyenv/versions/3.10.15/envs/tesseract2/lib/python3.10/site-packages/scikit_learn-1.5.2-py3.10-linux-x86_64.egg/sklearn/svm/_base.py:1235: ConvergenceWarning: Liblinear failed to converge, increase the number of iterations.\n",
      "  warnings.warn(\n",
      "1it [00:03,  3.93s/it]\n",
      "0it [00:00, ?it/s]/home/laura/.pyenv/versions/3.10.15/envs/tesseract2/lib/python3.10/site-packages/scikit_learn-1.5.2-py3.10-linux-x86_64.egg/sklearn/svm/_base.py:1235: ConvergenceWarning: Liblinear failed to converge, increase the number of iterations.\n",
      "  warnings.warn(\n",
      "1it [00:02,  2.72s/it]\n",
      "0it [00:00, ?it/s]/home/laura/.pyenv/versions/3.10.15/envs/tesseract2/lib/python3.10/site-packages/scikit_learn-1.5.2-py3.10-linux-x86_64.egg/sklearn/svm/_base.py:1235: ConvergenceWarning: Liblinear failed to converge, increase the number of iterations.\n",
      "  warnings.warn(\n",
      "1it [00:02,  2.45s/it]\n",
      "0it [00:00, ?it/s]/home/laura/.pyenv/versions/3.10.15/envs/tesseract2/lib/python3.10/site-packages/scikit_learn-1.5.2-py3.10-linux-x86_64.egg/sklearn/svm/_base.py:1235: ConvergenceWarning: Liblinear failed to converge, increase the number of iterations.\n",
      "  warnings.warn(\n",
      "1it [00:01,  1.86s/it]\n",
      "0it [00:00, ?it/s]/home/laura/.pyenv/versions/3.10.15/envs/tesseract2/lib/python3.10/site-packages/scikit_learn-1.5.2-py3.10-linux-x86_64.egg/sklearn/svm/_base.py:1235: ConvergenceWarning: Liblinear failed to converge, increase the number of iterations.\n",
      "  warnings.warn(\n",
      "1it [00:01,  1.78s/it]\n",
      "0it [00:00, ?it/s]/home/laura/.pyenv/versions/3.10.15/envs/tesseract2/lib/python3.10/site-packages/scikit_learn-1.5.2-py3.10-linux-x86_64.egg/sklearn/svm/_base.py:1235: ConvergenceWarning: Liblinear failed to converge, increase the number of iterations.\n",
      "  warnings.warn(\n",
      "1it [00:01,  1.41s/it]\n",
      "0it [00:00, ?it/s]/home/laura/.pyenv/versions/3.10.15/envs/tesseract2/lib/python3.10/site-packages/scikit_learn-1.5.2-py3.10-linux-x86_64.egg/sklearn/svm/_base.py:1235: ConvergenceWarning: Liblinear failed to converge, increase the number of iterations.\n",
      "  warnings.warn(\n",
      "1it [00:01,  1.47s/it]\n",
      "0it [00:00, ?it/s]/home/laura/.pyenv/versions/3.10.15/envs/tesseract2/lib/python3.10/site-packages/scikit_learn-1.5.2-py3.10-linux-x86_64.egg/sklearn/svm/_base.py:1235: ConvergenceWarning: Liblinear failed to converge, increase the number of iterations.\n",
      "  warnings.warn(\n",
      "1it [00:01,  1.33s/it]"
     ]
    },
    {
     "name": "stdout",
     "output_type": "stream",
     "text": [
      "Optimal malware training ratio: 0.5000000000000001\n"
     ]
    },
    {
     "name": "stderr",
     "output_type": "stream",
     "text": [
      "\n"
     ]
    }
   ],
   "source": [
    "spatial_clf = LinearSVC()\n",
    "optimal_malware_training_ratio, aut, error_rate = spatial.find_optimal_train_ratio(\n",
    "    spatial_clf, \n",
    "    X_train, \n",
    "    y_train, \n",
    "    temp_train, \n",
    "    proper_train_size=8, # measured in units of `granularity`\n",
    "    validation_size=4, \n",
    "    granularity=\"month\", \n",
    "    start_tr_rate=0.1, # % of malware in training to start with\n",
    "    acceptable_errors=0.1,\n",
    "    end_tr_rate=0.5 # Stop at max 50% malware\n",
    ")\n",
    "print(f\"Optimal malware training ratio: {optimal_malware_training_ratio}\")"
   ]
  },
  {
   "cell_type": "code",
   "execution_count": 36,
   "id": "743f0c19",
   "metadata": {},
   "outputs": [
    {
     "name": "stderr",
     "output_type": "stream",
     "text": [
      "0it [00:00, ?it/s]/home/laura/.pyenv/versions/3.10.15/envs/tesseract2/lib/python3.10/site-packages/scikit_learn-1.5.2-py3.10-linux-x86_64.egg/sklearn/svm/_base.py:1235: ConvergenceWarning: Liblinear failed to converge, increase the number of iterations.\n",
      "  warnings.warn(\n",
      "1it [00:05,  5.23s/it]\n",
      "0it [00:00, ?it/s]/home/laura/.pyenv/versions/3.10.15/envs/tesseract2/lib/python3.10/site-packages/scikit_learn-1.5.2-py3.10-linux-x86_64.egg/sklearn/svm/_base.py:1235: ConvergenceWarning: Liblinear failed to converge, increase the number of iterations.\n",
      "  warnings.warn(\n",
      "1it [00:03,  3.53s/it]\n",
      "0it [00:00, ?it/s]/home/laura/.pyenv/versions/3.10.15/envs/tesseract2/lib/python3.10/site-packages/scikit_learn-1.5.2-py3.10-linux-x86_64.egg/sklearn/svm/_base.py:1235: ConvergenceWarning: Liblinear failed to converge, increase the number of iterations.\n",
      "  warnings.warn(\n",
      "1it [00:02,  2.58s/it]\n",
      "0it [00:00, ?it/s]/home/laura/.pyenv/versions/3.10.15/envs/tesseract2/lib/python3.10/site-packages/scikit_learn-1.5.2-py3.10-linux-x86_64.egg/sklearn/svm/_base.py:1235: ConvergenceWarning: Liblinear failed to converge, increase the number of iterations.\n",
      "  warnings.warn(\n",
      "1it [00:02,  2.10s/it]\n",
      "0it [00:00, ?it/s]/home/laura/.pyenv/versions/3.10.15/envs/tesseract2/lib/python3.10/site-packages/scikit_learn-1.5.2-py3.10-linux-x86_64.egg/sklearn/svm/_base.py:1235: ConvergenceWarning: Liblinear failed to converge, increase the number of iterations.\n",
      "  warnings.warn(\n",
      "1it [00:02,  2.10s/it]\n",
      "0it [00:00, ?it/s]/home/laura/.pyenv/versions/3.10.15/envs/tesseract2/lib/python3.10/site-packages/scikit_learn-1.5.2-py3.10-linux-x86_64.egg/sklearn/svm/_base.py:1235: ConvergenceWarning: Liblinear failed to converge, increase the number of iterations.\n",
      "  warnings.warn(\n",
      "1it [00:02,  2.05s/it]\n",
      "0it [00:00, ?it/s]/home/laura/.pyenv/versions/3.10.15/envs/tesseract2/lib/python3.10/site-packages/scikit_learn-1.5.2-py3.10-linux-x86_64.egg/sklearn/svm/_base.py:1235: ConvergenceWarning: Liblinear failed to converge, increase the number of iterations.\n",
      "  warnings.warn(\n",
      "1it [00:01,  1.57s/it]\n",
      "0it [00:00, ?it/s]/home/laura/.pyenv/versions/3.10.15/envs/tesseract2/lib/python3.10/site-packages/scikit_learn-1.5.2-py3.10-linux-x86_64.egg/sklearn/svm/_base.py:1235: ConvergenceWarning: Liblinear failed to converge, increase the number of iterations.\n",
      "  warnings.warn(\n",
      "1it [00:01,  1.33s/it]\n",
      "0it [00:00, ?it/s]/home/laura/.pyenv/versions/3.10.15/envs/tesseract2/lib/python3.10/site-packages/scikit_learn-1.5.2-py3.10-linux-x86_64.egg/sklearn/svm/_base.py:1235: ConvergenceWarning: Liblinear failed to converge, increase the number of iterations.\n",
      "  warnings.warn(\n",
      "1it [00:01,  1.41s/it]\n"
     ]
    }
   ],
   "source": [
    "spatial_clf = LinearSVC()\n",
    "rates = spatial.search_optimal_train_ratio(\n",
    "    spatial_clf, \n",
    "    X_train, \n",
    "    y_train, \n",
    "    temp_train, \n",
    "    proper_train_size=8, # measured in units of `granularity`\n",
    "    validation_size=4, \n",
    "    granularity=\"month\", \n",
    "    start_tr_rate=0.1, # % of malware in training to start with\n",
    "    end_tr_rate=0.5 # Stop at max 50% malware\n",
    ")"
   ]
  },
  {
   "cell_type": "code",
   "execution_count": 40,
   "id": "4f7fd617",
   "metadata": {},
   "outputs": [
    {
     "data": {
      "text/html": [
       "<div>\n",
       "<style scoped>\n",
       "    .dataframe tbody tr th:only-of-type {\n",
       "        vertical-align: middle;\n",
       "    }\n",
       "\n",
       "    .dataframe tbody tr th {\n",
       "        vertical-align: top;\n",
       "    }\n",
       "\n",
       "    .dataframe thead th {\n",
       "        text-align: right;\n",
       "    }\n",
       "</style>\n",
       "<table border=\"1\" class=\"dataframe\">\n",
       "  <thead>\n",
       "    <tr style=\"text-align: right;\">\n",
       "      <th></th>\n",
       "      <th>errors</th>\n",
       "      <th>auts</th>\n",
       "      <th>phis</th>\n",
       "      <th>fn</th>\n",
       "      <th>fp</th>\n",
       "      <th>total</th>\n",
       "    </tr>\n",
       "  </thead>\n",
       "  <tbody>\n",
       "    <tr>\n",
       "      <th>0</th>\n",
       "      <td>0.030188</td>\n",
       "      <td>0.0</td>\n",
       "      <td>0.10</td>\n",
       "      <td>278.0</td>\n",
       "      <td>152.0</td>\n",
       "      <td>14244.0</td>\n",
       "    </tr>\n",
       "    <tr>\n",
       "      <th>1</th>\n",
       "      <td>0.032435</td>\n",
       "      <td>0.0</td>\n",
       "      <td>0.15</td>\n",
       "      <td>248.0</td>\n",
       "      <td>214.0</td>\n",
       "      <td>14244.0</td>\n",
       "    </tr>\n",
       "    <tr>\n",
       "      <th>2</th>\n",
       "      <td>0.031662</td>\n",
       "      <td>0.0</td>\n",
       "      <td>0.20</td>\n",
       "      <td>241.0</td>\n",
       "      <td>210.0</td>\n",
       "      <td>14244.0</td>\n",
       "    </tr>\n",
       "    <tr>\n",
       "      <th>3</th>\n",
       "      <td>0.032716</td>\n",
       "      <td>0.0</td>\n",
       "      <td>0.25</td>\n",
       "      <td>213.0</td>\n",
       "      <td>253.0</td>\n",
       "      <td>14244.0</td>\n",
       "    </tr>\n",
       "    <tr>\n",
       "      <th>4</th>\n",
       "      <td>0.037630</td>\n",
       "      <td>0.0</td>\n",
       "      <td>0.30</td>\n",
       "      <td>219.0</td>\n",
       "      <td>317.0</td>\n",
       "      <td>14244.0</td>\n",
       "    </tr>\n",
       "    <tr>\n",
       "      <th>5</th>\n",
       "      <td>0.035734</td>\n",
       "      <td>0.0</td>\n",
       "      <td>0.35</td>\n",
       "      <td>215.0</td>\n",
       "      <td>294.0</td>\n",
       "      <td>14244.0</td>\n",
       "    </tr>\n",
       "    <tr>\n",
       "      <th>6</th>\n",
       "      <td>0.039596</td>\n",
       "      <td>0.0</td>\n",
       "      <td>0.40</td>\n",
       "      <td>210.0</td>\n",
       "      <td>354.0</td>\n",
       "      <td>14244.0</td>\n",
       "    </tr>\n",
       "    <tr>\n",
       "      <th>7</th>\n",
       "      <td>0.039034</td>\n",
       "      <td>0.0</td>\n",
       "      <td>0.45</td>\n",
       "      <td>165.0</td>\n",
       "      <td>391.0</td>\n",
       "      <td>14244.0</td>\n",
       "    </tr>\n",
       "    <tr>\n",
       "      <th>8</th>\n",
       "      <td>0.042895</td>\n",
       "      <td>0.0</td>\n",
       "      <td>0.50</td>\n",
       "      <td>189.0</td>\n",
       "      <td>422.0</td>\n",
       "      <td>14244.0</td>\n",
       "    </tr>\n",
       "  </tbody>\n",
       "</table>\n",
       "</div>"
      ],
      "text/plain": [
       "     errors  auts  phis     fn     fp    total\n",
       "0  0.030188   0.0  0.10  278.0  152.0  14244.0\n",
       "1  0.032435   0.0  0.15  248.0  214.0  14244.0\n",
       "2  0.031662   0.0  0.20  241.0  210.0  14244.0\n",
       "3  0.032716   0.0  0.25  213.0  253.0  14244.0\n",
       "4  0.037630   0.0  0.30  219.0  317.0  14244.0\n",
       "5  0.035734   0.0  0.35  215.0  294.0  14244.0\n",
       "6  0.039596   0.0  0.40  210.0  354.0  14244.0\n",
       "7  0.039034   0.0  0.45  165.0  391.0  14244.0\n",
       "8  0.042895   0.0  0.50  189.0  422.0  14244.0"
      ]
     },
     "execution_count": 40,
     "metadata": {},
     "output_type": "execute_result"
    }
   ],
   "source": [
    "import pandas as pd \n",
    "\n",
    "rates = pd.DataFrame(rates)\n",
    "rates"
   ]
  }
 ],
 "metadata": {
  "kernelspec": {
   "display_name": "tesseract2",
   "language": "python",
   "name": "python3"
  },
  "language_info": {
   "codemirror_mode": {
    "name": "ipython",
    "version": 3
   },
   "file_extension": ".py",
   "mimetype": "text/x-python",
   "name": "python",
   "nbconvert_exporter": "python",
   "pygments_lexer": "ipython3",
   "version": "3.10.15"
  }
 },
 "nbformat": 4,
 "nbformat_minor": 5
}
