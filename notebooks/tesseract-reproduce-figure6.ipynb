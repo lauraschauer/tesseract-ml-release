{
 "cells": [
  {
   "cell_type": "markdown",
   "id": "bc609079",
   "metadata": {},
   "source": [
    "Tesseract Overview\n",
    "-----------------------\n",
    "\n",
    "This notebook is supposed to provide a brief overview over the Tesseract framework (and might be later adapted to Transcend as well).\n",
    "\n",
    "\n",
    "    ├── tesseract             <- Main folder\n",
    "    │   ├── mock.py           <- Module for generating test distributions for use with Tesseract\n",
    "    │   ├── evaluation.py     <- This is the class where the magic happens  ;)\n",
    "    │   ├── metrics.py        <- Various methods to calculate and output metrics (including AUT)\n",
    "    │   └── ...\n",
    "\n",
    "**TODO**: Extend this description\n",
    "\n",
    "## Running this Notebook \n",
    "\n",
    "1. Run `make data` to pull the necessary data files. \n",
    "2. Reproduce Drebin graph from paper (Figure 5)"
   ]
  },
  {
   "cell_type": "markdown",
   "id": "ce9574a7",
   "metadata": {},
   "source": [
    "---"
   ]
  },
  {
   "cell_type": "code",
   "execution_count": 2,
   "id": "852264a5",
   "metadata": {},
   "outputs": [],
   "source": [
    "import os\n",
    "import json\n",
    "import numpy as np\n",
    "from datetime import datetime\n",
    "from sklearn.feature_extraction import DictVectorizer\n",
    "\n",
    "PROJ_ROOT = os.path.abspath(os.path.join(os.pardir))\n",
    "DATA_PATH = os.path.join(PROJ_ROOT, 'data', 'processed')\n",
    "\n",
    "features_file, labels_file, meta_file = os.path.join(DATA_PATH, 'drebin-parrot-v2-down-features-X.json'), os.path.join(DATA_PATH, 'drebin-parrot-v2-down-features-Y.json'), os.path.join(DATA_PATH, 'drebin-parrot-v2-down-features-meta.json')\n",
    "\n",
    "with open(features_file) as json_file:\n",
    "    D = json.load(json_file)\n",
    "    for datapoint in D:\n",
    "        del datapoint['sha256']\n",
    "    vec = DictVectorizer()  \n",
    "    X = vec.fit_transform(D) # transform key-value (JSON) into sparse feature vector\n",
    "    \n",
    "with open(labels_file) as json_file:\n",
    "    labels = json.load(json_file)\n",
    "    y = np.array([l[0] for l in labels])\n",
    "    \n",
    "with open(meta_file) as json_file:\n",
    "    meta = json.load(json_file)\n",
    "    t = list()\n",
    "    for m in meta:\n",
    "        timestamp = datetime.strptime(m['dex_date'], '%Y-%m-%dT%H:%M:%S')\n",
    "        t.append(timestamp)\n",
    "    t = np.array(t)"
   ]
  },
  {
   "cell_type": "code",
   "execution_count": 62,
   "id": "a4e983bd",
   "metadata": {},
   "outputs": [],
   "source": [
    "from tesseract import evaluation, temporal, metrics, mock\n",
    "\n",
    "# Partition dataset\n",
    "splits = temporal.time_aware_train_test_split(X, y, t, train_size=12, test_size=1, granularity='month')"
   ]
  },
  {
   "cell_type": "code",
   "execution_count": 63,
   "id": "b3e9972e",
   "metadata": {},
   "outputs": [
    {
     "name": "stderr",
     "output_type": "stream",
     "text": [
      "0it [00:00, ?it/s]/home/laura/.pyenv/versions/3.10.15/envs/tesseract2/lib/python3.10/site-packages/scikit_learn-1.5.2-py3.10-linux-x86_64.egg/sklearn/svm/_base.py:1235: ConvergenceWarning: Liblinear failed to converge, increase the number of iterations.\n",
      "  warnings.warn(\n",
      "24it [00:10,  2.21it/s]"
     ]
    },
    {
     "name": "stdout",
     "output_type": "stream",
     "text": [
      "------------+------------------------------------------------------------------------------------------------------------------------------------------------------------------------\n",
      "Test period |     1      2      3      4      5      6      7      8      9     10     11     12     13     14     15     16     17     18     19     20     21     22     23     24   \n",
      "------------+------------------------------------------------------------------------------------------------------------------------------------------------------------------------\n",
      "Actual pos  |    144    129    215    183    221    216    275    272    354    313    374    369    344    476    635    612    452    278    352    564    148     81     23      8\n",
      "Actual neg  |   1564   1231   1888   1838   1953   2098   2521   2768   3077   2932   3010   3289   3478   3959   5818   6368   4052   2806   3027   4881   1377    758    190     67\n",
      "Total       |   1708   1360   2103   2021   2174   2314   2796   3040   3431   3245   3384   3658   3822   4435   6453   6980   4504   3084   3379   5445   1525    839    213     75\n",
      "------------+------------------------------------------------------------------------------------------------------------------------------------------------------------------------\n",
      "TPR         |  0.764  0.713  0.744  0.667  0.674  0.500  0.593  0.621  0.593  0.546  0.500  0.393  0.358  0.334  0.339  0.289  0.367  0.342  0.415  0.378  0.453  0.432  0.304  0.125\n",
      "FPR         |  0.017  0.018  0.026  0.020  0.005  0.012  0.010  0.016  0.015  0.014  0.015  0.010  0.013  0.010  0.015  0.011  0.016  0.017  0.019  0.022  0.017  0.026  0.026  0.015\n",
      "TNR         |  0.983  0.982  0.974  0.980  0.995  0.988  0.990  0.984  0.985  0.986  0.985  0.990  0.987  0.990  0.985  0.989  0.984  0.983  0.981  0.978  0.983  0.974  0.974  0.985\n",
      "FNR         |  0.236  0.287  0.256  0.333  0.326  0.500  0.407  0.379  0.407  0.454  0.500  0.607  0.642  0.666  0.661  0.711  0.633  0.658  0.585  0.622  0.547  0.568  0.696  0.875\n",
      "------------+------------------------------------------------------------------------------------------------------------------------------------------------------------------------\n",
      "Precision   |  0.809  0.807  0.766  0.772  0.943  0.812  0.862  0.793  0.817  0.807  0.810  0.819  0.732  0.807  0.714  0.720  0.719  0.660  0.723  0.670  0.736  0.636  0.583  0.500\n",
      "Recall      |  0.764  0.713  0.744  0.667  0.674  0.500  0.593  0.621  0.593  0.546  0.500  0.393  0.358  0.334  0.339  0.289  0.367  0.342  0.415  0.378  0.453  0.432  0.304  0.125\n",
      "F1          |  0.786  0.757  0.755  0.716  0.786  0.619  0.703  0.697  0.687  0.651  0.618  0.531  0.480  0.473  0.459  0.413  0.486  0.450  0.527  0.483  0.561  0.515  0.400  0.200\n",
      "------------+------------------------------------------------------------------------------------------------------------------------------------------------------------------------\n",
      "0.576516839563213\n"
     ]
    },
    {
     "name": "stderr",
     "output_type": "stream",
     "text": [
      "\n"
     ]
    }
   ],
   "source": [
    "from sklearn.svm import LinearSVC\n",
    "\n",
    "# Perform a timeline evaluation\n",
    "clf = LinearSVC()\n",
    "results_10 = evaluation.fit_predict_update(clf, *splits)\n",
    "    \n",
    "# View results \n",
    "metrics.print_metrics(results_10)\n",
    "    \n",
    "# View AUT(F1, 24 months) as a measure of robustness over time \n",
    "print(metrics.aut(results_10, 'f1'))"
   ]
  },
  {
   "cell_type": "code",
   "execution_count": 64,
   "id": "df0db176",
   "metadata": {},
   "outputs": [
    {
     "name": "stdout",
     "output_type": "stream",
     "text": [
      "0.576516839563213\n"
     ]
    }
   ],
   "source": [
    "print(metrics.aut(results_10, 'f1'))"
   ]
  },
  {
   "cell_type": "code",
   "execution_count": 65,
   "id": "dc33b722",
   "metadata": {},
   "outputs": [
    {
     "name": "stdout",
     "output_type": "stream",
     "text": [
      "F1 AUT: 0.576516839563213\n",
      "Recall AUT: 0.47822563106540306\n",
      "Precision AUT: 0.7548889758446389\n"
     ]
    },
    {
     "data": {
      "image/png": "[encoded data removed]",
      "text/plain": [
       "<Figure size 640x480 with 1 Axes>"
      ]
     },
     "metadata": {},
     "output_type": "display_data"
    }
   ],
   "source": [
    "print(f\"F1 AUT: {metrics.aut(results_10, 'f1')}\")\n",
    "print(f\"Recall AUT: {metrics.aut(results_10, 'recall')}\")\n",
    "print(f\"Precision AUT: {metrics.aut(results_10, 'precision')}\")\n",
    "#%%\n",
    "from pylab import *\n",
    "\n",
    "pendleblue='#1f8fff'\n",
    "pendleyellow='#ffa600'\n",
    "\n",
    "'#FF9999', '#FFDD99', '#AAEEEE'\n",
    "plot(results_10['precision'], marker='o', color=pendleyellow)\n",
    "plot(results_10['recall'], marker='o', color='red')\n",
    "plot(results_10['f1'], marker='o', color=pendleblue)\n",
    "legend(['Precision', 'Recall', 'F1'])\n",
    "xlim([0,23])\n",
    "xlabel('Testing period (month)')\n",
    "ylabel('Performance')\n",
    "grid(axis = 'y')"
   ]
  },
  {
   "cell_type": "markdown",
   "id": "2867f0ae",
   "metadata": {},
   "source": [
    "### Reproducing Figure 6"
   ]
  },
  {
   "cell_type": "code",
   "execution_count": 66,
   "id": "ead4fffb",
   "metadata": {},
   "outputs": [],
   "source": [
    "# Finding the optimal malware ratio in training data\n",
    "from tesseract import spatial \n",
    "\n",
    "X_train, X_test, y_train, y_test, temp_train, temp_test = temporal.time_aware_train_test_split(X, y, t, train_size=12, test_size=1, granularity='month')"
   ]
  },
  {
   "cell_type": "code",
   "execution_count": 67,
   "id": "ca080e28",
   "metadata": {},
   "outputs": [
    {
     "name": "stdout",
     "output_type": "stream",
     "text": [
      "Overall Accuracy: 0.9331555259209868\n"
     ]
    }
   ],
   "source": [
    "tp_list = results_10['tp']\n",
    "tn_list = results_10['tn']\n",
    "fp_list = results_10['fp']\n",
    "fn_list = results_10['fn']\n",
    "\n",
    "# Sum the lists\n",
    "total_tp = sum(tp_list)\n",
    "total_tn = sum(tn_list)\n",
    "total_fp = sum(fp_list)\n",
    "total_fn = sum(fn_list)\n",
    "\n",
    "# Calculate accuracy\n",
    "accuracy = (total_tp + total_tn) / (total_tp + total_tn + total_fp + total_fn)\n",
    "print(f\"Overall Accuracy: {accuracy}\")\n"
   ]
  },
  {
   "cell_type": "code",
   "execution_count": 68,
   "id": "8667661f",
   "metadata": {},
   "outputs": [
    {
     "name": "stderr",
     "output_type": "stream",
     "text": [
      "0it [00:00, ?it/s]/home/laura/.pyenv/versions/3.10.15/envs/tesseract2/lib/python3.10/site-packages/scikit_learn-1.5.2-py3.10-linux-x86_64.egg/sklearn/svm/_base.py:1235: ConvergenceWarning: Liblinear failed to converge, increase the number of iterations.\n",
      "  warnings.warn(\n",
      "2it [00:05,  2.76s/it]\n",
      "0it [00:00, ?it/s]/home/laura/.pyenv/versions/3.10.15/envs/tesseract2/lib/python3.10/site-packages/scikit_learn-1.5.2-py3.10-linux-x86_64.egg/sklearn/svm/_base.py:1235: ConvergenceWarning: Liblinear failed to converge, increase the number of iterations.\n",
      "  warnings.warn(\n",
      "2it [00:03,  1.89s/it]\n",
      "0it [00:00, ?it/s]/home/laura/.pyenv/versions/3.10.15/envs/tesseract2/lib/python3.10/site-packages/scikit_learn-1.5.2-py3.10-linux-x86_64.egg/sklearn/svm/_base.py:1235: ConvergenceWarning: Liblinear failed to converge, increase the number of iterations.\n",
      "  warnings.warn(\n",
      "2it [00:03,  1.58s/it]\n",
      "0it [00:00, ?it/s]/home/laura/.pyenv/versions/3.10.15/envs/tesseract2/lib/python3.10/site-packages/scikit_learn-1.5.2-py3.10-linux-x86_64.egg/sklearn/svm/_base.py:1235: ConvergenceWarning: Liblinear failed to converge, increase the number of iterations.\n",
      "  warnings.warn(\n",
      "2it [00:02,  1.09s/it]\n",
      "0it [00:00, ?it/s]/home/laura/.pyenv/versions/3.10.15/envs/tesseract2/lib/python3.10/site-packages/scikit_learn-1.5.2-py3.10-linux-x86_64.egg/sklearn/svm/_base.py:1235: ConvergenceWarning: Liblinear failed to converge, increase the number of iterations.\n",
      "  warnings.warn(\n",
      "2it [00:02,  1.03s/it]\n",
      "0it [00:00, ?it/s]/home/laura/.pyenv/versions/3.10.15/envs/tesseract2/lib/python3.10/site-packages/scikit_learn-1.5.2-py3.10-linux-x86_64.egg/sklearn/svm/_base.py:1235: ConvergenceWarning: Liblinear failed to converge, increase the number of iterations.\n",
      "  warnings.warn(\n",
      "2it [00:01,  1.03it/s]\n",
      "0it [00:00, ?it/s]/home/laura/.pyenv/versions/3.10.15/envs/tesseract2/lib/python3.10/site-packages/scikit_learn-1.5.2-py3.10-linux-x86_64.egg/sklearn/svm/_base.py:1235: ConvergenceWarning: Liblinear failed to converge, increase the number of iterations.\n",
      "  warnings.warn(\n",
      "2it [00:01,  1.16it/s]\n",
      "0it [00:00, ?it/s]/home/laura/.pyenv/versions/3.10.15/envs/tesseract2/lib/python3.10/site-packages/scikit_learn-1.5.2-py3.10-linux-x86_64.egg/sklearn/svm/_base.py:1235: ConvergenceWarning: Liblinear failed to converge, increase the number of iterations.\n",
      "  warnings.warn(\n",
      "2it [00:01,  1.29it/s]\n",
      "0it [00:00, ?it/s]/home/laura/.pyenv/versions/3.10.15/envs/tesseract2/lib/python3.10/site-packages/scikit_learn-1.5.2-py3.10-linux-x86_64.egg/sklearn/svm/_base.py:1235: ConvergenceWarning: Liblinear failed to converge, increase the number of iterations.\n",
      "  warnings.warn(\n",
      "2it [00:01,  1.29it/s]"
     ]
    },
    {
     "name": "stdout",
     "output_type": "stream",
     "text": [
      "Optimal malware training ratio: 0.1\n"
     ]
    },
    {
     "name": "stderr",
     "output_type": "stream",
     "text": [
      "\n"
     ]
    }
   ],
   "source": [
    "spatial_clf = LinearSVC()\n",
    "optimal_malware_training_ratio, aut, error_rate = spatial.find_optimal_train_ratio(\n",
    "    spatial_clf, \n",
    "    X_train, \n",
    "    y_train, \n",
    "    temp_train, \n",
    "    proper_train_size=8, # measured in units of `granularity`\n",
    "    validation_size=2, \n",
    "    granularity=\"month\", \n",
    "    start_tr_rate=0.1, # % of malware in training to start with\n",
    "    acceptable_errors=0.1,\n",
    "    end_tr_rate=0.5 # Stop at max 50% malware\n",
    ")\n",
    "print(f\"Optimal malware training ratio: {optimal_malware_training_ratio}\")"
   ]
  },
  {
   "cell_type": "code",
   "execution_count": 69,
   "id": "743f0c19",
   "metadata": {},
   "outputs": [
    {
     "name": "stderr",
     "output_type": "stream",
     "text": [
      "0it [00:00, ?it/s]/home/laura/.pyenv/versions/3.10.15/envs/tesseract2/lib/python3.10/site-packages/scikit_learn-1.5.2-py3.10-linux-x86_64.egg/sklearn/svm/_base.py:1235: ConvergenceWarning: Liblinear failed to converge, increase the number of iterations.\n",
      "  warnings.warn(\n",
      "2it [00:05,  2.99s/it]\n",
      "0it [00:00, ?it/s]/home/laura/.pyenv/versions/3.10.15/envs/tesseract2/lib/python3.10/site-packages/scikit_learn-1.5.2-py3.10-linux-x86_64.egg/sklearn/svm/_base.py:1235: ConvergenceWarning: Liblinear failed to converge, increase the number of iterations.\n",
      "  warnings.warn(\n",
      "2it [00:03,  1.83s/it]\n",
      "0it [00:00, ?it/s]/home/laura/.pyenv/versions/3.10.15/envs/tesseract2/lib/python3.10/site-packages/scikit_learn-1.5.2-py3.10-linux-x86_64.egg/sklearn/svm/_base.py:1235: ConvergenceWarning: Liblinear failed to converge, increase the number of iterations.\n",
      "  warnings.warn(\n",
      "2it [00:02,  1.43s/it]\n",
      "0it [00:00, ?it/s]/home/laura/.pyenv/versions/3.10.15/envs/tesseract2/lib/python3.10/site-packages/scikit_learn-1.5.2-py3.10-linux-x86_64.egg/sklearn/svm/_base.py:1235: ConvergenceWarning: Liblinear failed to converge, increase the number of iterations.\n",
      "  warnings.warn(\n",
      "2it [00:02,  1.28s/it]\n",
      "0it [00:00, ?it/s]/home/laura/.pyenv/versions/3.10.15/envs/tesseract2/lib/python3.10/site-packages/scikit_learn-1.5.2-py3.10-linux-x86_64.egg/sklearn/svm/_base.py:1235: ConvergenceWarning: Liblinear failed to converge, increase the number of iterations.\n",
      "  warnings.warn(\n",
      "2it [00:02,  1.14s/it]\n",
      "0it [00:00, ?it/s]/home/laura/.pyenv/versions/3.10.15/envs/tesseract2/lib/python3.10/site-packages/scikit_learn-1.5.2-py3.10-linux-x86_64.egg/sklearn/svm/_base.py:1235: ConvergenceWarning: Liblinear failed to converge, increase the number of iterations.\n",
      "  warnings.warn(\n",
      "2it [00:01,  1.07it/s]\n",
      "0it [00:00, ?it/s]/home/laura/.pyenv/versions/3.10.15/envs/tesseract2/lib/python3.10/site-packages/scikit_learn-1.5.2-py3.10-linux-x86_64.egg/sklearn/svm/_base.py:1235: ConvergenceWarning: Liblinear failed to converge, increase the number of iterations.\n",
      "  warnings.warn(\n",
      "2it [00:01,  1.25it/s]\n",
      "0it [00:00, ?it/s]/home/laura/.pyenv/versions/3.10.15/envs/tesseract2/lib/python3.10/site-packages/scikit_learn-1.5.2-py3.10-linux-x86_64.egg/sklearn/svm/_base.py:1235: ConvergenceWarning: Liblinear failed to converge, increase the number of iterations.\n",
      "  warnings.warn(\n",
      "2it [00:01,  1.20it/s]\n",
      "0it [00:00, ?it/s]/home/laura/.pyenv/versions/3.10.15/envs/tesseract2/lib/python3.10/site-packages/scikit_learn-1.5.2-py3.10-linux-x86_64.egg/sklearn/svm/_base.py:1235: ConvergenceWarning: Liblinear failed to converge, increase the number of iterations.\n",
      "  warnings.warn(\n",
      "2it [00:01,  1.32it/s]\n"
     ]
    }
   ],
   "source": [
    "spatial_clf = LinearSVC()\n",
    "rates = spatial.search_optimal_train_ratio(\n",
    "    spatial_clf, \n",
    "    X_train, \n",
    "    y_train, \n",
    "    temp_train, \n",
    "    proper_train_size=8, # measured in units of `granularity`\n",
    "    validation_size=2, \n",
    "    granularity=\"month\", \n",
    "    start_tr_rate=0.1, # % of malware in training to start with\n",
    "    end_tr_rate=0.5 # Stop at max 50% malware\n",
    ")"
   ]
  },
  {
   "cell_type": "code",
   "execution_count": 70,
   "id": "4f7fd617",
   "metadata": {},
   "outputs": [
    {
     "data": {
      "text/html": [
       "<div>\n",
       "<style scoped>\n",
       "    .dataframe tbody tr th:only-of-type {\n",
       "        vertical-align: middle;\n",
       "    }\n",
       "\n",
       "    .dataframe tbody tr th {\n",
       "        vertical-align: top;\n",
       "    }\n",
       "\n",
       "    .dataframe thead th {\n",
       "        text-align: right;\n",
       "    }\n",
       "</style>\n",
       "<table border=\"1\" class=\"dataframe\">\n",
       "  <thead>\n",
       "    <tr style=\"text-align: right;\">\n",
       "      <th></th>\n",
       "      <th>errors</th>\n",
       "      <th>auts</th>\n",
       "      <th>phis</th>\n",
       "      <th>fn</th>\n",
       "      <th>fp</th>\n",
       "      <th>total</th>\n",
       "    </tr>\n",
       "  </thead>\n",
       "  <tbody>\n",
       "    <tr>\n",
       "      <th>0</th>\n",
       "      <td>0.029601</td>\n",
       "      <td>0.792940</td>\n",
       "      <td>0.10</td>\n",
       "      <td>271.0</td>\n",
       "      <td>144.0</td>\n",
       "      <td>14020.0</td>\n",
       "    </tr>\n",
       "    <tr>\n",
       "      <th>1</th>\n",
       "      <td>0.031669</td>\n",
       "      <td>0.782587</td>\n",
       "      <td>0.15</td>\n",
       "      <td>256.0</td>\n",
       "      <td>188.0</td>\n",
       "      <td>14020.0</td>\n",
       "    </tr>\n",
       "    <tr>\n",
       "      <th>2</th>\n",
       "      <td>0.031027</td>\n",
       "      <td>0.790091</td>\n",
       "      <td>0.20</td>\n",
       "      <td>243.0</td>\n",
       "      <td>192.0</td>\n",
       "      <td>14020.0</td>\n",
       "    </tr>\n",
       "    <tr>\n",
       "      <th>3</th>\n",
       "      <td>0.033024</td>\n",
       "      <td>0.784783</td>\n",
       "      <td>0.25</td>\n",
       "      <td>218.0</td>\n",
       "      <td>245.0</td>\n",
       "      <td>14020.0</td>\n",
       "    </tr>\n",
       "    <tr>\n",
       "      <th>4</th>\n",
       "      <td>0.033880</td>\n",
       "      <td>0.771641</td>\n",
       "      <td>0.30</td>\n",
       "      <td>222.0</td>\n",
       "      <td>253.0</td>\n",
       "      <td>14020.0</td>\n",
       "    </tr>\n",
       "    <tr>\n",
       "      <th>5</th>\n",
       "      <td>0.037233</td>\n",
       "      <td>0.773343</td>\n",
       "      <td>0.35</td>\n",
       "      <td>197.0</td>\n",
       "      <td>325.0</td>\n",
       "      <td>14020.0</td>\n",
       "    </tr>\n",
       "    <tr>\n",
       "      <th>6</th>\n",
       "      <td>0.040585</td>\n",
       "      <td>0.759497</td>\n",
       "      <td>0.40</td>\n",
       "      <td>203.0</td>\n",
       "      <td>366.0</td>\n",
       "      <td>14020.0</td>\n",
       "    </tr>\n",
       "    <tr>\n",
       "      <th>7</th>\n",
       "      <td>0.039230</td>\n",
       "      <td>0.773563</td>\n",
       "      <td>0.45</td>\n",
       "      <td>169.0</td>\n",
       "      <td>381.0</td>\n",
       "      <td>14020.0</td>\n",
       "    </tr>\n",
       "    <tr>\n",
       "      <th>8</th>\n",
       "      <td>0.048502</td>\n",
       "      <td>0.730529</td>\n",
       "      <td>0.50</td>\n",
       "      <td>176.0</td>\n",
       "      <td>504.0</td>\n",
       "      <td>14020.0</td>\n",
       "    </tr>\n",
       "  </tbody>\n",
       "</table>\n",
       "</div>"
      ],
      "text/plain": [
       "     errors      auts  phis     fn     fp    total\n",
       "0  0.029601  0.792940  0.10  271.0  144.0  14020.0\n",
       "1  0.031669  0.782587  0.15  256.0  188.0  14020.0\n",
       "2  0.031027  0.790091  0.20  243.0  192.0  14020.0\n",
       "3  0.033024  0.784783  0.25  218.0  245.0  14020.0\n",
       "4  0.033880  0.771641  0.30  222.0  253.0  14020.0\n",
       "5  0.037233  0.773343  0.35  197.0  325.0  14020.0\n",
       "6  0.040585  0.759497  0.40  203.0  366.0  14020.0\n",
       "7  0.039230  0.773563  0.45  169.0  381.0  14020.0\n",
       "8  0.048502  0.730529  0.50  176.0  504.0  14020.0"
      ]
     },
     "execution_count": 70,
     "metadata": {},
     "output_type": "execute_result"
    }
   ],
   "source": [
    "import pandas as pd \n",
    "\n",
    "rates = pd.DataFrame(rates)\n",
    "rates"
   ]
  },
  {
   "cell_type": "markdown",
   "id": "ecfe1ed6",
   "metadata": {},
   "source": [
    "Okay, now we figured out that the AUT score is the highest with a malware percentage of 25%. So we can retrain our classifier with 25% of malware in the training data. "
   ]
  },
  {
   "cell_type": "code",
   "execution_count": 71,
   "id": "151917bb",
   "metadata": {},
   "outputs": [],
   "source": [
    "# Redo splitting\n",
    "X_train, X_test, y_train, y_test, temp_train, temp_test = temporal.time_aware_train_test_split(X, y, t, train_size=12, test_size=1, granularity='month')\n",
    "\n",
    "# Downsample so that there's 25% malware in the training data\n",
    "train_idxs = spatial.downsample_to_rate(y_train, 0.25)\n",
    "\n",
    "X_train = X_train[train_idxs]\n",
    "y_train = y_train[train_idxs]\n",
    "temp_train = temp_train[train_idxs]"
   ]
  },
  {
   "cell_type": "code",
   "execution_count": 72,
   "id": "1dca6308",
   "metadata": {},
   "outputs": [
    {
     "name": "stderr",
     "output_type": "stream",
     "text": [
      "0it [00:00, ?it/s]/home/laura/.pyenv/versions/3.10.15/envs/tesseract2/lib/python3.10/site-packages/scikit_learn-1.5.2-py3.10-linux-x86_64.egg/sklearn/svm/_base.py:1235: ConvergenceWarning: Liblinear failed to converge, increase the number of iterations.\n",
      "  warnings.warn(\n",
      "24it [00:04,  5.03it/s]\n"
     ]
    }
   ],
   "source": [
    "# Train a new classifier \n",
    "clf = LinearSVC() \n",
    "results_25 = evaluation.fit_predict_update(clf, X_train, X_test, y_train, y_test, temp_train, temp_test)"
   ]
  },
  {
   "cell_type": "code",
   "execution_count": 73,
   "id": "078e2cc4",
   "metadata": {},
   "outputs": [
    {
     "name": "stdout",
     "output_type": "stream",
     "text": [
      "------------+------------------------------------------------------------------------------------------------------------------------------------------------------------------------\n",
      "Test period |     1      2      3      4      5      6      7      8      9     10     11     12     13     14     15     16     17     18     19     20     21     22     23     24   \n",
      "------------+------------------------------------------------------------------------------------------------------------------------------------------------------------------------\n",
      "Actual pos  |    144    129    215    183    221    216    275    272    354    313    374    369    344    476    635    612    452    278    352    564    148     81     23      8\n",
      "Actual neg  |   1564   1231   1888   1838   1953   2098   2521   2768   3077   2932   3010   3289   3478   3959   5818   6368   4052   2806   3027   4881   1377    758    190     67\n",
      "Total       |   1708   1360   2103   2021   2174   2314   2796   3040   3431   3245   3384   3658   3822   4435   6453   6980   4504   3084   3379   5445   1525    839    213     75\n",
      "------------+------------------------------------------------------------------------------------------------------------------------------------------------------------------------\n",
      "TPR         |  0.806  0.814  0.777  0.781  0.747  0.676  0.698  0.728  0.712  0.677  0.650  0.566  0.549  0.420  0.452  0.389  0.462  0.460  0.506  0.512  0.514  0.407  0.174  0.250\n",
      "FPR         |  0.048  0.043  0.047  0.051  0.018  0.037  0.029  0.030  0.032  0.027  0.038  0.018  0.025  0.020  0.026  0.023  0.025  0.029  0.033  0.035  0.031  0.041  0.047  0.000\n",
      "TNR         |  0.952  0.957  0.953  0.949  0.982  0.963  0.971  0.970  0.968  0.973  0.962  0.982  0.975  0.980  0.974  0.977  0.975  0.971  0.967  0.965  0.969  0.959  0.953  1.000\n",
      "FNR         |  0.194  0.186  0.223  0.219  0.253  0.324  0.302  0.272  0.288  0.323  0.350  0.434  0.451  0.580  0.548  0.611  0.538  0.540  0.494  0.488  0.486  0.593  0.826  0.750\n",
      "------------+------------------------------------------------------------------------------------------------------------------------------------------------------------------------\n",
      "Precision   |  0.607  0.665  0.655  0.603  0.821  0.655  0.725  0.705  0.716  0.731  0.683  0.780  0.682  0.717  0.658  0.618  0.670  0.612  0.638  0.628  0.644  0.516  0.308  1.000\n",
      "Recall      |  0.806  0.814  0.777  0.781  0.747  0.676  0.698  0.728  0.712  0.677  0.650  0.566  0.549  0.420  0.452  0.389  0.462  0.460  0.506  0.512  0.514  0.407  0.174  0.250\n",
      "F1          |  0.693  0.732  0.711  0.681  0.782  0.665  0.711  0.716  0.714  0.703  0.666  0.656  0.609  0.530  0.536  0.477  0.547  0.526  0.564  0.564  0.571  0.455  0.222  0.400\n",
      "------------+------------------------------------------------------------------------------------------------------------------------------------------------------------------------\n",
      "0.6036965914557516\n"
     ]
    }
   ],
   "source": [
    "metrics.print_metrics(results_25)\n",
    "\n",
    "print(metrics.aut(results_25, 'f1'))"
   ]
  },
  {
   "cell_type": "code",
   "execution_count": 76,
   "id": "b615bbbc",
   "metadata": {},
   "outputs": [
    {
     "data": {
      "image/png": "[encoded data removed]",
      "text/plain": [
       "<Figure size 640x480 with 1 Axes>"
      ]
     },
     "metadata": {},
     "output_type": "display_data"
    }
   ],
   "source": [
    "# Reproduce the plot \n",
    "\n",
    "plot(results_10['f1'], marker='x', color='gray')\n",
    "plot(results_25['f1'], marker='o', color=pendleblue)\n",
    "legend(['F1 10%', 'F1 25%'])\n",
    "xlim([0, 23])\n",
    "ylim([0, 1])\n",
    "xlabel('Testing period (month)')\n",
    "ylabel('F1 Score')\n",
    "grid(axis = 'y')"
   ]
  }
 ],
 "metadata": {
  "kernelspec": {
   "display_name": "tesseract2",
   "language": "python",
   "name": "python3"
  },
  "language_info": {
   "codemirror_mode": {
    "name": "ipython",
    "version": 3
   },
   "file_extension": ".py",
   "mimetype": "text/x-python",
   "name": "python",
   "nbconvert_exporter": "python",
   "pygments_lexer": "ipython3",
   "version": "3.10.15"
  }
 },
 "nbformat": 4,
 "nbformat_minor": 5
}
