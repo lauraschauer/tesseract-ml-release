{
 "cells": [
  {
   "cell_type": "markdown",
   "metadata": {},
   "source": [
    "# Compare DexRay with and without Tesseract split\n",
    "\n",
    "This notebook loads the two models trained on 50k data and compares them."
   ]
  },
  {
   "cell_type": "code",
   "execution_count": 1,
   "metadata": {},
   "outputs": [
    {
     "name": "stderr",
     "output_type": "stream",
     "text": [
      "2024-11-29 07:09:34.940342: I tensorflow/tsl/cuda/cudart_stub.cc:28] Could not find cuda drivers on your machine, GPU will not be used.\n",
      "2024-11-29 07:09:35.043912: I tensorflow/tsl/cuda/cudart_stub.cc:28] Could not find cuda drivers on your machine, GPU will not be used.\n",
      "2024-11-29 07:09:35.045955: I tensorflow/core/platform/cpu_feature_guard.cc:182] This TensorFlow binary is optimized to use available CPU instructions in performance-critical operations.\n",
      "To enable the following instructions: AVX2 FMA, in other operations, rebuild TensorFlow with the appropriate compiler flags.\n",
      "2024-11-29 07:09:36.826839: W tensorflow/compiler/tf2tensorrt/utils/py_utils.cc:38] TF-TRT Warning: Could not find TensorRT\n"
     ]
    }
   ],
   "source": [
    "import csv\n",
    "import json\n",
    "import os\n",
    "from datetime import datetime\n",
    "\n",
    "import numpy as np\n",
    "import tensorflow.keras as keras\n",
    "from tqdm import tqdm\n",
    "\n",
    "from tesseract.evaluation import predict\n",
    "from tesseract import evaluation, temporal, metrics\n",
    "\n",
    "APK_METADATA_PATH = \"/scratch/users/mbenali/metadata.csv\"\n",
    "NUMPY_FILES_DIR = \"/scratch/users/mbenali/download_apk/100k_download/npy\"\n",
    "# Where to save all training and testing data after splitting \n",
    "DEXRAY_TESSERACT_DATA_DIR = \"./data/dexray_tesseract\"\n",
    "DEXRAY_BASE_DATA_DIR = \"./data/dexray_base\"\n",
    "YEAR_START = 2010\n",
    "YEAR_END = 2022"
   ]
  },
  {
   "cell_type": "markdown",
   "metadata": {},
   "source": [
    "### DexRay with Tesseract"
   ]
  },
  {
   "cell_type": "code",
   "execution_count": 7,
   "metadata": {},
   "outputs": [],
   "source": [
    "dexray_tesseract_model = keras.saving.load_model(\"../models/model-50k-tesseract\")"
   ]
  },
  {
   "cell_type": "markdown",
   "metadata": {},
   "source": [
    "Use our custom prediction function for the Keras classifier"
   ]
  },
  {
   "cell_type": "code",
   "execution_count": 8,
   "metadata": {},
   "outputs": [],
   "source": [
    "def predict_keras(X_test):\n",
    "    probabilities = dexray_tesseract_model.predict(X_test, verbose=0)\n",
    "    return (probabilities > 0.5).astype(int).flatten()  # Convert to 1D array of labels"
   ]
  },
  {
   "cell_type": "code",
   "execution_count": 9,
   "metadata": {},
   "outputs": [],
   "source": [
    "# Load saved arrays\n",
    "X_train = np.load(os.path.join(DEXRAY_TESSERACT_DATA_DIR, 'X_train.npy'), allow_pickle=True)\n",
    "X_test = np.load(os.path.join(DEXRAY_TESSERACT_DATA_DIR, 'X_test.npy'), allow_pickle=True)\n",
    "y_train = np.load(os.path.join(DEXRAY_TESSERACT_DATA_DIR, 'y_train.npy'), allow_pickle=True)\n",
    "y_test = np.load(os.path.join(DEXRAY_TESSERACT_DATA_DIR, 'y_test.npy'), allow_pickle=True)\n",
    "t_train = np.load(os.path.join(DEXRAY_TESSERACT_DATA_DIR, 't_train.npy'), allow_pickle=True)\n",
    "t_test = np.load(os.path.join(DEXRAY_TESSERACT_DATA_DIR, 't_test.npy'), allow_pickle=True)"
   ]
  },
  {
   "cell_type": "code",
   "execution_count": 10,
   "metadata": {},
   "outputs": [
    {
     "name": "stderr",
     "output_type": "stream",
     "text": [
      "100%|██████████| 3/3 [00:08<00:00,  2.67s/it]\n"
     ]
    }
   ],
   "source": [
    "y_preds = predict(\n",
    "    dexray_tesseract_model, \n",
    "    X_tests=X_test,\n",
    "    predict_function=predict_keras\n",
    ")"
   ]
  },
  {
   "cell_type": "code",
   "execution_count": 13,
   "metadata": {},
   "outputs": [],
   "source": [
    "results = metrics.calculate_metrics(y_test, y_preds, periods=-1)"
   ]
  },
  {
   "cell_type": "code",
   "execution_count": 15,
   "metadata": {},
   "outputs": [
    {
     "data": {
      "text/plain": [
       "defaultdict(list,\n",
       "            {'tp': [849, 1755, 167],\n",
       "             'fp': [39, 61, 8],\n",
       "             'tn': [2258, 2163, 271],\n",
       "             'fn': [35, 62, 4],\n",
       "             'p': [884, 1817, 171],\n",
       "             'n': [2297, 2224, 279],\n",
       "             'tot': [3181, 4041, 450],\n",
       "             'tp_cumu': [849, 2604, 2771],\n",
       "             'fp_cumu': [39, 100, 108],\n",
       "             'tn_cumu': [2258, 4421, 4692],\n",
       "             'fn_cumu': [35, 97, 101],\n",
       "             'p_cumu': [884, 2701, 2872],\n",
       "             'n_cumu': [2297, 4521, 4800],\n",
       "             'tot_cumu': [3181, 7222, 7672],\n",
       "             'tpr': [0.9604072398190046,\n",
       "              0.9658778205833792,\n",
       "              0.9766081871345029],\n",
       "             'fnr': [0.03959276018099547,\n",
       "              0.0341221794166208,\n",
       "              0.023391812865497075],\n",
       "             'fpr': [0.01697866782760122,\n",
       "              0.027428057553956834,\n",
       "              0.02867383512544803],\n",
       "             'tnr': [0.9830213321723987,\n",
       "              0.9725719424460432,\n",
       "              0.9713261648745519],\n",
       "             'precision': [0.956081081081081,\n",
       "              0.9664096916299559,\n",
       "              0.9542857142857143],\n",
       "             'recall': [0.9604072398190046,\n",
       "              0.9658778205833792,\n",
       "              0.9766081871345029],\n",
       "             'f1': [0.9582392776523702,\n",
       "              0.9661436829066887,\n",
       "              0.9653179190751445],\n",
       "             'precision_n': [0.9847361535106847,\n",
       "              0.9721348314606741,\n",
       "              0.9854545454545455],\n",
       "             'recall_n': [0.9830213321723987,\n",
       "              0.9725719424460432,\n",
       "              0.9713261648745519],\n",
       "             'f1_n': [0.9838779956427015,\n",
       "              0.9723533378287256,\n",
       "              0.9783393501805054],\n",
       "             'auc_roc': []})"
      ]
     },
     "execution_count": 15,
     "metadata": {},
     "output_type": "execute_result"
    }
   ],
   "source": [
    "results"
   ]
  },
  {
   "cell_type": "code",
   "execution_count": 14,
   "metadata": {},
   "outputs": [
    {
     "name": "stdout",
     "output_type": "stream",
     "text": [
      "------------+---------------------\n",
      "Test period |     1      2      3   \n",
      "------------+---------------------\n",
      "Actual pos  |    884   1817    171\n",
      "Actual neg  |   2297   2224    279\n",
      "Total       |   3181   4041    450\n",
      "------------+---------------------\n",
      "TPR         |  0.960  0.966  0.977\n",
      "FPR         |  0.017  0.027  0.029\n",
      "TNR         |  0.983  0.973  0.971\n",
      "FNR         |  0.040  0.034  0.023\n",
      "------------+---------------------\n",
      "Precision   |  0.956  0.966  0.954\n",
      "Recall      |  0.960  0.966  0.977\n",
      "F1          |  0.958  0.966  0.965\n",
      "------------+---------------------\n"
     ]
    }
   ],
   "source": [
    "metrics.print_metrics(results)"
   ]
  },
  {
   "cell_type": "markdown",
   "metadata": {},
   "source": [
    "### DexRay without Tesseract"
   ]
  },
  {
   "cell_type": "code",
   "execution_count": 2,
   "metadata": {},
   "outputs": [],
   "source": [
    "dexray_base_model = keras.saving.load_model(\"../models/model-50k-base\")"
   ]
  },
  {
   "cell_type": "code",
   "execution_count": 3,
   "metadata": {},
   "outputs": [],
   "source": [
    "X_test = np.load(os.path.join(DEXRAY_BASE_DATA_DIR, 'X_test.npy'), allow_pickle=True)\n",
    "y_test = np.load(os.path.join(DEXRAY_BASE_DATA_DIR, 'y_test.npy'), allow_pickle=True)"
   ]
  },
  {
   "cell_type": "code",
   "execution_count": null,
   "metadata": {},
   "outputs": [],
   "source": [
    "X_test = X_test.reshape(X_test.shape[0], 16384, 1)"
   ]
  },
  {
   "cell_type": "code",
   "execution_count": 5,
   "metadata": {},
   "outputs": [
    {
     "data": {
      "text/plain": [
       "(10000, 16384, 1)"
      ]
     },
     "execution_count": 5,
     "metadata": {},
     "output_type": "execute_result"
    }
   ],
   "source": [
    "X_test.shape"
   ]
  },
  {
   "cell_type": "code",
   "execution_count": 6,
   "metadata": {},
   "outputs": [
    {
     "name": "stdout",
     "output_type": "stream",
     "text": [
      "313/313 [==============================] - 10s 32ms/step\n",
      "F1 Score: 0.9212026956972524\n"
     ]
    }
   ],
   "source": [
    "from sklearn.metrics import f1_score\n",
    "\n",
    "# Get predictions for X_test\n",
    "y_pred = dexray_base_model.predict(X_test)\n",
    "y_pred = (y_pred > 0.5).astype(int).flatten()  # Convert probabilities to binary predictions\n",
    "\n",
    "# Compute F1 score\n",
    "f1 = f1_score(y_test, y_pred)\n",
    "print(f\"F1 Score: {f1}\")"
   ]
  }
 ],
 "metadata": {
  "kernelspec": {
   "display_name": "tesseract",
   "language": "python",
   "name": "python3"
  },
  "language_info": {
   "codemirror_mode": {
    "name": "ipython",
    "version": 3
   },
   "file_extension": ".py",
   "mimetype": "text/x-python",
   "name": "python",
   "nbconvert_exporter": "python",
   "pygments_lexer": "ipython3",
   "version": "3.10.15"
  }
 },
 "nbformat": 4,
 "nbformat_minor": 2
}
