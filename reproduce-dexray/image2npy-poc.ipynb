{
 "cells": [
  {
   "cell_type": "markdown",
   "metadata": {},
   "source": [
    "# Getting the PNG images into numpy arrays"
   ]
  },
  {
   "cell_type": "code",
   "execution_count": 24,
   "metadata": {},
   "outputs": [],
   "source": [
    "import os\n",
    "import numpy as np\n",
    "import tensorflow as tf\n",
    "\n",
    "from PIL import Image"
   ]
  },
  {
   "cell_type": "code",
   "execution_count": 25,
   "metadata": {},
   "outputs": [],
   "source": [
    "IMG_SIZE = 128\n",
    "\n",
    "def get_label(file_path):\n",
    "    parts = tf.strings.split(file_path, os.path.sep)\n",
    "    if parts[-2] == \"goodware\":\n",
    "        return [0]\n",
    "    else:\n",
    "        return [1]\n",
    "\n",
    "def get_image(path_img):\n",
    "    image = np.asarray(Image.open(path_img))\n",
    "    image = tf.convert_to_tensor(image, dtype_hint=None, name=None)\n",
    "    return image\n",
    "\n",
    "\n",
    "def get_shape(image):\n",
    "    return image.shape[0]\n",
    "\n",
    "\n",
    "def decode_img(path_img):\n",
    "    image = tf.numpy_function(get_image, [path_img], tf.uint8)\n",
    "    shape = tf.numpy_function(get_shape, [image], tf.int64)\n",
    "    image = tf.reshape(image, [shape, 1, 1])\n",
    "    image = tf.image.convert_image_dtype(image, tf.float32)\n",
    "    image = tf.image.resize(image, [IMG_SIZE * IMG_SIZE, 1])\n",
    "    return tf.reshape(image, [IMG_SIZE * IMG_SIZE, 1])\n",
    "\n",
    "\n",
    "def process_path(file_path):\n",
    "    label = get_label(file_path)\n",
    "    img = decode_img(file_path)\n",
    "    return img, label"
   ]
  },
  {
   "cell_type": "code",
   "execution_count": 27,
   "metadata": {},
   "outputs": [
    {
     "name": "stdout",
     "output_type": "stream",
     "text": [
      "(16384, 1)\n"
     ]
    }
   ],
   "source": [
    "# Conversion of 1 image with DexRay code\n",
    "dex_image1 = get_image(\"/scratch/users/mbenali/download_apk/images/malware/7F87D3C14086DAD9ECEBD36EBD7D99640942F6386323E99143259C2E83E5DA79.png\")\n",
    "dex_image1_shape = tf.numpy_function(get_shape, [dex_image1], tf.int64)\n",
    "\n",
    "image = tf.reshape(dex_image1, [dex_image1_shape, 1, 1])\n",
    "image = tf.image.convert_image_dtype(image, tf.float32)\n",
    "image = tf.image.resize(image, [IMG_SIZE * IMG_SIZE, 1])\n",
    "resized_dex_image1 = tf.reshape(image, [IMG_SIZE * IMG_SIZE, 1])\n",
    "\n",
    "print(resized_dex_image1.shape)"
   ]
  },
  {
   "cell_type": "markdown",
   "metadata": {},
   "source": [
    "A random goodware hash: 8219FD7332A38E465CFCD3500FB1DC1EBBA00E7BA7C9616AD0704A5817DA52FD"
   ]
  },
  {
   "cell_type": "markdown",
   "metadata": {},
   "source": [
    "GPT function to do the resizing on numpy arrays manually since the pytorch function doesn't exist: "
   ]
  },
  {
   "cell_type": "code",
   "execution_count": null,
   "metadata": {},
   "outputs": [],
   "source": [
    "from scipy.ndimage import zoom\n",
    "\n",
    "IMG_SIZE = 128  # Replace with your desired image size\n",
    "\n",
    "def resize_image(image, target_height, target_width):\n",
    "    \"\"\"Resize the image to the target dimensions using interpolation.\"\"\"\n",
    "    current_height, current_width = image.shape[:2]\n",
    "    zoom_factors = (target_height / current_height, target_width / current_width)\n",
    "    resized_image = zoom(image, zoom_factors + (1,) if image.ndim == 3 else zoom_factors, order=1)  # Bilinear interpolation\n",
    "    return resized_image\n",
    "\n",
    "def get_image(path_img):\n",
    "    \"\"\"Reads an image from the given path and converts it to a NumPy array.\"\"\"\n",
    "    image = np.asarray(Image.open(path_img))\n",
    "    return image\n",
    "\n",
    "def get_shape(image):\n",
    "    \"\"\"Returns the height (first dimension) of the image.\"\"\"\n",
    "    return image.shape[0]\n",
    "\n",
    "def decode_img(path_img):\n",
    "    \"\"\"Processes an image: loads, normalizes, resizes, and reshapes it.\"\"\"\n",
    "    image = get_image(path_img)  # Load the image as a NumPy array\n",
    "    shape = get_shape(image)  # Get the height of the image\n",
    "    \n",
    "    # Normalize to [0, 1]\n",
    "    image = image.astype(np.float32) / 255.0\n",
    "    \n",
    "    # Resize the image to (IMG_SIZE, IMG_SIZE)\n",
    "    image = resize_image(image, IMG_SIZE, IMG_SIZE)\n",
    "    \n",
    "    # Reshape to final format\n",
    "    return image.reshape(IMG_SIZE * IMG_SIZE, 1)"
   ]
  },
  {
   "cell_type": "code",
   "execution_count": null,
   "metadata": {},
   "outputs": [
    {
     "name": "stdout",
     "output_type": "stream",
     "text": [
      "(16384, 1) [0.39215687]\n"
     ]
    }
   ],
   "source": [
    "npy_image = decode_img(\"/scratch/users/mbenali/download_apk/images/goodware/8219FD7332A38E465CFCD3500FB1DC1EBBA00E7BA7C9616AD0704A5817DA52FD.png\")\n",
    "\n",
    "print(npy_image.shape, npy_image[0])"
   ]
  },
  {
   "cell_type": "markdown",
   "metadata": {},
   "source": [
    "This resized image should now be the exact same as one that's obtained by DexRay code."
   ]
  },
  {
   "cell_type": "code",
   "execution_count": null,
   "metadata": {},
   "outputs": [
    {
     "name": "stdout",
     "output_type": "stream",
     "text": [
      "(16384, 1)\n",
      "[[False]\n",
      " [False]\n",
      " [False]\n",
      " ...\n",
      " [False]\n",
      " [ True]\n",
      " [ True]]\n"
     ]
    }
   ],
   "source": [
    "dex_image1_npy = resized_dex_image1.numpy()\n",
    "print(dex_image1_npy.shape)\n",
    "print(dex_image1_npy == npy_image)"
   ]
  },
  {
   "cell_type": "code",
   "execution_count": null,
   "metadata": {},
   "outputs": [
    {
     "name": "stdout",
     "output_type": "stream",
     "text": [
      "[[0.00804036]\n",
      " [0.22706372]\n",
      " [0.38615534]\n",
      " ...\n",
      " [0.06666667]\n",
      " [0.        ]\n",
      " [0.        ]] [[0.39215687]\n",
      " [0.39215687]\n",
      " [0.39215687]\n",
      " ...\n",
      " [0.        ]\n",
      " [0.        ]\n",
      " [0.        ]]\n"
     ]
    }
   ],
   "source": [
    "print(dex_image1_npy, npy_image)"
   ]
  },
  {
   "cell_type": "markdown",
   "metadata": {},
   "source": [
    "## Compare generated images with DexRay\n",
    "\n",
    "A random malware hash: 7F87D3C14086DAD9ECEBD36EBD7D99640942F6386323E99143259C2E83E5DA79"
   ]
  },
  {
   "cell_type": "code",
   "execution_count": 32,
   "metadata": {},
   "outputs": [
    {
     "data": {
      "text/plain": [
       "array([[0.38309494],\n",
       "       [0.33188623],\n",
       "       [0.71744466],\n",
       "       ...,\n",
       "       [0.        ],\n",
       "       [0.        ],\n",
       "       [0.        ]], dtype=float32)"
      ]
     },
     "execution_count": 32,
     "metadata": {},
     "output_type": "execute_result"
    }
   ],
   "source": [
    "from_npy_files = np.load(\"/scratch/users/mbenali/download_apk/npy2/malware/7F87D3C14086DAD9ECEBD36EBD7D99640942F6386323E99143259C2E83E5DA79.npy\")\n",
    "\n",
    "from_npy_files"
   ]
  },
  {
   "cell_type": "code",
   "execution_count": 34,
   "metadata": {},
   "outputs": [
    {
     "data": {
      "text/plain": [
       "array([[ True],\n",
       "       [ True],\n",
       "       [ True],\n",
       "       ...,\n",
       "       [ True],\n",
       "       [ True],\n",
       "       [ True]])"
      ]
     },
     "execution_count": 34,
     "metadata": {},
     "output_type": "execute_result"
    }
   ],
   "source": [
    "resized_dex_image1.numpy() == from_npy_files"
   ]
  }
 ],
 "metadata": {
  "kernelspec": {
   "display_name": "tesseract",
   "language": "python",
   "name": "python3"
  },
  "language_info": {
   "codemirror_mode": {
    "name": "ipython",
    "version": 3
   },
   "file_extension": ".py",
   "mimetype": "text/x-python",
   "name": "python",
   "nbconvert_exporter": "python",
   "pygments_lexer": "ipython3",
   "version": "3.10.15"
  }
 },
 "nbformat": 4,
 "nbformat_minor": 2
}
