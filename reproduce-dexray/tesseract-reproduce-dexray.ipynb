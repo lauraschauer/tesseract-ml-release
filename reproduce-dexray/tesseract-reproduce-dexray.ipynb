{
 "cells": [
  {
   "cell_type": "markdown",
   "metadata": {},
   "source": [
    "# Run Tesseract on the DexRay algorithm"
   ]
  },
  {
   "cell_type": "code",
   "execution_count": 1,
   "metadata": {},
   "outputs": [
    {
     "name": "stderr",
     "output_type": "stream",
     "text": [
      "2024-11-27 07:30:48.578704: I tensorflow/tsl/cuda/cudart_stub.cc:28] Could not find cuda drivers on your machine, GPU will not be used.\n",
      "2024-11-27 07:30:48.714296: I tensorflow/tsl/cuda/cudart_stub.cc:28] Could not find cuda drivers on your machine, GPU will not be used.\n",
      "2024-11-27 07:30:48.715877: I tensorflow/core/platform/cpu_feature_guard.cc:182] This TensorFlow binary is optimized to use available CPU instructions in performance-critical operations.\n",
      "To enable the following instructions: AVX2 FMA, in other operations, rebuild TensorFlow with the appropriate compiler flags.\n",
      "2024-11-27 07:30:52.017205: W tensorflow/compiler/tf2tensorrt/utils/py_utils.cc:38] TF-TRT Warning: Could not find TensorRT\n"
     ]
    }
   ],
   "source": [
    "# Standard library imports\n",
    "import argparse\n",
    "import csv\n",
    "import datetime\n",
    "import os\n",
    "import random as python_random\n",
    "import sys\n",
    "from datetime import datetime, timedelta\n",
    "\n",
    "import matplotlib.pyplot as plt\n",
    "import numpy as np\n",
    "import pandas as pd\n",
    "from PIL import Image\n",
    "import seaborn as sns\n",
    "import tensorflow as tf\n",
    "import tensorflow.keras as keras\n",
    "from tensorflow.keras.layers import Conv1D, MaxPooling1D, Flatten, Dense\n",
    "from tensorflow.keras.models import Sequential\n",
    "from tqdm import tqdm\n",
    "\n",
    "# Optional import (commented)\n",
    "# import tensorflow_addons as tfa\n",
    "\n",
    "# Local imports\n",
    "from tesseract import evaluation, metrics, mock, temporal, spatial\n",
    "\n",
    "\n",
    "random_seed = 123456"
   ]
  },
  {
   "cell_type": "code",
   "execution_count": 2,
   "metadata": {},
   "outputs": [],
   "source": [
    "APK_METADATA_PATH = \"/scratch/users/mbenali/metadata.csv\"\n",
    "\n",
    "GOODWARE_PATH = \"/scratch/users/mbenali/download_apk/100k_download/images/goodware\"\n",
    "MALWARE_PATH = \"/scratch/users/mbenali/download_apk/100k_download/images/malware\"\n",
    "\n",
    "IMG_SIZE=128"
   ]
  },
  {
   "cell_type": "markdown",
   "metadata": {},
   "source": [
    "### Time Plots\n",
    "\n",
    "The first plot shows the distribution of all 10000 APKs.\n",
    "\n",
    "Helper function `load_images()` to load and preprocess the grayscale images into a numpy array X"
   ]
  },
  {
   "cell_type": "code",
   "execution_count": 3,
   "metadata": {},
   "outputs": [],
   "source": [
    "def extract_dates_from_csv():\n",
    "    # List to hold the date objects\n",
    "    date_list = []\n",
    "    \n",
    "    # Open and read the CSV file\n",
    "    with open(APK_METADATA_PATH) as csvfile:\n",
    "        reader = csv.reader(csvfile)\n",
    "        next(reader)  # Skip the header row\n",
    "        for row in reader:\n",
    "            # Convert the string from the 4th column to a datetime object\n",
    "            try:\n",
    "                date = datetime.strptime(row[3], '%Y-%m-%d %H:%M:%S')\n",
    "                date_list.append(date)\n",
    "            except ValueError:\n",
    "                # Handle invalid date format if necessary\n",
    "                pass\n",
    "    \n",
    "    # Convert the list of datetime objects to a numpy array\n",
    "    return np.array(date_list)"
   ]
  },
  {
   "cell_type": "code",
   "execution_count": 4,
   "metadata": {},
   "outputs": [
    {
     "data": {
      "image/png": "[encoded data removed]",
      "text/plain": [
       "<Figure size 1000x600 with 1 Axes>"
      ]
     },
     "metadata": {},
     "output_type": "display_data"
    }
   ],
   "source": [
    "dates = extract_dates_from_csv()\n",
    "\n",
    "plt.figure(figsize=(10, 6))\n",
    "plt.hist(dates, bins=100, edgecolor='black', color='skyblue')\n",
    "plt.xlabel('Date')\n",
    "plt.ylabel('Number of Entries')\n",
    "plt.title('Histogram of Date Entries')\n",
    "plt.xticks(rotation=45)\n",
    "plt.tight_layout()\n",
    "plt.show()"
   ]
  },
  {
   "cell_type": "code",
   "execution_count": 5,
   "metadata": {},
   "outputs": [
    {
     "ename": "NameError",
     "evalue": "name 'dates' is not defined",
     "output_type": "error",
     "traceback": [
      "\u001b[0;31m---------------------------------------------------------------------------\u001b[0m",
      "\u001b[0;31mNameError\u001b[0m                                 Traceback (most recent call last)",
      "Cell \u001b[0;32mIn[5], line 16\u001b[0m\n\u001b[1;32m     14\u001b[0m \u001b[38;5;66;03m# Plot the histogram with bins representing one month\u001b[39;00m\n\u001b[1;32m     15\u001b[0m plt\u001b[38;5;241m.\u001b[39mfigure(figsize\u001b[38;5;241m=\u001b[39m(\u001b[38;5;241m10\u001b[39m, \u001b[38;5;241m6\u001b[39m))\n\u001b[0;32m---> 16\u001b[0m plt\u001b[38;5;241m.\u001b[39mhist(\u001b[43mdates\u001b[49m, bins\u001b[38;5;241m=\u001b[39mbins, edgecolor\u001b[38;5;241m=\u001b[39m\u001b[38;5;124m'\u001b[39m\u001b[38;5;124mblack\u001b[39m\u001b[38;5;124m'\u001b[39m, color\u001b[38;5;241m=\u001b[39m\u001b[38;5;124m'\u001b[39m\u001b[38;5;124mskyblue\u001b[39m\u001b[38;5;124m'\u001b[39m)\n\u001b[1;32m     18\u001b[0m \u001b[38;5;66;03m# Set x-axis limits to the range from 2018-01-01 to 2019-12-31\u001b[39;00m\n\u001b[1;32m     19\u001b[0m plt\u001b[38;5;241m.\u001b[39mxlim(start_date, end_date)\n",
      "\u001b[0;31mNameError\u001b[0m: name 'dates' is not defined"
     ]
    },
    {
     "data": {
      "text/plain": [
       "<Figure size 1000x600 with 0 Axes>"
      ]
     },
     "metadata": {},
     "output_type": "display_data"
    }
   ],
   "source": [
    "# Define the start and end date for the x-axis\n",
    "start_date = datetime(2008, 1, 1)\n",
    "end_date = datetime(2025, 12, 31, 23, 59, 59)\n",
    "\n",
    "# Generate the bin edges (start of each month between 2018 and 2019)\n",
    "bins = []\n",
    "current_date = start_date\n",
    "while current_date <= end_date:\n",
    "    bins.append(current_date)\n",
    "    # Move to the start of the next month\n",
    "    next_month = current_date.replace(day=28) + timedelta(days=4)  # Move to next month's first day\n",
    "    current_date = next_month.replace(day=1)\n",
    "\n",
    "# Plot the histogram with bins representing one month\n",
    "plt.figure(figsize=(10, 6))\n",
    "plt.hist(dates, bins=bins, edgecolor='black', color='skyblue')\n",
    "\n",
    "# Set x-axis limits to the range from 2018-01-01 to 2019-12-31\n",
    "plt.xlim(start_date, end_date)\n",
    "\n",
    "# Label the axes and title\n",
    "plt.xlabel('Date')\n",
    "plt.ylabel('Number of Entries')\n",
    "plt.title('Histogram of Date Entries (2018-2019)')\n",
    "\n",
    "# Rotate x-axis labels for better readability\n",
    "plt.xticks(rotation=45)\n",
    "\n",
    "# Auto adjust layout to avoid overlap\n",
    "plt.tight_layout()\n",
    "\n",
    "# Show the plot\n",
    "plt.show()"
   ]
  },
  {
   "cell_type": "markdown",
   "metadata": {},
   "source": [
    "### Load X, y and temp\n",
    "\n",
    "Here starts the new code getting X from the numpy files, y from the folder name and getting the corresponding date by searching the CSV."
   ]
  },
  {
   "cell_type": "code",
   "execution_count": 5,
   "metadata": {},
   "outputs": [],
   "source": [
    "def load_apk_metadata(file_path):\n",
    "    \"\"\"Loads the APK metadata from the CSV file into a dictionary for quick lookups.\"\"\"\n",
    "    metadata = {}\n",
    "    with open(file_path, 'r') as csv_file:\n",
    "        reader = csv.DictReader(csv_file, fieldnames=[\n",
    "            'sha256', 'sha1', 'md5', 'date_time', 'number1',\n",
    "            'package', 'number2', 'number3', 'dex_date', 'number4', 'source'\n",
    "        ])\n",
    "        csv_file.seek(0)  # Reset file pointer to the beginning\n",
    "        for row in reader:\n",
    "            metadata[row['sha256']] = row['dex_date']\n",
    "    return metadata\n",
    "\n",
    "def get_date_time_from_hash(search_hash, metadata):\n",
    "    \"\"\"\n",
    "    Retrieves the `dex_date` for the given hash using preloaded metadata.\"\"\"\n",
    "    if search_hash in metadata:\n",
    "        try:\n",
    "            return datetime.strptime(metadata[search_hash], '%Y-%m-%d %H:%M:%S')\n",
    "        except ValueError as e:\n",
    "            print(f\"Error parsing date for {search_hash}: {e}\")\n",
    "            return None\n",
    "    return None"
   ]
  },
  {
   "cell_type": "code",
   "execution_count": 6,
   "metadata": {},
   "outputs": [],
   "source": [
    "metadata = load_apk_metadata(APK_METADATA_PATH)"
   ]
  },
  {
   "cell_type": "code",
   "execution_count": 7,
   "metadata": {},
   "outputs": [
    {
     "data": {
      "text/plain": [
       "24792509"
      ]
     },
     "execution_count": 7,
     "metadata": {},
     "output_type": "execute_result"
    }
   ],
   "source": [
    "len(metadata)"
   ]
  },
  {
   "cell_type": "code",
   "execution_count": 8,
   "metadata": {},
   "outputs": [],
   "source": [
    "NUMPY_FILES_DIR = \"/scratch/users/mbenali/download_apk/npy2\"\n",
    "# Define timeframe of relevant apps \n",
    "YEAR_START = 2010\n",
    "YEAR_END = 2022\n",
    "\n",
    "def assemble_arrays():\n",
    "    \"\"\"Assembles numpy arrays from .npy files along with their labels and dates.\"\"\"\n",
    "    X = []\n",
    "    y = []\n",
    "    temp = []\n",
    "\n",
    "    dirs = [NUMPY_FILES_DIR + '/malware', NUMPY_FILES_DIR + '/goodware']\n",
    "    stop = 0\n",
    "\n",
    "    for directory in dirs:\n",
    "        if not os.path.exists(directory):\n",
    "            continue\n",
    "            \n",
    "        for file in os.listdir(directory):\n",
    "            if stop >= 10000:\n",
    "                break\n",
    "            stop += 1\n",
    "\n",
    "            if not file.endswith('.npy'):\n",
    "                continue\n",
    "\n",
    "            # Obtain the date\n",
    "            apk_date = get_date_time_from_hash(file[:-4], metadata)  # remove .npy\n",
    "\n",
    "            # Do not include if outside of date range\n",
    "            if apk_date is None or apk_date.year < YEAR_START or apk_date.year > YEAR_END:\n",
    "                continue\n",
    "\n",
    "            temp.append(apk_date)\n",
    "\n",
    "            filepath = os.path.join(directory, file)\n",
    "            array = np.load(filepath)\n",
    "            X.append(array.flatten())  # Flattening ensures all arrays are rows\n",
    "\n",
    "            # Obtain the label \n",
    "            y.append(0 if 'goodware' in directory else 1)\n",
    "\n",
    "        print(f\"Done with {directory}\")\n",
    "\n",
    "    return np.stack(X), np.array(y), np.array(temp)"
   ]
  },
  {
   "cell_type": "code",
   "execution_count": 9,
   "metadata": {},
   "outputs": [
    {
     "name": "stdout",
     "output_type": "stream",
     "text": [
      "Done with /scratch/users/mbenali/download_apk/npy2/malware\n",
      "Done with /scratch/users/mbenali/download_apk/npy2/goodware\n"
     ]
    }
   ],
   "source": [
    "X, y, temp = assemble_arrays()"
   ]
  },
  {
   "cell_type": "code",
   "execution_count": 10,
   "metadata": {},
   "outputs": [
    {
     "data": {
      "text/plain": [
       "array([0.59415936, 0.        , 0.5476491 , ..., 0.3806373 , 0.23897058,\n",
       "       0.52254903], dtype=float32)"
      ]
     },
     "execution_count": 10,
     "metadata": {},
     "output_type": "execute_result"
    }
   ],
   "source": [
    "X[0]"
   ]
  },
  {
   "cell_type": "code",
   "execution_count": 13,
   "metadata": {},
   "outputs": [
    {
     "name": "stdout",
     "output_type": "stream",
     "text": [
      "Shape of X: (9031, 16384)\n",
      "Contents of X[0]: [0.59415936 0.         0.5476491  ... 0.3806373  0.23897058 0.52254903]\n",
      "\n",
      "# elements in y: 9031\n",
      "# of unique elements in y (0, 1): [0 1]\n",
      "# of malware samples: 1925\n",
      "# of goodware samples: 7106\n",
      "\n",
      "# elements in temp: 9031\n"
     ]
    }
   ],
   "source": [
    "# Get all sorts of sanity checks\n",
    "print(f\"Shape of X: {X.shape}\")\n",
    "print(f\"Contents of X[0]: {X[0]}\")\n",
    "\n",
    "print(f\"\\n# elements in y: {len(y)}\")\n",
    "print(f\"# of unique elements in y (0, 1): {np.unique(y)}\")\n",
    "print(f\"# of malware samples: {len(y[y == 1])}\")\n",
    "print(f\"# of goodware samples: {len(y[y == 0])}\")\n",
    "\n",
    "print(f\"\\n# elements in temp: {len(temp)}\")"
   ]
  },
  {
   "cell_type": "markdown",
   "metadata": {},
   "source": [
    "### Create DexRay Model with Keras"
   ]
  },
  {
   "cell_type": "code",
   "execution_count": 14,
   "metadata": {},
   "outputs": [],
   "source": [
    "model_architecture = Sequential()\n",
    "model_architecture.add(\n",
    "    Conv1D(\n",
    "        filters=64,\n",
    "        kernel_size=12,\n",
    "        activation=\"relu\",\n",
    "        input_shape=(IMG_SIZE * IMG_SIZE, 1),\n",
    "    )\n",
    ")\n",
    "model_architecture.add(MaxPooling1D(pool_size=12))\n",
    "model_architecture.add(Conv1D(filters=128, kernel_size=12, activation=\"relu\"))\n",
    "model_architecture.add(MaxPooling1D(pool_size=12))\n",
    "model_architecture.add(Flatten())\n",
    "model_architecture.add(Dense(64, activation=\"sigmoid\"))\n",
    "model_architecture.add(Dense(1, activation=\"sigmoid\"))\n",
    "\n",
    "model = keras.models.clone_model(model_architecture)\n",
    "model.compile(\n",
    "    optimizer=\"adam\",\n",
    "    loss=tf.keras.losses.BinaryCrossentropy(),\n",
    ")"
   ]
  },
  {
   "cell_type": "code",
   "execution_count": 91,
   "metadata": {},
   "outputs": [],
   "source": [
    "# Define a custom fit function so that we can change the number of epochs.\n",
    "es_callback = tf.keras.callbacks.EarlyStopping(\n",
    "    monitor=\"loss\", patience=50, restore_best_weights=True\n",
    ")\n",
    "\n",
    "def fit_with_epochs(X_train, y_train):\n",
    "    model.fit(\n",
    "        X_train,\n",
    "        y_train,\n",
    "        shuffle=True,\n",
    "        epochs=200, # TODO: hardcoded for now because just wanna try\n",
    "        callbacks=[es_callback],\n",
    "        verbose=2,\n",
    "    )\n",
    "\n",
    "def predict_keras(X_test):\n",
    "    probabilities = model.predict(X_test, verbose=0)\n",
    "    return (probabilities > 0.5).astype(int).flatten()  # Convert to 1D array of labels"
   ]
  },
  {
   "cell_type": "markdown",
   "metadata": {},
   "source": [
    "### Tesseract\n",
    "\n",
    "Split the data with Tesseract's `time_aware_train_test_split`"
   ]
  },
  {
   "cell_type": "code",
   "execution_count": 92,
   "metadata": {},
   "outputs": [
    {
     "name": "stdout",
     "output_type": "stream",
     "text": [
      "X_train: (6103, 16384)\n",
      "X_test: 21\n"
     ]
    }
   ],
   "source": [
    "splits = temporal.time_aware_train_test_split(\n",
    "    X, y, temp, train_size=96, test_size=2, granularity='month'\n",
    ")\n",
    "X_train, X_test, y_train, y_test, t_train, t_test = splits\n",
    "\n",
    "print(f\"X_train: {X_train.shape}\") # Sanity Check\n",
    "print(f\"X_test: {len(X_test)}\") # Sanity Check"
   ]
  },
  {
   "cell_type": "code",
   "execution_count": 93,
   "metadata": {},
   "outputs": [],
   "source": [
    "# Downsample so that there's the requested percentage of malware in the training data\n",
    "downsample = False\n",
    "if downsample:    \n",
    "    train_idxs = spatial.downsample_to_rate(y_train, 0.70)\n",
    "\n",
    "    X_train = X_train[train_idxs]\n",
    "    y_train = y_train[train_idxs]\n",
    "    temp_train = t_train[train_idxs]\n",
    "\n",
    "    print(f\"# of malware samples: {len(y_train[y_train == 1])}\")\n",
    "    print(f\"# of goodware samples: {len(y_train[y_train == 0])}\")"
   ]
  },
  {
   "cell_type": "code",
   "execution_count": 94,
   "metadata": {},
   "outputs": [
    {
     "name": "stderr",
     "output_type": "stream",
     "text": [
      "\n",
      "\n",
      "\n",
      "\n",
      "\u001b[A\u001b[A\u001b[A\u001b[A"
     ]
    },
    {
     "name": "stdout",
     "output_type": "stream",
     "text": [
      "Epoch 1/200\n",
      "191/191 - 26s - loss: 3.4143e-04 - 26s/epoch - 136ms/step\n",
      "Epoch 2/200\n",
      "191/191 - 26s - loss: 3.3132e-04 - 26s/epoch - 135ms/step\n",
      "Epoch 3/200\n",
      "191/191 - 26s - loss: 3.4456e-04 - 26s/epoch - 134ms/step\n",
      "Epoch 4/200\n",
      "191/191 - 26s - loss: 3.4413e-04 - 26s/epoch - 134ms/step\n",
      "Epoch 5/200\n",
      "191/191 - 26s - loss: 3.4289e-04 - 26s/epoch - 134ms/step\n",
      "Epoch 6/200\n",
      "191/191 - 26s - loss: 3.4335e-04 - 26s/epoch - 134ms/step\n",
      "Epoch 7/200\n",
      "191/191 - 26s - loss: 3.4190e-04 - 26s/epoch - 134ms/step\n",
      "Epoch 8/200\n",
      "191/191 - 26s - loss: 3.4267e-04 - 26s/epoch - 134ms/step\n",
      "Epoch 9/200\n",
      "191/191 - 26s - loss: 3.3901e-04 - 26s/epoch - 135ms/step\n",
      "Epoch 10/200\n",
      "191/191 - 26s - loss: 3.4362e-04 - 26s/epoch - 135ms/step\n",
      "Epoch 11/200\n",
      "191/191 - 27s - loss: 3.3441e-04 - 27s/epoch - 140ms/step\n",
      "Epoch 12/200\n",
      "191/191 - 26s - loss: 3.4848e-04 - 26s/epoch - 134ms/step\n",
      "Epoch 13/200\n",
      "191/191 - 26s - loss: 3.4064e-04 - 26s/epoch - 135ms/step\n",
      "Epoch 14/200\n",
      "191/191 - 26s - loss: 3.4829e-04 - 26s/epoch - 135ms/step\n",
      "Epoch 15/200\n",
      "191/191 - 26s - loss: 3.3320e-04 - 26s/epoch - 134ms/step\n",
      "Epoch 16/200\n",
      "191/191 - 26s - loss: 3.4026e-04 - 26s/epoch - 134ms/step\n",
      "Epoch 17/200\n",
      "191/191 - 26s - loss: 3.3804e-04 - 26s/epoch - 134ms/step\n",
      "Epoch 18/200\n",
      "191/191 - 26s - loss: 3.4319e-04 - 26s/epoch - 134ms/step\n",
      "Epoch 19/200\n",
      "191/191 - 26s - loss: 3.4072e-04 - 26s/epoch - 135ms/step\n",
      "Epoch 20/200\n",
      "191/191 - 26s - loss: 3.4362e-04 - 26s/epoch - 135ms/step\n",
      "Epoch 21/200\n",
      "191/191 - 26s - loss: 3.2995e-04 - 26s/epoch - 134ms/step\n",
      "Epoch 22/200\n",
      "191/191 - 26s - loss: 3.4017e-04 - 26s/epoch - 134ms/step\n",
      "Epoch 23/200\n",
      "191/191 - 26s - loss: 3.3989e-04 - 26s/epoch - 134ms/step\n",
      "Epoch 24/200\n",
      "191/191 - 26s - loss: 3.3975e-04 - 26s/epoch - 134ms/step\n",
      "Epoch 25/200\n",
      "191/191 - 26s - loss: 3.3635e-04 - 26s/epoch - 135ms/step\n",
      "Epoch 26/200\n",
      "191/191 - 26s - loss: 3.3306e-04 - 26s/epoch - 134ms/step\n",
      "Epoch 27/200\n",
      "191/191 - 26s - loss: 3.3937e-04 - 26s/epoch - 134ms/step\n",
      "Epoch 28/200\n",
      "191/191 - 26s - loss: 3.3692e-04 - 26s/epoch - 134ms/step\n",
      "Epoch 29/200\n",
      "191/191 - 26s - loss: 3.4047e-04 - 26s/epoch - 134ms/step\n",
      "Epoch 30/200\n",
      "191/191 - 26s - loss: 3.3616e-04 - 26s/epoch - 135ms/step\n",
      "Epoch 31/200\n",
      "191/191 - 26s - loss: 3.3777e-04 - 26s/epoch - 135ms/step\n",
      "Epoch 32/200\n",
      "191/191 - 26s - loss: 3.4284e-04 - 26s/epoch - 134ms/step\n",
      "Epoch 33/200\n",
      "191/191 - 26s - loss: 3.3856e-04 - 26s/epoch - 134ms/step\n",
      "Epoch 34/200\n",
      "191/191 - 26s - loss: 3.3894e-04 - 26s/epoch - 134ms/step\n",
      "Epoch 35/200\n",
      "191/191 - 26s - loss: 3.3337e-04 - 26s/epoch - 134ms/step\n",
      "Epoch 36/200\n",
      "191/191 - 26s - loss: 3.3394e-04 - 26s/epoch - 134ms/step\n",
      "Epoch 37/200\n",
      "191/191 - 26s - loss: 3.3841e-04 - 26s/epoch - 134ms/step\n",
      "Epoch 38/200\n",
      "191/191 - 26s - loss: 3.3920e-04 - 26s/epoch - 134ms/step\n",
      "Epoch 39/200\n",
      "191/191 - 26s - loss: 3.3567e-04 - 26s/epoch - 134ms/step\n",
      "Epoch 40/200\n",
      "191/191 - 26s - loss: 3.3331e-04 - 26s/epoch - 134ms/step\n",
      "Epoch 41/200\n",
      "191/191 - 26s - loss: 3.3877e-04 - 26s/epoch - 134ms/step\n",
      "Epoch 42/200\n",
      "191/191 - 26s - loss: 3.4720e-04 - 26s/epoch - 135ms/step\n",
      "Epoch 43/200\n",
      "191/191 - 26s - loss: 3.4006e-04 - 26s/epoch - 135ms/step\n",
      "Epoch 44/200\n",
      "191/191 - 26s - loss: 3.3781e-04 - 26s/epoch - 135ms/step\n",
      "Epoch 45/200\n",
      "191/191 - 26s - loss: 3.3662e-04 - 26s/epoch - 135ms/step\n",
      "Epoch 46/200\n",
      "191/191 - 26s - loss: 3.2574e-04 - 26s/epoch - 135ms/step\n",
      "Epoch 47/200\n",
      "191/191 - 26s - loss: 3.3705e-04 - 26s/epoch - 135ms/step\n",
      "Epoch 48/200\n",
      "191/191 - 26s - loss: 3.4157e-04 - 26s/epoch - 134ms/step\n",
      "Epoch 49/200\n",
      "191/191 - 26s - loss: 3.3838e-04 - 26s/epoch - 135ms/step\n",
      "Epoch 50/200\n",
      "191/191 - 26s - loss: 3.2435e-04 - 26s/epoch - 134ms/step\n",
      "Epoch 51/200\n",
      "191/191 - 26s - loss: 3.3672e-04 - 26s/epoch - 134ms/step\n",
      "Epoch 52/200\n",
      "191/191 - 26s - loss: 3.3650e-04 - 26s/epoch - 134ms/step\n",
      "Epoch 53/200\n",
      "191/191 - 26s - loss: 3.3456e-04 - 26s/epoch - 135ms/step\n",
      "Epoch 54/200\n",
      "191/191 - 26s - loss: 3.3659e-04 - 26s/epoch - 135ms/step\n",
      "Epoch 55/200\n",
      "191/191 - 26s - loss: 3.3917e-04 - 26s/epoch - 135ms/step\n",
      "Epoch 56/200\n",
      "191/191 - 26s - loss: 3.3794e-04 - 26s/epoch - 135ms/step\n",
      "Epoch 57/200\n",
      "191/191 - 26s - loss: 3.4231e-04 - 26s/epoch - 135ms/step\n",
      "Epoch 58/200\n",
      "191/191 - 26s - loss: 3.3835e-04 - 26s/epoch - 135ms/step\n",
      "Epoch 59/200\n",
      "191/191 - 26s - loss: 3.3976e-04 - 26s/epoch - 135ms/step\n",
      "Epoch 60/200\n",
      "191/191 - 26s - loss: 3.3911e-04 - 26s/epoch - 134ms/step\n",
      "Epoch 61/200\n",
      "191/191 - 26s - loss: 3.3905e-04 - 26s/epoch - 134ms/step\n",
      "Epoch 62/200\n",
      "191/191 - 26s - loss: 3.4598e-04 - 26s/epoch - 134ms/step\n",
      "Epoch 63/200\n",
      "191/191 - 26s - loss: 3.3952e-04 - 26s/epoch - 134ms/step\n",
      "Epoch 64/200\n",
      "191/191 - 26s - loss: 3.3639e-04 - 26s/epoch - 135ms/step\n",
      "Epoch 65/200\n",
      "191/191 - 26s - loss: 3.2178e-04 - 26s/epoch - 135ms/step\n",
      "Epoch 66/200\n",
      "191/191 - 26s - loss: 3.3341e-04 - 26s/epoch - 135ms/step\n",
      "Epoch 67/200\n",
      "191/191 - 26s - loss: 3.3849e-04 - 26s/epoch - 134ms/step\n",
      "Epoch 68/200\n",
      "191/191 - 26s - loss: 3.3914e-04 - 26s/epoch - 134ms/step\n",
      "Epoch 69/200\n",
      "191/191 - 26s - loss: 3.3920e-04 - 26s/epoch - 135ms/step\n",
      "Epoch 70/200\n",
      "191/191 - 26s - loss: 3.3772e-04 - 26s/epoch - 135ms/step\n",
      "Epoch 71/200\n",
      "191/191 - 26s - loss: 3.3587e-04 - 26s/epoch - 135ms/step\n",
      "Epoch 72/200\n",
      "191/191 - 26s - loss: 3.4294e-04 - 26s/epoch - 135ms/step\n",
      "Epoch 73/200\n",
      "191/191 - 26s - loss: 3.4830e-04 - 26s/epoch - 135ms/step\n",
      "Epoch 74/200\n",
      "191/191 - 26s - loss: 3.3174e-04 - 26s/epoch - 134ms/step\n",
      "Epoch 75/200\n",
      "191/191 - 26s - loss: 3.3627e-04 - 26s/epoch - 135ms/step\n",
      "Epoch 76/200\n",
      "191/191 - 26s - loss: 3.3771e-04 - 26s/epoch - 135ms/step\n",
      "Epoch 77/200\n",
      "191/191 - 26s - loss: 3.3841e-04 - 26s/epoch - 135ms/step\n",
      "Epoch 78/200\n",
      "191/191 - 26s - loss: 3.3697e-04 - 26s/epoch - 135ms/step\n",
      "Epoch 79/200\n",
      "191/191 - 26s - loss: 3.3012e-04 - 26s/epoch - 134ms/step\n",
      "Epoch 80/200\n",
      "191/191 - 26s - loss: 3.3886e-04 - 26s/epoch - 135ms/step\n",
      "Epoch 81/200\n",
      "191/191 - 26s - loss: 3.3905e-04 - 26s/epoch - 135ms/step\n",
      "Epoch 82/200\n",
      "191/191 - 26s - loss: 3.2773e-04 - 26s/epoch - 135ms/step\n",
      "Epoch 83/200\n",
      "191/191 - 26s - loss: 3.3591e-04 - 26s/epoch - 135ms/step\n",
      "Epoch 84/200\n",
      "191/191 - 26s - loss: 3.3596e-04 - 26s/epoch - 135ms/step\n",
      "Epoch 85/200\n",
      "191/191 - 26s - loss: 3.3578e-04 - 26s/epoch - 135ms/step\n",
      "Epoch 86/200\n",
      "191/191 - 26s - loss: 3.3837e-04 - 26s/epoch - 135ms/step\n",
      "Epoch 87/200\n",
      "191/191 - 26s - loss: 3.2654e-04 - 26s/epoch - 135ms/step\n",
      "Epoch 88/200\n",
      "191/191 - 26s - loss: 3.3447e-04 - 26s/epoch - 134ms/step\n",
      "Epoch 89/200\n",
      "191/191 - 26s - loss: 3.3655e-04 - 26s/epoch - 135ms/step\n",
      "Epoch 90/200\n",
      "191/191 - 26s - loss: 3.3111e-04 - 26s/epoch - 135ms/step\n",
      "Epoch 91/200\n",
      "191/191 - 26s - loss: 3.3852e-04 - 26s/epoch - 135ms/step\n",
      "Epoch 92/200\n",
      "191/191 - 26s - loss: 3.3213e-04 - 26s/epoch - 135ms/step\n",
      "Epoch 93/200\n",
      "191/191 - 26s - loss: 3.3393e-04 - 26s/epoch - 135ms/step\n",
      "Epoch 94/200\n",
      "191/191 - 26s - loss: 3.3452e-04 - 26s/epoch - 134ms/step\n",
      "Epoch 95/200\n",
      "191/191 - 26s - loss: 3.3488e-04 - 26s/epoch - 135ms/step\n",
      "Epoch 96/200\n",
      "191/191 - 26s - loss: 3.3795e-04 - 26s/epoch - 134ms/step\n",
      "Epoch 97/200\n",
      "191/191 - 26s - loss: 3.2824e-04 - 26s/epoch - 135ms/step\n",
      "Epoch 98/200\n",
      "191/191 - 26s - loss: 3.3659e-04 - 26s/epoch - 134ms/step\n",
      "Epoch 99/200\n",
      "191/191 - 26s - loss: 3.4059e-04 - 26s/epoch - 134ms/step\n",
      "Epoch 100/200\n",
      "191/191 - 26s - loss: 3.4258e-04 - 26s/epoch - 135ms/step\n",
      "Epoch 101/200\n",
      "191/191 - 26s - loss: 3.3225e-04 - 26s/epoch - 134ms/step\n",
      "Epoch 102/200\n",
      "191/191 - 26s - loss: 3.3167e-04 - 26s/epoch - 135ms/step\n",
      "Epoch 103/200\n",
      "191/191 - 26s - loss: 3.3689e-04 - 26s/epoch - 134ms/step\n",
      "Epoch 104/200\n",
      "191/191 - 26s - loss: 3.3898e-04 - 26s/epoch - 135ms/step\n",
      "Epoch 105/200\n",
      "191/191 - 26s - loss: 3.4061e-04 - 26s/epoch - 135ms/step\n",
      "Epoch 106/200\n",
      "191/191 - 26s - loss: 3.3426e-04 - 26s/epoch - 134ms/step\n",
      "Epoch 107/200\n",
      "191/191 - 26s - loss: 3.3758e-04 - 26s/epoch - 135ms/step\n",
      "Epoch 108/200\n",
      "191/191 - 26s - loss: 3.3453e-04 - 26s/epoch - 134ms/step\n",
      "Epoch 109/200\n",
      "191/191 - 26s - loss: 3.3888e-04 - 26s/epoch - 135ms/step\n",
      "Epoch 110/200\n",
      "191/191 - 26s - loss: 3.3813e-04 - 26s/epoch - 135ms/step\n",
      "Epoch 111/200\n",
      "191/191 - 26s - loss: 3.3006e-04 - 26s/epoch - 135ms/step\n",
      "Epoch 112/200\n",
      "191/191 - 26s - loss: 3.3742e-04 - 26s/epoch - 135ms/step\n",
      "Epoch 113/200\n",
      "191/191 - 26s - loss: 3.3580e-04 - 26s/epoch - 135ms/step\n",
      "Epoch 114/200\n",
      "191/191 - 26s - loss: 3.3542e-04 - 26s/epoch - 134ms/step\n",
      "Epoch 115/200\n",
      "191/191 - 26s - loss: 3.3895e-04 - 26s/epoch - 135ms/step\n"
     ]
    },
    {
     "name": "stderr",
     "output_type": "stream",
     "text": [
      "\n",
      "\n",
      "\n",
      "\n",
      "\u001b[A\u001b[A\u001b[A\u001b[A\n",
      "\n",
      "\n",
      "\n",
      "\u001b[A\u001b[A\u001b[A\u001b[A\n",
      "\n",
      "\n",
      "\n",
      "\u001b[A\u001b[A\u001b[A\u001b[A\n",
      "\n",
      "\n",
      "\n",
      "\u001b[A\u001b[A\u001b[A\u001b[A\n",
      "\n",
      "\n",
      "\n",
      "\u001b[A\u001b[A\u001b[A\u001b[A\n",
      "\n",
      "\n",
      "\n",
      "\u001b[A\u001b[A\u001b[A\u001b[A\n",
      "\n",
      "\n",
      "\n",
      "\u001b[A\u001b[A\u001b[A\u001b[A\n",
      "\n",
      "\n",
      "\n",
      "\u001b[A\u001b[A\u001b[A\u001b[A\n",
      "\n",
      "\n",
      "\n",
      "\u001b[A\u001b[A\u001b[A\u001b[A\n",
      "\n",
      "\n",
      "\n",
      "\u001b[A\u001b[A\u001b[A\u001b[A\n",
      "\n",
      "\n",
      "\n",
      "\u001b[A\u001b[A\u001b[A\u001b[A\n",
      "\n",
      "\n",
      "\n",
      "\u001b[A\u001b[A\u001b[A\u001b[A\n",
      "\n",
      "\n",
      "\n",
      "\u001b[A\u001b[A\u001b[A\u001b[A\n",
      "\n",
      "\n",
      "\n",
      "\u001b[A\u001b[A\u001b[A\u001b[A\n",
      "\n",
      "\n",
      "\n",
      "\u001b[A\u001b[A\u001b[A\u001b[A\n",
      "\n",
      "\n",
      "\n",
      "\u001b[A\u001b[A\u001b[A\u001b[A\n",
      "\n",
      "\n",
      "\n",
      "\u001b[A\u001b[A\u001b[A\u001b[A\n",
      "\n",
      "\n",
      "\n",
      "\u001b[A\u001b[A\u001b[A\u001b[A\n",
      "\n",
      "\n",
      "\n",
      "\u001b[A\u001b[A\u001b[A\u001b[A\n",
      "\n",
      "\n",
      "\n",
      "\u001b[A\u001b[A\u001b[A\u001b[A\n",
      "\n",
      "\n",
      "\n",
      "\u001b[A\u001b[A\u001b[A\u001b[A\n",
      "\n",
      "\n",
      "\n",
      "\u001b[A\u001b[A\u001b[A\u001b[A"
     ]
    }
   ],
   "source": [
    "results = evaluation.fit_predict_update(model, *splits, fit_function=fit_with_epochs, predict_function=predict_keras)"
   ]
  },
  {
   "cell_type": "code",
   "execution_count": 98,
   "metadata": {},
   "outputs": [
    {
     "name": "stderr",
     "output_type": "stream",
     "text": [
      "WARNING:absl:Found untraced functions such as _jit_compiled_convolution_op, _jit_compiled_convolution_op, _update_step_xla while saving (showing 3 of 3). These functions will not be directly callable after loading.\n"
     ]
    },
    {
     "name": "stdout",
     "output_type": "stream",
     "text": [
      "INFO:tensorflow:Assets written to: /scratch/users/mbenali/tesseract-ml-release/model-200-epochs/assets\n"
     ]
    },
    {
     "name": "stderr",
     "output_type": "stream",
     "text": [
      "INFO:tensorflow:Assets written to: /scratch/users/mbenali/tesseract-ml-release/model-200-epochs/assets\n"
     ]
    }
   ],
   "source": [
    "# Save the model\n",
    "model.save(\"/scratch/users/mbenali/tesseract-ml-release/model-200-epochs\")"
   ]
  },
  {
   "cell_type": "code",
   "execution_count": 100,
   "metadata": {},
   "outputs": [
    {
     "name": "stdout",
     "output_type": "stream",
     "text": [
      "------------+---------------------------------------------------------------------------------------------------------------------------------------------------\n",
      "Test period |     1      2      3      4      5      6      7      8      9     10     11     12     13     14     15     16     17     18     19     20     21   \n",
      "------------+---------------------------------------------------------------------------------------------------------------------------------------------------\n",
      "Actual pos  |     38     74     16     36     62     21     18     14     13     13     26     23     15     38    103     75     15      9     54     43      6\n",
      "Actual neg  |    115    133     33     46     98    245     96     55     60     41     46     63     61    220    406    141     95     42     43    161     16\n",
      "Total       |    153    207     49     82    160    266    114     69     73     54     72     86     76    258    509    216    110     51     97    204     22\n",
      "------------+---------------------------------------------------------------------------------------------------------------------------------------------------\n",
      "TPR         |  0.553  0.595  0.750  0.750  0.645  0.619  0.444  0.429  0.846  0.462  0.462  0.478  0.667  0.289  0.757  0.667  0.533  0.667  0.611  0.651  0.667\n",
      "FPR         |  0.130  0.180  0.152  0.217  0.204  0.147  0.188  0.200  0.250  0.268  0.196  0.127  0.230  0.136  0.182  0.305  0.232  0.214  0.163  0.273  0.125\n",
      "TNR         |  0.870  0.820  0.848  0.783  0.796  0.853  0.812  0.800  0.750  0.732  0.804  0.873  0.770  0.864  0.818  0.695  0.768  0.786  0.837  0.727  0.875\n",
      "FNR         |  0.447  0.405  0.250  0.250  0.355  0.381  0.556  0.571  0.154  0.538  0.538  0.522  0.333  0.711  0.243  0.333  0.467  0.333  0.389  0.349  0.333\n",
      "------------+---------------------------------------------------------------------------------------------------------------------------------------------------\n",
      "Precision   |  0.583  0.647  0.706  0.730  0.667  0.265  0.308  0.353  0.423  0.353  0.571  0.579  0.417  0.268  0.513  0.538  0.267  0.400  0.825  0.389  0.667\n",
      "Recall      |  0.553  0.595  0.750  0.750  0.645  0.619  0.444  0.429  0.846  0.462  0.462  0.478  0.667  0.289  0.757  0.667  0.533  0.667  0.611  0.651  0.667\n",
      "F1          |  0.568  0.620  0.727  0.740  0.656  0.371  0.364  0.387  0.564  0.400  0.511  0.524  0.513  0.278  0.612  0.595  0.356  0.500  0.702  0.487  0.667\n",
      "------------+---------------------------------------------------------------------------------------------------------------------------------------------------\n"
     ]
    }
   ],
   "source": [
    "metrics.print_metrics(results)"
   ]
  },
  {
   "cell_type": "code",
   "execution_count": 101,
   "metadata": {},
   "outputs": [
    {
     "name": "stdout",
     "output_type": "stream",
     "text": [
      "F1 AUT: 0.5261614022537773\n",
      "Recall AUT: 0.5965661305667187\n",
      "Precision AUT: 0.4921489213682021\n"
     ]
    },
    {
     "data": {
      "image/png": "[encoded data removed]",
      "text/plain": [
       "<Figure size 640x480 with 1 Axes>"
      ]
     },
     "metadata": {},
     "output_type": "display_data"
    }
   ],
   "source": [
    "print(f\"F1 AUT: {metrics.aut(results, 'f1')}\")\n",
    "print(f\"Recall AUT: {metrics.aut(results, 'recall')}\")\n",
    "print(f\"Precision AUT: {metrics.aut(results, 'precision')}\")\n",
    "#%%\n",
    "from pylab import *\n",
    "\n",
    "pendleblue='#1f8fff'\n",
    "pendleyellow='#ffa600'\n",
    "\n",
    "'#FF9999', '#FFDD99', '#AAEEEE'\n",
    "plot(results['precision'], marker='o', color=pendleyellow)\n",
    "plot(results['recall'], marker='o', color='red')\n",
    "plot(results['f1'], marker='o', color=pendleblue)\n",
    "legend(['Precision', 'Recall', 'F1'])\n",
    "xlim([0,23])\n",
    "xlabel('Testing period (month)')\n",
    "ylabel('Performance')\n",
    "grid(axis = 'y')"
   ]
  },
  {
   "cell_type": "markdown",
   "metadata": {},
   "source": [
    "Conclusion: We might be training and predicting over too many months/years, which causes the metrics to jump like this? "
   ]
  }
 ],
 "metadata": {
  "kernelspec": {
   "display_name": "tesseract",
   "language": "python",
   "name": "python3"
  },
  "language_info": {
   "codemirror_mode": {
    "name": "ipython",
    "version": 3
   },
   "file_extension": ".py",
   "mimetype": "text/x-python",
   "name": "python",
   "nbconvert_exporter": "python",
   "pygments_lexer": "ipython3",
   "version": "3.10.15"
  }
 },
 "nbformat": 4,
 "nbformat_minor": 2
}
